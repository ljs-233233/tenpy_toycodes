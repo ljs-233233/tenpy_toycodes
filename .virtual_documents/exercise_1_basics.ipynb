





import numpy as np





import matplotlib.pyplot as plt

np.set_printoptions(precision=5, suppress=True, linewidth=100, threshold=50)
plt.rcParams['figure.dpi'] = 150





# np.eye = identity matrix of given dimension 2
Id = np.eye(2)  
Id


# specify each element 
X = np.array([[0, 1.], [1., 0.]])  
X


# initialize empty matrix of dimensions 2x2
Y = np.zeros([2, 2], dtype=np.complex_) 
# and explicitly set non-zero entries
Y[0, 1] = -1.j  # j = imaginary unit
Y[1, 0] = 1.j
Y


# only specify the diagonal of a matrix
Z = np.diag([1., -1.]) 
Z





for M in [Id, X, Y, Z]:
    print(M.shape, M.dtype)





up = np.array([1., 0])
up


down = np.array([0., 1.])
down





Z + 5 * X


plus_x = (up + down) / np.sqrt(2)  # sqrt = square root
plus_x





Y, np.conj(Y)





minus_x = (1 / np.sqrt(2)) * (up - down)


minus_x





def random_vector(size, rng=np.random.default_rng(seed=1234)):
    """Return a normalized random vector of given shape pointing uniformly in any direction."""
    vector = rng.normal(size=size) + 1.j * rng.normal(size=size)
    return vector / np.linalg.norm(vector)


random_vector(3)





plus_x # leg i


X # legs i i*


np.conj(plus_x) # leg i*





singlet = np.zeros([2, 2])  # legs i, j
singlet[0, 1] =  1./np.sqrt(2)
singlet[1, 0] = -1./np.sqrt(2)
singlet





singlet_group = np.reshape(singlet, [2*2]) # legs i j -> (i.j)
singlet_group





singlet_split = np.reshape(singlet_group, [2, 2]) #  legs (i.j) -> i j
singlet_split





theta = random_vector([2, 3, 4, 5])  # legs a b c d
print(theta.shape)


theta_group = np.reshape(np.transpose(theta, [0, 2, 1, 3]), # a b c d -> a c b d
                         [2*4, 3*5]) # a c b d -> (a.c) (b.d)
theta_group.shape


theta_split = np.reshape(theta_group, [2, 4, 3, 5]) # (a.c) (b.d) -> a c b d





np.linalg.norm(theta_split.transpose([0, 2, 1, 3])  # a c b d -> a b c d
               -theta)





psi = random_vector([2 for _ in np.arange(6)]) # legs a b c d e f
print(psi.shape)


psi_reshape = np.reshape(psi, [2**3, 2**3]) # legs (a.b.c) (d.e.f)
print(psi_reshape.shape)





np.tensordot(X, up, axes=(1, 0)) # i [i*], [i] -> i





np.tensordot(X, Y, axes=(1, 0))  # i [i*], [i] i* -> i i*





np.tensordot(np.conj(plus_x), up, axes=(0, 0))  # [i*], [i] -> scalar





ZZ = np.tensordot(Z, Z, axes=0)  # i i*, j j* -> i i* j j*





ZZ_g = np.transpose(ZZ, [0, 2, 1, 3])  # i i* j j* -> i j i* j*
ZZ_g = np.reshape(ZZ_g, [2*2, 2*2])    # i j i* j* -> (i.j) (i*.j*)
ZZ_g





ZZ # i i* j j*
Theta = random_vector([3, 2, 2, 4]) # a i j b
# contract i* of ZZ with 
ZZ_Theta = np.tensordot(ZZ, Theta, axes=([1, 3], [1, 2])) # i [i*] j [j*], a [i] [j] b -> i j a b
ZZ_Theta.shape





np.tensordot(np.conj(plus_x), plus_x, axes=(0, 0)) # [i*], [i] -> scalar


Xplus_x = np.tensordot(X, plus_x, axes=(1, 0)) # i [i*], [i] -> i
np.tensordot(np.conj(plus_x), Xplus_x, axes=(0, 0)) # [i*], [i] -> scalar


Zplus_x = np.tensordot(Z, plus_x, axes=(1, 0)) # i [i*], [i] -> i
np.tensordot(np.conj(plus_x), Zplus_x, axes=(0, 0)) # [i*], [i] -> scalar





h = np.tensordot(X, X, axes=0) + np.tensordot(Y, Y, axes=0) + np.tensordot(Z, Z, axes=0) # i i*, j j* -> i i* j j*
h = np.transpose(h, [0, 2, 1, 3])  # i i* j j* -> i j i* j*
h.shape





hsinglet = np.tensordot(h, singlet, axes=([2, 3], [0, 1])) # i j [i* j*] [i j] -> i j
np.tensordot(np.conj(singlet), hsinglet, axes=([0, 1], [0, 1])) # [i* j*] [i j] -> scalar








# define singlet again, same as above
singlet = np.zeros([2, 2])  # i j
singlet[0, 1] =  1./np.sqrt(2)
singlet[1, 0] = -1./np.sqrt(2)
singlet


A, S, B = np.linalg.svd(singlet, full_matrices=False) # i j -> i a, a, a j
S  # Schmidt values





contr = np.tensordot(np.diag(S), B, axes=[1, 0]) # a [a*], [a] j -> a j
contr = np.tensordot(A, contr, axes=[1, 0]) # i [a], [a] j -> i j
contr


np.sum(S*S)  # normalization of the state implies sum(S*S) = 1


def entropy(sing_vals):
    """Return von Neumann entropy."""
    # first discard small singular values, since 0 * log(0) -> 0
    # but log(0) not defined
    S = sing_vals[sing_vals>1.e-15]
    S2 = S*S
    S2 /= np.sum(S2)  # ensure normalization
    return - np.sum(S2 * np.log(S2))


entropy(S) / np.log(2)





L = 12


psi_random = random_vector([2]*L)  # L legs
psi_random = np.reshape(psi_random, [2**(L//2), 2**(L//2)])  # combined legs (i0.i1...i{L/2-1}) (i{L/2}...i{L})
np.shape(psi_random)





A_random, S_random, B_random = np.linalg.svd(psi_random, full_matrices=False)
entropy(S_random) / np.log(2)


(L/2) * np.log(2)





from tenpy_toycodes.tfi_exact import finite_gs_energy

energy, psi_ground_state = finite_gs_energy(L=L, J=1., g=1.1, return_psi=True)
psi_ground_state.shape


psi_ground_state = np.reshape(psi_ground_state, [2**(L//2), 2**(L//2)]) # combined left and right legs
A_ground_state, S_ground_state, B_ground_state = np.linalg.svd(psi_ground_state, full_matrices=False)
entropy(S_ground_state) / np.log(2)





plt.figure(figsize=(4,3))
plt.plot(S_random, 'o', label='random state')
plt.plot(S_ground_state, 's', label='ground state')
plt.yscale('log')
plt.ylim(1.e-15, 1.)
plt.xlim(0, 30)
plt.xlabel(r'singular value index $\alpha$')
plt.ylabel(r'singular values $\lambda_\alpha$')
plt.legend(loc='lower left')





chi = 5
A_trunc = A_ground_state[:, :chi]
S_trunc = S_ground_state[:chi]
S_trunc = S_trunc / np.linalg.norm(S_trunc) # normalize to 1 again
B_trunc = B_ground_state[:chi, :]
psi_trunc = np.tensordot(np.diag(S_trunc), B_trunc, axes=[1, 0]) # a [a*], [a] j -> a j
psi_trunc = np.tensordot(A_trunc, psi_trunc, axes=[1, 0]) # i [a], [a] j -> i j
overlap = np.tensordot(np.conj(psi_trunc), psi_ground_state, axes=([0, 1], [0, 1])) # [i*] [j*], [i] [j]
err = 1. - np.abs(overlap)
err





def find_error(chi):
    A_trunc = A_ground_state[:, :chi]
    S_trunc = S_ground_state[:chi]
    S_trunc = S_trunc / np.linalg.norm(S_trunc) # normalize to 1 again
    B_trunc = B_ground_state[:chi, :]
    psi_trunc = np.tensordot(np.diag(S_trunc), B_trunc, axes=[1, 0]) # a [a*], [a] j -> a j
    psi_trunc = np.tensordot(A_trunc, psi_trunc, axes=[1, 0]) # i [a], [a] j -> i j
    overlap = np.tensordot(np.conj(psi_trunc), psi_ground_state, axes=([0, 1], [0, 1])) # [i*] [j*], [i] [j]
    err = 1. - np.abs(overlap)
    return err


errs = [find_error(chi) for chi in np.arange(1, 17)]
errs


chi = 32
A_trunc = A_ground_state[:, :chi]
S_trunc = S_ground_state[:chi]
S_trunc = S_trunc / np.linalg.norm(S_trunc) # normalize to 1 again
B_trunc = B_ground_state[:chi, :]
psi_trunc = np.tensordot(np.diag(S_trunc), B_trunc, axes=[1, 0]) # a [a*], [a] j -> a j
psi_trunc = np.tensordot(A_trunc, psi_trunc, axes=[1, 0]) # i [a], [a] j -> i j
overlap = np.tensordot(np.conj(psi_trunc), psi_ground_state, axes=([0, 1], [0, 1])) # [i*] [j*], [i] [j]
err = 1. - np.abs(overlap)
np.abs(overlap)





def find_entropy(chi):
    S_trunc = S_ground_state[:chi]
    S_trunc = S_trunc / np.linalg.norm(S_trunc) # normalize to 1 again
    return entropy(S_trunc)


ents = [find_entropy(chi) for chi in np.arange(1, 17)]
ents









