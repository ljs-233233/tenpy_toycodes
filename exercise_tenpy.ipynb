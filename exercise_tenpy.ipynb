{
 "cells": [
  {
   "cell_type": "markdown",
   "id": "74eb0695",
   "metadata": {},
   "source": [
    "# Exercises similar to `exercise_toycodes.ipynb` using TeNPy"
   ]
  },
  {
   "cell_type": "markdown",
   "id": "6c1d1329-b87c-46cc-9703-5aa6144aa292",
   "metadata": {},
   "source": [
    "Uncomment and run the cells below (removing the `#`) when running this notebook on https://colab.research.google.com.\n",
    "\n",
    "Alternatively, you can run this notebook locally with jupyter, provided that you have the `toycodes` subfolder from \n",
    "https://github.com/tenpy/tenpy_toycodes\n",
    "in the same folder as your notebook."
   ]
  },
  {
   "cell_type": "code",
   "execution_count": null,
   "id": "cd54364b-4ac1-47bf-8c41-bd51b274eeec",
   "metadata": {},
   "outputs": [],
   "source": [
    "#!pip install git+https://github.com/tenpy/tenpy_toycodes.git\n",
    "#!pip install git+https://github.com/tenpy/tenpy.git\n",
    "\n",
    "# use `pip uninstall tenpy-toycodes physics-tenpy` to remove them again."
   ]
  },
  {
   "cell_type": "markdown",
   "id": "e7d5c720",
   "metadata": {},
   "source": [
    "You can add your code below by inserting additional cells as neccessary and running them (press Shift+Enter).\n",
    "\n",
    "**DISCLAIMER**: Like for the toy codes, we only use very small bond dimensions here. For state-of-the-art MPS calculations (especially for cylinders towards 2D), `chi` should be significantly larger, often on the order of several 1000s."
   ]
  },
  {
   "cell_type": "code",
   "execution_count": null,
   "id": "b7d6aedd",
   "metadata": {},
   "outputs": [],
   "source": [
    "import numpy as np\n",
    "import scipy\n",
    "import matplotlib.pyplot as plt\n",
    "from pprint import pprint\n",
    "\n",
    "np.set_printoptions(precision=5, suppress=True, linewidth=100)\n",
    "plt.rcParams['figure.dpi'] = 150"
   ]
  },
  {
   "cell_type": "code",
   "execution_count": null,
   "id": "2932ad48",
   "metadata": {},
   "outputs": [],
   "source": [
    "import tenpy\n",
    "import tenpy.linalg.np_conserved as npc\n",
    "from tenpy.algorithms import tebd, dmrg, tdvp\n",
    "from tenpy.networks.site import SpinHalfSite, SpinSite, FermionSite\n",
    "from tenpy.networks.mps import MPS\n",
    "from tenpy.models.tf_ising import TFIChain\n",
    "\n",
    "tenpy.tools.misc.setup_logging(to_stdout=\"INFO\")"
   ]
  },
  {
   "cell_type": "markdown",
   "id": "9d536bdf",
   "metadata": {},
   "source": [
    "## Overview\n",
    "\n",
    "The source code of TeNPy is at https://github.com/tenpy/tenpy/; \n",
    "you can find links to the documentation and the forum in the Readme there.\n",
    "\n",
    "The [**documentation**](https://tenpy.readthedocs.io) is roughly split into the \"User guide\" (upper part in the left side-bar) and the reference of all the functions and classes (lower part).\n",
    "\n"
   ]
  },
  {
   "cell_type": "markdown",
   "id": "6a01aec3",
   "metadata": {},
   "source": [
    "### Exercise(s)\n",
    "\n",
    "Read the [overview](https://tenpy.readthedocs.io/en/latest/intro/overview.html) of the TeNPy documentation.\n",
    "\n",
    "Whenever you hit an example code, try to copy it here and run it.\n",
    "\n",
    "Try to modify it slightly and try to rerun it; for example try to calculate the overlap `<v|v>` in the first example."
   ]
  },
  {
   "cell_type": "code",
   "execution_count": null,
   "id": "4f1b822f",
   "metadata": {},
   "outputs": [],
   "source": []
  },
  {
   "cell_type": "markdown",
   "id": "337e0452",
   "metadata": {},
   "source": [
    "## Initializing a Model\n",
    "\n",
    "In TeNPy, the model defines the Hilbert space and local operators, and ultimately fixes whether charge conservation is used. Therefore, you should usually start with the initialization of the model.\n",
    "There are many predefined models in `tenpy.models`, that you can often just use.\n",
    "\n",
    "We will first initialize the transverse field Ising model. One advantage of TeNPy is that it can exploit (abelian) charge conservation for speedups, e.g. the transverse field Ising model preserves an overall spin parity. However, this requires the form \n",
    "$$ H = - J \\sum_{i} \\sigma^x_i \\sigma^x_{i+1} - g \\sum_{i} \\sigma^z_i  \\textrm{ in TeNPy}$$\n",
    "compared to the form \n",
    "$$ H = - J \\sum_{i} \\sigma^z_i \\sigma^z_{i+1} - g \\sum_{i} \\sigma^x_i \\textrm{  (not suitable for charge conservation)}$$ you might be more familiar with, where X and Z are exchanged.\n",
    "\n",
    "In TeNPy, allmost all parmaters can be changed dynamically through options. Default parameters are written back into the dictionaries."
   ]
  },
  {
   "cell_type": "code",
   "execution_count": null,
   "id": "a4f0ecc0",
   "metadata": {},
   "outputs": [],
   "source": [
    "model_params = {\n",
    "    'L': 20,\n",
    "    'g': 1.0,\n",
    "    'bc_MPS': 'finite',\n",
    "    'conserve': 'best'\n",
    "}\n",
    "model = TFIChain(model_params)\n",
    "# you can now print the default parameters used:\n",
    "print(\"used parameters, including default/not specified ones:\")\n",
    "pprint(model_params)"
   ]
  },
  {
   "cell_type": "markdown",
   "id": "9fe62909",
   "metadata": {},
   "source": [
    "Given the model, one can easily initialize a product state, e.g. for the Neel state:"
   ]
  },
  {
   "cell_type": "code",
   "execution_count": null,
   "id": "236024c3",
   "metadata": {},
   "outputs": [],
   "source": [
    "p_state = ['up', 'down'] * (model.lat.N_sites//2)\n",
    "psi = MPS.from_product_state(model.lat.mps_sites(), p_state, bc=model.lat.bc_MPS)\n"
   ]
  },
  {
   "cell_type": "markdown",
   "id": "e3f4a8cf",
   "metadata": {},
   "source": [
    "Measuring expectation values is also similar to the toycode. However, we can even specify the local operators (defined in the sites) as strings:"
   ]
  },
  {
   "cell_type": "code",
   "execution_count": null,
   "id": "adf6d283",
   "metadata": {},
   "outputs": [],
   "source": [
    "print(\"<sigmaz> = \", psi.expectation_value('Sigmaz'))\n",
    "print(\"S = \", psi.entanglement_entropy())"
   ]
  },
  {
   "cell_type": "markdown",
   "id": "017d4d67",
   "metadata": {},
   "source": [
    "### Exercise\n",
    "\n",
    "Check the [Model.bond_energies](https://tenpy.readthedocs.io/en/latest/reference/tenpy.models.model.NearestNeighborModel.html#tenpy.models.model.NearestNeighborModel.bond_energies) for the Neel state and make sure it matches what you expect.\n",
    "\n"
   ]
  },
  {
   "cell_type": "code",
   "execution_count": null,
   "id": "d0ef22db",
   "metadata": {},
   "outputs": [],
   "source": [
    "E = model.bond_energies(psi)\n",
    "print(\"energy Neel:\", E)"
   ]
  },
  {
   "cell_type": "code",
   "execution_count": null,
   "id": "99903e46",
   "metadata": {},
   "outputs": [],
   "source": []
  },
  {
   "cell_type": "markdown",
   "id": "bd218561",
   "metadata": {},
   "source": [
    "## Running DMRG\n",
    "\n",
    "Given the model and state, running DMRG isn't hard.\n",
    "Again, there are many (default) parameters for fine-tuning, see [this full option list](https://tenpy.readthedocs.io/en/latest/reference/tenpy.algorithms.dmrg.TwoSiteDMRGEngine.html#cfg-config-TwoSiteDMRGEngine) for details."
   ]
  },
  {
   "cell_type": "code",
   "execution_count": null,
   "id": "ffc67843",
   "metadata": {},
   "outputs": [],
   "source": [
    "p_state = ['up'] * model.lat.N_sites\n",
    "psi = MPS.from_product_state(model.lat.mps_sites(), p_state, bc=model.lat.bc_MPS, N_rings=model.lat.N_rings)\n",
    "algorithm_params = {\n",
    "    'trunc_params': {\n",
    "        'chi_max': 30,\n",
    "        'svd_min': 1.e-7,\n",
    "    },\n",
    "    'max_sweeps': 40,\n",
    "}\n",
    "eng = dmrg.TwoSiteDMRGEngine(psi, model, algorithm_params)\n",
    "E, psi = eng.run()"
   ]
  },
  {
   "cell_type": "code",
   "execution_count": null,
   "id": "3d9130aa",
   "metadata": {},
   "outputs": [],
   "source": []
  },
  {
   "cell_type": "markdown",
   "id": "b0eee6bf",
   "metadata": {},
   "source": [
    "### Exercise\n",
    "\n",
    "Run DMRG for `'infinite'` MPS. \n",
    "(You need to initialize a new model, state, and DMRG engine for this.)\n"
   ]
  },
  {
   "cell_type": "code",
   "execution_count": null,
   "id": "90538057",
   "metadata": {},
   "outputs": [],
   "source": [
    "from tenpy_toycodes import tfi_exact\n",
    "\n",
    "print(\"E_exact =\", tfi_exact.infinite_gs_energy(model_params['J'], model_params['g']))"
   ]
  },
  {
   "cell_type": "code",
   "execution_count": null,
   "id": "a9503ce9",
   "metadata": {},
   "outputs": [],
   "source": []
  },
  {
   "cell_type": "code",
   "execution_count": null,
   "id": "e0b86afc",
   "metadata": {},
   "outputs": [],
   "source": []
  },
  {
   "cell_type": "markdown",
   "id": "fa17e5ea",
   "metadata": {},
   "source": [
    "### Exercise\n",
    "\n",
    "Reproduce the phase-diagram plot of the transverse field Ising model from the toy code noteboook with TeNPy.\n"
   ]
  },
  {
   "cell_type": "code",
   "execution_count": null,
   "id": "1dfbc061",
   "metadata": {},
   "outputs": [],
   "source": []
  },
  {
   "cell_type": "code",
   "execution_count": null,
   "id": "09ead35f-5675-492c-9e5d-014879d5ccf0",
   "metadata": {},
   "outputs": [],
   "source": []
  },
  {
   "cell_type": "code",
   "execution_count": null,
   "id": "58e36f79-0d6a-4a48-bb9a-8eb7174eceb2",
   "metadata": {},
   "outputs": [],
   "source": []
  },
  {
   "cell_type": "markdown",
   "id": "ad7f61d0",
   "metadata": {},
   "source": [
    "### Advanced exercises - if you're an expert and have time left ;-)\n",
    "\n",
    "These examples only scratch on the surface of what you can do with TeNPy.\n",
    "- There are plenty of [more examples](https://tenpy.readthedocs.io/en/latest/examples.html) in the documentation.  Take a look at them!\n",
    "- Try to learn how to define your own model from the TeNPy documentation. Define a model for the XX Chain.\n",
    "- Look at the documentation how to run TEBD and TDVP and reproduce the time-evolution plot for S(t) from the toy    code notebook.\n",
    "- Learn how to save and load data in TeNPy."
   ]
  },
  {
   "cell_type": "code",
   "execution_count": null,
   "id": "ea502580",
   "metadata": {},
   "outputs": [],
   "source": []
  }
 ],
 "metadata": {
  "kernelspec": {
   "display_name": "Python 3 (ipykernel)",
   "language": "python",
   "name": "python3"
  },
  "language_info": {
   "codemirror_mode": {
    "name": "ipython",
    "version": 3
   },
   "file_extension": ".py",
   "mimetype": "text/x-python",
   "name": "python",
   "nbconvert_exporter": "python",
   "pygments_lexer": "ipython3",
   "version": "3.12.2"
  }
 },
 "nbformat": 4,
 "nbformat_minor": 5
}
