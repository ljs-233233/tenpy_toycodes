{
 "cells": [
  {
   "cell_type": "markdown",
   "id": "20664216",
   "metadata": {},
   "source": [
    "# Uniform matrix product states in the thermodynamic limit"
   ]
  },
  {
   "cell_type": "code",
   "execution_count": 1,
   "id": "2a6affc1",
   "metadata": {},
   "outputs": [],
   "source": [
    "import numpy as np\n",
    "import matplotlib.pyplot as plt"
   ]
  },
  {
   "cell_type": "markdown",
   "id": "c1b9c9cf",
   "metadata": {},
   "source": [
    "## 1) Uniform MPS"
   ]
  },
  {
   "cell_type": "code",
   "execution_count": 2,
   "id": "e807aedc",
   "metadata": {},
   "outputs": [],
   "source": [
    "from tenpy_toycodes.f_umps import UniformMPS, TransferMatrix\n",
    "from tenpy_toycodes.a_mps import SimpleMPS"
   ]
  },
  {
   "cell_type": "markdown",
   "id": "4e071fef",
   "metadata": {},
   "source": [
    "### 1.1) Transfer matrix and canonical form of random injective tensor"
   ]
  },
  {
   "cell_type": "markdown",
   "id": "e0be6b6f",
   "metadata": {},
   "source": [
    "* Create a random tensor $A \\in \\mathbb{C}^{D \\times d \\times D}$ of physical dimension $d = 2$ and bond dimension $D = 4$."
   ]
  },
  {
   "cell_type": "code",
   "execution_count": 3,
   "id": "ecebc5d6",
   "metadata": {},
   "outputs": [],
   "source": [
    "D, d = 4, 2\n",
    "A = UniformMPS.get_random_tensor(D, d)"
   ]
  },
  {
   "cell_type": "markdown",
   "id": "ae5eb45e",
   "metadata": {},
   "source": [
    "* Show that $A$ is injective, i.e. its transfer matrix fulfills $T_A = \\vert R \\rangle \\langle L \\vert + \\mathcal{O}(\\vert \\lambda_2 \\vert)$ with $\\vert \\lambda_2 \\vert < 1$ and $R,L > 0$."
   ]
  },
  {
   "cell_type": "code",
   "execution_count": 4,
   "id": "b163994a",
   "metadata": {},
   "outputs": [
    {
     "name": "stdout",
     "output_type": "stream",
     "text": [
      "lambda_1 =  (1.0000000000000038-6.078679006411283e-17j)\n",
      "|lambda_2| =  0.6820780522616756\n",
      "R > 0 with eigenvalues [0.56002479 0.37173098 0.01039829 0.05784594]\n",
      "L > 0 with eigenvalues [0.72311096 0.23792053 0.00736015 0.03160836]\n"
     ]
    }
   ],
   "source": [
    "# Right eigenvector\n",
    "T = TransferMatrix([A], [A])\n",
    "lambdas, Rs = T.get_leading_eigenpairs(k=2)\n",
    "lambda1, lambda2 = lambdas[0], lambdas[1]\n",
    "R = Rs[0]\n",
    "R /= np.trace(R)\n",
    "ERs, _ = np.linalg.eig(R)\n",
    "\n",
    "# Left eigenvector\n",
    "T = TransferMatrix([A], [A], transpose=True)\n",
    "mus, Ls = T.get_leading_eigenpairs(k=2)\n",
    "L = Ls[0]\n",
    "L /= np.trace(L)\n",
    "ELs, _ = np.linalg.eig(L)\n",
    "\n",
    "assert np.allclose(np.abs(lambdas), np.abs(mus))\n",
    "print(\"lambda_1 = \", lambda1)\n",
    "print(\"|lambda_2| = \", np.abs(lambda2))\n",
    "print(\"R > 0 with eigenvalues\", np.real_if_close(ERs))\n",
    "print(\"L > 0 with eigenvalues\", np.real_if_close(ELs))"
   ]
  },
  {
   "cell_type": "markdown",
   "id": "8e7a5f93",
   "metadata": {},
   "source": [
    "* Compute the canonical form of $A$, consisting of left/right orthonormal tensor $A_L / A_R$, center site tensor $A_C$, and center matrix $C$."
   ]
  },
  {
   "cell_type": "code",
   "execution_count": 5,
   "id": "3e008d59",
   "metadata": {},
   "outputs": [
    {
     "name": "stdout",
     "output_type": "stream",
     "text": [
      "AL, L: Converged up to tol=1e-10. Final error after 4 iterations: 7.215988451065303e-11.\n",
      "AR, R: Converged up to tol=1e-10. Final error after 5 iterations: 4.928164856082173e-16.\n"
     ]
    }
   ],
   "source": [
    "AL, AR, AC, C = UniformMPS.to_canonical_form(A)"
   ]
  },
  {
   "cell_type": "markdown",
   "id": "a7398c6d",
   "metadata": {},
   "source": [
    "* Show that $T_{A_L} = \\vert R \\rangle \\langle \\mathbb{1} \\vert + \\mathcal{O}(\\vert \\lambda_2 \\vert)$ with $\\vert \\lambda_2 \\vert < 1$ and $R > 0$."
   ]
  },
  {
   "cell_type": "code",
   "execution_count": 6,
   "id": "e951a918",
   "metadata": {},
   "outputs": [
    {
     "name": "stdout",
     "output_type": "stream",
     "text": [
      "lambda_1 =  (1.0000000000000013-3.016663901812052e-16j)\n",
      "|lambda_2| =  0.6820780522099499\n",
      "R > 0 with eigenvalues [8.89606687e-01 9.97356620e-02 8.78932391e-04 9.77871849e-03]\n",
      "L = 1: True\n"
     ]
    }
   ],
   "source": [
    "# Right eigenvector\n",
    "T = TransferMatrix([AL], [AL])\n",
    "lambdas, Rs = T.get_leading_eigenpairs(k=2)\n",
    "lambda1, lambda2 = lambdas[0], lambdas[1]\n",
    "R = Rs[0]\n",
    "R /= np.trace(R)\n",
    "ERs, _ = np.linalg.eig(R)\n",
    "\n",
    "# Left eigenvector\n",
    "T = TransferMatrix([AL], [AL], transpose=True)\n",
    "mus, Ls = T.get_leading_eigenpairs(k=2)\n",
    "L = Ls[0]\n",
    "L /= np.trace(L)\n",
    "\n",
    "assert np.allclose(np.abs(lambdas), np.abs(mus))\n",
    "print(\"lambda_1 = \", lambda1)\n",
    "print(\"|lambda_2| = \", np.abs(lambda2))\n",
    "print(\"R > 0 with eigenvalues\", np.real_if_close(ERs))\n",
    "print(\"L = 1:\", np.allclose(L, np.eye(4)/4))"
   ]
  },
  {
   "cell_type": "markdown",
   "id": "714e5c0b",
   "metadata": {},
   "source": [
    "* Show that $T_{A_R} = \\vert \\mathbb{1} \\rangle \\langle L \\vert + \\mathcal{O}(\\vert \\lambda_2 \\vert)$ with $\\vert \\lambda_2 \\vert < 1$ and $L > 0$."
   ]
  },
  {
   "cell_type": "code",
   "execution_count": 7,
   "id": "84aa068a",
   "metadata": {},
   "outputs": [
    {
     "name": "stdout",
     "output_type": "stream",
     "text": [
      "lambda_1 =  (0.9999999999999973+2.1410875324220577e-16j)\n",
      "|lambda_2| =  0.682078052209956\n",
      "R = 1: True\n",
      "L > 0 with eigenvalues [8.89606687e-01 9.97356620e-02 9.77871849e-03 8.78932391e-04]\n"
     ]
    }
   ],
   "source": [
    "# Right eigenvector\n",
    "T = TransferMatrix([AR], [AR])\n",
    "lambdas, Rs = T.get_leading_eigenpairs(k=2)\n",
    "lambda1, lambda2 = lambdas[0], lambdas[1]\n",
    "R = Rs[0]\n",
    "R /= np.trace(R)\n",
    "\n",
    "# Left eigenvector\n",
    "T = TransferMatrix([AR], [AR], transpose=True)\n",
    "lambdas, Ls = T.get_leading_eigenpairs(k=2)\n",
    "lambda1, lambda2 = lambdas[0], lambdas[1]\n",
    "L = Ls[0]\n",
    "L /= np.trace(L)\n",
    "ELs, _ = np.linalg.eig(L)\n",
    "\n",
    "assert np.allclose(np.abs(lambdas), np.abs(mus))\n",
    "print(\"lambda_1 = \", lambda1)\n",
    "print(\"|lambda_2| = \", np.abs(lambda2))\n",
    "print(\"R = 1:\", np.allclose(R, np.eye(4)/4))\n",
    "print(\"L > 0 with eigenvalues\", np.real_if_close(ELs))"
   ]
  },
  {
   "cell_type": "markdown",
   "id": "53fe5435",
   "metadata": {},
   "source": [
    "* Directly create a random uMPS (for different tolerances) and test its canonical form."
   ]
  },
  {
   "cell_type": "code",
   "execution_count": 8,
   "id": "a06ed868",
   "metadata": {},
   "outputs": [
    {
     "name": "stdout",
     "output_type": "stream",
     "text": [
      "AL, L: Converged up to tol=1e-10. Final error after 6 iterations: 3.191286943431879e-12.\n",
      "AR, R: Converged up to tol=1e-10. Final error after 6 iterations: 9.155375322242511e-15.\n",
      "[2.82208246e-14 2.80902072e-14 0.00000000e+00 9.78230190e-15]\n",
      "AL, L: Converged up to tol=1e-05. Final error after 5 iterations: 2.680793170189937e-06.\n",
      "AR, R: Converged up to tol=1e-05. Final error after 5 iterations: 1.340917670640042e-07.\n",
      "[2.77895918e-14 3.00596424e-14 0.00000000e+00 1.34091767e-07]\n"
     ]
    }
   ],
   "source": [
    "psi_random = UniformMPS.from_desired_bond_dimension(D=100, d=3, tol=1.e-10)\n",
    "print(psi_random.test_canonical_form())\n",
    "psi_random = UniformMPS.from_desired_bond_dimension(D=100, d=3, tol=1.e-5)\n",
    "print(psi_random.test_canonical_form())"
   ]
  },
  {
   "cell_type": "markdown",
   "id": "a81f992c",
   "metadata": {},
   "source": [
    "### 1.2) AKLT state"
   ]
  },
  {
   "cell_type": "markdown",
   "id": "134b43b2",
   "metadata": {},
   "source": [
    "For the spin-1 matrices $S_x$, $S_y$ and $S_z$, we consider the two-site Hamiltonian matrix <br>\n",
    " $$h = S_x \\otimes S_x + S_y \\otimes S_y + S_z \\otimes S_z + \\frac{1}{3}(S_x \\otimes S_x + S_y \\otimes S_y + S_z \\otimes S_z)^2 = 2P_{S=2}-2/3.$$\n",
    "* Implement $h, h^2 \\in \\mathbb{C}^{3 \\times 3 \\times 3 \\times 3}$."
   ]
  },
  {
   "cell_type": "code",
   "execution_count": 9,
   "id": "b7999d07",
   "metadata": {},
   "outputs": [],
   "source": [
    "d = 3\n",
    "\n",
    "# Spin-1 matrices\n",
    "Sx = np.array([[0., 1., 0.],[1., 0., 1.],[0., 1., 0.]]) / np.sqrt(2)\n",
    "Sy = -1.j * np.array([[0., 1., 0.],[-1., 0., 1.],[0., -1., 0.]]) / np.sqrt(2) \n",
    "Sz = np.array([[1., 0., 0.],[0., 0., 0.],[0., 0., -1.]])\n",
    "\n",
    "# Hamiltonian\n",
    "S_dot_S = np.kron(Sx, Sx) + np.kron(Sy, Sy) + np.kron(Sz, Sz)\n",
    "h = S_dot_S + (1/3.) * S_dot_S @ S_dot_S\n",
    "h2 = h @ h\n",
    "h = np.reshape(h, (d, d, d, d))\n",
    "h2 = np.reshape(h2, (d, d, d, d))"
   ]
  },
  {
   "cell_type": "markdown",
   "id": "b9317ef5",
   "metadata": {},
   "source": [
    "* Initialize the ground state uMPS $\\vert \\psi_{\\mathrm{AKLT}} \\rangle = \\vert \\psi(A) \\rangle$ with $A_L^{+1} = \\sqrt{\\frac{2}{3}}\\sigma^{+}$, $A_L^{0} = \\sqrt{\\frac{1}{3}}\\sigma^{z}$, $A_L^{-1} = -\\sqrt{\\frac{2}{3}}\\sigma^{-}$. "
   ]
  },
  {
   "cell_type": "code",
   "execution_count": 10,
   "id": "c479d341",
   "metadata": {},
   "outputs": [
    {
     "name": "stdout",
     "output_type": "stream",
     "text": [
      "AR, R: Converged up to tol=1e-10. Final error after 4 iterations: 5.862709150553829e-13.\n"
     ]
    }
   ],
   "source": [
    "D = 2\n",
    "\n",
    "AL = np.zeros((D, d, D), dtype=complex)\n",
    "AL[:, 0, :] = np.sqrt(2/3.) * np.array([[0., 0.],[1., 0.]])\n",
    "AL[:, 1, :] = np.sqrt(1/3.) * np.array([[1., 0.],[0., -1.]])\n",
    "AL[:, 2, :] = -np.sqrt(2/3.) * np.array([[0., 1.],[0., 0.]])\n",
    "\n",
    "AR, C = UniformMPS.right_orthonormalize(AL)\n",
    "AC = np.tensordot(AL, C, axes=(2, 0))  # vL p [vR], [vL] vR\n",
    "psi_AKLT = UniformMPS(AL, AR, AC, C)"
   ]
  },
  {
   "cell_type": "markdown",
   "id": "1b39fe00",
   "metadata": {},
   "source": [
    "Show the following properties of $\\vert \\psi_{\\mathrm{AKLT}} \\rangle$: \n",
    "* Ground state energy $e = \\langle h \\rangle = -2/3$, \n",
    "* Variance $\\langle h^2 \\rangle - \\langle h \\rangle^2 = 0$ (frustration free),\n",
    "* Entanglement entropy $S = \\ln(2) \\approx 0.6931471805599453$,\n",
    "* Correlation length $\\xi = -1/\\ln(\\vert \\lambda_2 \\vert) = -1/\\ln(1/3) = 1/\\ln 3 \\approx 0.9102392266268371$,\n",
    "* Connected correlation function $C(n) = \\langle S_z^0 S_z^n \\rangle - \\langle S_z \\rangle^2 \\rightarrow \\vert \\lambda_2 \\vert^{n-1}$ (plot)."
   ]
  },
  {
   "cell_type": "code",
   "execution_count": 11,
   "id": "9f462402",
   "metadata": {},
   "outputs": [
    {
     "name": "stdout",
     "output_type": "stream",
     "text": [
      "e =  -0.6666666666666667\n",
      "var_e =  -1.6653345369377348e-16\n",
      "S =  0.6931471805599452\n",
      "xi =  0.9102392266268375\n",
      "|lambda2| =  0.3333333333333333\n"
     ]
    }
   ],
   "source": [
    "# Ground state energy\n",
    "print(\"e = \", psi_AKLT.get_bond_expectation_value(h))\n",
    "# Variance\n",
    "print(\"var_e = \", psi_AKLT.get_bond_expectation_value(h2) - psi_AKLT.get_bond_expectation_value(h)**2)\n",
    "# Entanglement entropy\n",
    "print(\"S = \", psi_AKLT.get_entanglement_entropy())\n",
    "# Correlation length\n",
    "print(\"xi = \", psi_AKLT.get_correlation_length())\n",
    "# Second largest eigenvalue (to check consistency with formula above)\n",
    "T = TransferMatrix([psi_AKLT.AL], [psi_AKLT.AL])\n",
    "lambdas, _ = T.get_leading_eigenpairs(k=2)\n",
    "lambda2 = lambdas[1]\n",
    "print(\"|lambda2| = \", np.abs(lambda2))"
   ]
  },
  {
   "cell_type": "code",
   "execution_count": 12,
   "id": "996b53cb",
   "metadata": {},
   "outputs": [
    {
     "data": {
      "image/png": "[encoded data removed]",
      "text/plain": [
       "<Figure size 600x400 with 1 Axes>"
      ]
     },
     "metadata": {},
     "output_type": "display_data"
    }
   ],
   "source": [
    "# Correlation functions\n",
    "N = 50\n",
    "ns = np.arange(1, N+1)\n",
    "Cs = psi_AKLT.get_correlation_functions(Sz, Sz, N)\n",
    "Cs_connected = Cs - psi_AKLT.get_site_expectation_value(Sz)**2\n",
    "Cs_theo = []\n",
    "for n in ns:\n",
    "    Cs_theo.append(np.abs(lambda2)**(n-1))\n",
    "\n",
    "plt.figure(figsize=(6, 4))\n",
    "plt.xlabel(r\"$n$\")\n",
    "plt.semilogy(ns, Cs_connected, \"x\", label=r\"$C(n)$\")\n",
    "plt.semilogy(ns, Cs_theo, \"-\", label=r\"$\\vert \\lambda_2 \\vert^{n-1}$\")\n",
    "plt.legend(loc=\"best\")\n",
    "plt.show()"
   ]
  },
  {
   "cell_type": "markdown",
   "id": "b8a1c634",
   "metadata": {},
   "source": [
    "### 1.3) Conversions between uniform MPS and infinite MPS"
   ]
  },
  {
   "cell_type": "markdown",
   "id": "e778228e",
   "metadata": {},
   "source": [
    "* Convert the uMPS $\\vert \\psi_{\\mathrm{AKLT}} \\rangle$ to an iMPS and recheck the values of $e$, $S$, $\\xi$."
   ]
  },
  {
   "cell_type": "code",
   "execution_count": 13,
   "id": "249303f7",
   "metadata": {},
   "outputs": [
    {
     "name": "stdout",
     "output_type": "stream",
     "text": [
      "e =  [-0.66666667]\n",
      "var_e =  [-5.55111512e-16]\n",
      "S =  [0.69314718]\n",
      "xi =  0.9102392266268379\n"
     ]
    }
   ],
   "source": [
    "psi_AKLT_infinite = psi_AKLT.to_infinite_MPS(L=1)\n",
    "\n",
    "# Ground state energy\n",
    "print(\"e = \", psi_AKLT_infinite.bond_expectation_value([h]))\n",
    "# Variance\n",
    "print(\"var_e = \", psi_AKLT_infinite.bond_expectation_value([h2]) \\\n",
    "      - psi_AKLT_infinite.bond_expectation_value([h])**2)\n",
    "# Entanglement entropy\n",
    "print(\"S = \", psi_AKLT_infinite.entanglement_entropy())\n",
    "# Correlation length\n",
    "print(\"xi = \", psi_AKLT_infinite.correlation_length())"
   ]
  },
  {
   "cell_type": "markdown",
   "id": "976073bf",
   "metadata": {},
   "source": [
    "* Denote by $B \\in \\mathbb{C}^{2 \\times 3 \\times 2}$ the right canonical tensor of $\\vert \\psi_{\\mathrm{AKLT}} \\rangle$ and by $U \\in \\mathbb{C}^{2 \\times 2}$ a random unitary. Show that the iMPS $\\vert\\psi(B_1, B_2)\\rangle$ with $B_1 = BU$ and $B_2 = U^*B$ is translation invariant and can be converted to a uMPS. Check that this is still the AKLT state."
   ]
  },
  {
   "cell_type": "code",
   "execution_count": 14,
   "id": "a47a7ad6",
   "metadata": {},
   "outputs": [
    {
     "name": "stdout",
     "output_type": "stream",
     "text": [
      "Infinite MPS is translation invariant -> Conversion to uniform MPS.\n",
      "AL, L: Converged up to tol=1e-10. Final error after 4 iterations: 1.962593456695007e-11.\n",
      "AR, R: Converged up to tol=1e-10. Final error after 4 iterations: 4.578461229344935e-14.\n",
      "e =  -0.6666666666666659\n",
      "var_e =  4.996003610813204e-16\n",
      "S =  0.6931471805599452\n",
      "xi =  0.9102392266268371\n"
     ]
    }
   ],
   "source": [
    "B = psi_AKLT_infinite.Bs[0]\n",
    "C = psi_AKLT_infinite.Ss[0]\n",
    "from scipy.stats import unitary_group\n",
    "U = unitary_group.rvs(2)\n",
    "B1 = np.tensordot(B, U, axes=(2, 0))\n",
    "B2 = np.tensordot(np.conj(U).T, B, axes=(1, 0))\n",
    "\n",
    "psi_infinite = SimpleMPS([B1, B2], [C, C], bc=\"infinite\")\n",
    "psi_uniform = UniformMPS.from_infinite_MPS(psi_infinite)\n",
    "\n",
    "# Ground state energy\n",
    "print(\"e = \", psi_uniform.get_bond_expectation_value(h))\n",
    "# Variance\n",
    "print(\"var_e = \", psi_uniform.get_bond_expectation_value(h2) - psi_uniform.get_bond_expectation_value(h)**2)\n",
    "# Entanglement entropy\n",
    "print(\"S = \", psi_uniform.get_entanglement_entropy())\n",
    "# Correlation length\n",
    "print(\"xi = \", psi_uniform.get_correlation_length())"
   ]
  },
  {
   "cell_type": "markdown",
   "id": "507d3d45",
   "metadata": {},
   "source": [
    "* For random right canonical tensors $B_1 \\in \\mathbb{C}^{D \\times d \\times D}$ and $B_2 \\in \\mathbb{C}^{D \\times d \\times D}$, show that the iMPS $\\vert\\psi(B_1, B_2)\\rangle$ is in general not translation invariant and cannot be converted to a uMPS."
   ]
  },
  {
   "cell_type": "code",
   "execution_count": 15,
   "id": "d11ad991",
   "metadata": {},
   "outputs": [
    {
     "name": "stdout",
     "output_type": "stream",
     "text": [
      "AL, L: Converged up to tol=1e-10. Final error after 6 iterations: 1.3651886528661132e-11.\n",
      "AR, R: Converged up to tol=1e-10. Final error after 6 iterations: 2.839572172827235e-14.\n",
      "AL, L: Converged up to tol=1e-10. Final error after 6 iterations: 9.96464061329672e-12.\n",
      "AR, R: Converged up to tol=1e-10. Final error after 6 iterations: 2.4330400493946792e-14.\n"
     ]
    },
    {
     "ename": "ValueError",
     "evalue": "Infinite MPS is not translation invariant.",
     "output_type": "error",
     "traceback": [
      "\u001b[0;31m---------------------------------------------------------------------------\u001b[0m",
      "\u001b[0;31mValueError\u001b[0m                                Traceback (most recent call last)",
      "Cell \u001b[0;32mIn[15], line 8\u001b[0m\n\u001b[1;32m      5\u001b[0m S1, S2 \u001b[38;5;241m=\u001b[39m np\u001b[38;5;241m.\u001b[39mdiag(S1), np\u001b[38;5;241m.\u001b[39mdiag(S1)\n\u001b[1;32m      7\u001b[0m psi_infinite \u001b[38;5;241m=\u001b[39m SimpleMPS([B1, B2], [S1, S2], bc\u001b[38;5;241m=\u001b[39m\u001b[38;5;124m\"\u001b[39m\u001b[38;5;124minfinite\u001b[39m\u001b[38;5;124m\"\u001b[39m)\n\u001b[0;32m----> 8\u001b[0m psi_uniform \u001b[38;5;241m=\u001b[39m UniformMPS\u001b[38;5;241m.\u001b[39mfrom_infinite_MPS(psi_infinite)\n",
      "File \u001b[0;32m~/Library/Mobile Documents/com~apple~CloudDocs/master/thesis/python/tenpy_toycodes/tenpy_toycodes/f_umps.py:160\u001b[0m, in \u001b[0;36mUniformMPS.from_infinite_MPS\u001b[0;34m(cls, psi)\u001b[0m\n\u001b[1;32m    158\u001b[0m lambda1, U \u001b[38;5;241m=\u001b[39m T\u001b[38;5;241m.\u001b[39mget_leading_eigenpairs(k\u001b[38;5;241m=\u001b[39m\u001b[38;5;241m1\u001b[39m)\n\u001b[1;32m    159\u001b[0m \u001b[38;5;28;01mif\u001b[39;00m np\u001b[38;5;241m.\u001b[39mabs(np\u001b[38;5;241m.\u001b[39mabs(lambda1) \u001b[38;5;241m-\u001b[39m \u001b[38;5;241m1.\u001b[39m) \u001b[38;5;241m>\u001b[39m \u001b[38;5;241m1.e-8\u001b[39m:\n\u001b[0;32m--> 160\u001b[0m     \u001b[38;5;28;01mraise\u001b[39;00m \u001b[38;5;167;01mValueError\u001b[39;00m(\u001b[38;5;124mf\u001b[39m\u001b[38;5;124m\"\u001b[39m\u001b[38;5;124mInfinite MPS is not translation invariant.\u001b[39m\u001b[38;5;124m\"\u001b[39m)\n\u001b[1;32m    161\u001b[0m \u001b[38;5;28;01melse\u001b[39;00m:\n\u001b[1;32m    162\u001b[0m     \u001b[38;5;28mprint\u001b[39m(\u001b[38;5;124mf\u001b[39m\u001b[38;5;124m\"\u001b[39m\u001b[38;5;124mInfinite MPS is translation invariant -> Conversion to uniform MPS.\u001b[39m\u001b[38;5;124m\"\u001b[39m)\n",
      "\u001b[0;31mValueError\u001b[0m: Infinite MPS is not translation invariant."
     ]
    }
   ],
   "source": [
    "tensor1 = UniformMPS.get_random_tensor(D=100, d=3)\n",
    "tensor2 = UniformMPS.get_random_tensor(D=100, d=3)\n",
    "_, B1, _, S1 = UniformMPS.to_canonical_form(tensor1)\n",
    "_, B2, _, S2 = UniformMPS.to_canonical_form(tensor2)\n",
    "S1, S2 = np.diag(S1), np.diag(S1)\n",
    "\n",
    "psi_infinite = SimpleMPS([B1, B2], [S1, S2], bc=\"infinite\")\n",
    "psi_uniform = UniformMPS.from_infinite_MPS(psi_infinite)"
   ]
  }
 ],
 "metadata": {
  "kernelspec": {
   "display_name": "Python 3",
   "language": "python",
   "name": "python3"
  },
  "language_info": {
   "codemirror_mode": {
    "name": "ipython",
    "version": 3
   },
   "file_extension": ".py",
   "mimetype": "text/x-python",
   "name": "python",
   "nbconvert_exporter": "python",
   "pygments_lexer": "ipython3",
   "version": "3.12.7"
  }
 },
 "nbformat": 4,
 "nbformat_minor": 5
}
