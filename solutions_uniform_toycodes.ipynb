{
 "cells": [
  {
   "cell_type": "markdown",
   "id": "20664216",
   "metadata": {},
   "source": [
    "# Uniform matrix product states in the thermodynamic limit"
   ]
  },
  {
   "cell_type": "code",
   "execution_count": 1,
   "id": "2a6affc1",
   "metadata": {},
   "outputs": [],
   "source": [
    "import numpy as np\n",
    "import matplotlib.pyplot as plt"
   ]
  },
  {
   "cell_type": "markdown",
   "id": "c1b9c9cf",
   "metadata": {},
   "source": [
    "## 1) uMPS"
   ]
  },
  {
   "cell_type": "code",
   "execution_count": 2,
   "id": "e807aedc",
   "metadata": {},
   "outputs": [],
   "source": [
    "from tenpy_toycodes.f_umps import UniformMPS, TransferMatrix\n",
    "from tenpy_toycodes.a_mps import SimpleMPS"
   ]
  },
  {
   "cell_type": "markdown",
   "id": "4e071fef",
   "metadata": {},
   "source": [
    "### 1.1) Transfer matrix and canonical form of random injective tensor"
   ]
  },
  {
   "cell_type": "markdown",
   "id": "e0be6b6f",
   "metadata": {},
   "source": [
    "* Create a random tensor $A \\in \\mathbb{C}^{D \\times d \\times D}$ of physical dimension $d = 2$ and bond dimension $D = 4$."
   ]
  },
  {
   "cell_type": "code",
   "execution_count": 3,
   "id": "ecebc5d6",
   "metadata": {},
   "outputs": [],
   "source": [
    "D, d = 4, 2\n",
    "A = UniformMPS.get_random_tensor(D, d)"
   ]
  },
  {
   "cell_type": "markdown",
   "id": "ae5eb45e",
   "metadata": {},
   "source": [
    "* Show that $A$ is injective, i.e. its transfer matrix fulfills $T_A = \\vert R \\rangle \\langle L \\vert + \\mathcal{O}(\\vert \\lambda_2 \\vert)$ with $\\vert \\lambda_2 \\vert < 1$ and $R,L > 0$."
   ]
  },
  {
   "cell_type": "code",
   "execution_count": 4,
   "id": "b163994a",
   "metadata": {},
   "outputs": [
    {
     "name": "stdout",
     "output_type": "stream",
     "text": [
      "lambda_1 =  (1.000000000000002-3.3306690738754696e-16j)\n",
      "|lambda_2| =  0.6160984345230737\n",
      "R > 0 with eigenvalues [0.57721778 0.30300978 0.07951985 0.04025259]\n",
      "L > 0 with eigenvalues [0.61439961 0.26264189 0.02103773 0.10192076]\n"
     ]
    }
   ],
   "source": [
    "# Right eigenvector\n",
    "T = TransferMatrix([A], [A])\n",
    "lambdas, Rs = T.get_leading_eigenpairs(k=2)\n",
    "lambda1, lambda2 = lambdas[0], lambdas[1]\n",
    "R = Rs[0]\n",
    "R /= np.trace(R)\n",
    "ERs, _ = np.linalg.eig(R)\n",
    "\n",
    "# Left eigenvector\n",
    "T = TransferMatrix([A], [A], transpose=True)\n",
    "mus, Ls = T.get_leading_eigenpairs(k=2)\n",
    "L = Ls[0]\n",
    "L /= np.trace(L)\n",
    "ELs, _ = np.linalg.eig(L)\n",
    "\n",
    "assert np.allclose(np.abs(lambdas), np.abs(mus))\n",
    "print(\"lambda_1 = \", lambda1)\n",
    "print(\"|lambda_2| = \", np.abs(lambda2))\n",
    "print(\"R > 0 with eigenvalues\", np.real_if_close(ERs))\n",
    "print(\"L > 0 with eigenvalues\", np.real_if_close(ELs))"
   ]
  },
  {
   "cell_type": "markdown",
   "id": "8e7a5f93",
   "metadata": {},
   "source": [
    "* Compute the canonical form of $A$, consisting of left/right orthonormal tensor $A_L / A_R$, center site tensor $A_C$, and center matrix $C$."
   ]
  },
  {
   "cell_type": "code",
   "execution_count": 5,
   "id": "3e008d59",
   "metadata": {},
   "outputs": [
    {
     "name": "stdout",
     "output_type": "stream",
     "text": [
      "AL, L: Converged up to tol=1e-10. Final error after 6 iterations: 1.5711079371851106e-15.\n",
      "AR, R: Converged up to tol=1e-10. Final error after 5 iterations: 1.2082224766055543e-11.\n"
     ]
    }
   ],
   "source": [
    "AL, AR, AC, C = UniformMPS.to_canonical_form(A)"
   ]
  },
  {
   "cell_type": "markdown",
   "id": "a7398c6d",
   "metadata": {},
   "source": [
    "* Show that $T_{A_L} = \\vert R \\rangle \\langle \\mathbb{1} \\vert + \\mathcal{O}(\\vert \\lambda_2 \\vert)$ with $\\vert \\lambda_2 \\vert < 1$ and $R > 0$."
   ]
  },
  {
   "cell_type": "code",
   "execution_count": 6,
   "id": "e951a918",
   "metadata": {},
   "outputs": [
    {
     "name": "stdout",
     "output_type": "stream",
     "text": [
      "lambda_1 =  (1.0000000000000027+1.1102230246251565e-16j)\n",
      "|lambda_2| =  0.6160984345230714\n",
      "R > 0 with eigenvalues [0.80936618 0.13963342 0.03967545 0.01132495]\n",
      "L = 1: True\n"
     ]
    }
   ],
   "source": [
    "# Right eigenvector\n",
    "T = TransferMatrix([AL], [AL])\n",
    "lambdas, Rs = T.get_leading_eigenpairs(k=2)\n",
    "lambda1, lambda2 = lambdas[0], lambdas[1]\n",
    "R = Rs[0]\n",
    "R /= np.trace(R)\n",
    "ERs, _ = np.linalg.eig(R)\n",
    "\n",
    "# Left eigenvector\n",
    "T = TransferMatrix([AL], [AL], transpose=True)\n",
    "mus, Ls = T.get_leading_eigenpairs(k=2)\n",
    "L = Ls[0]\n",
    "L /= np.trace(L)\n",
    "\n",
    "assert np.allclose(np.abs(lambdas), np.abs(mus))\n",
    "print(\"lambda_1 = \", lambda1)\n",
    "print(\"|lambda_2| = \", np.abs(lambda2))\n",
    "print(\"R > 0 with eigenvalues\", np.real_if_close(ERs))\n",
    "print(\"L = 1:\", np.allclose(L, np.eye(4)/4))"
   ]
  },
  {
   "cell_type": "markdown",
   "id": "714e5c0b",
   "metadata": {},
   "source": [
    "* Show that $T_{A_R} = \\vert \\mathbb{1} \\rangle \\langle L \\vert + \\mathcal{O}(\\vert \\lambda_2 \\vert)$ with $\\vert \\lambda_2 \\vert < 1$ and $L > 0$."
   ]
  },
  {
   "cell_type": "code",
   "execution_count": 7,
   "id": "84aa068a",
   "metadata": {},
   "outputs": [
    {
     "name": "stdout",
     "output_type": "stream",
     "text": [
      "lambda_1 =  (1.0000000000000033+1.1102230246251565e-16j)\n",
      "|lambda_2| =  0.6160984345022631\n",
      "R = 1: True\n",
      "L > 0 with eigenvalues [0.80936618 0.13963342 0.03967545 0.01132495]\n"
     ]
    }
   ],
   "source": [
    "# Right eigenvector\n",
    "T = TransferMatrix([AR], [AR])\n",
    "lambdas, Rs = T.get_leading_eigenpairs(k=2)\n",
    "lambda1, lambda2 = lambdas[0], lambdas[1]\n",
    "R = Rs[0]\n",
    "R /= np.trace(R)\n",
    "\n",
    "# Left eigenvector\n",
    "T = TransferMatrix([AR], [AR], transpose=True)\n",
    "lambdas, Ls = T.get_leading_eigenpairs(k=2)\n",
    "lambda1, lambda2 = lambdas[0], lambdas[1]\n",
    "L = Ls[0]\n",
    "L /= np.trace(L)\n",
    "ELs, _ = np.linalg.eig(L)\n",
    "\n",
    "assert np.allclose(np.abs(lambdas), np.abs(mus))\n",
    "print(\"lambda_1 = \", lambda1)\n",
    "print(\"|lambda_2| = \", np.abs(lambda2))\n",
    "print(\"R = 1:\", np.allclose(R, np.eye(4)/4))\n",
    "print(\"L > 0 with eigenvalues\", np.real_if_close(ELs))"
   ]
  },
  {
   "cell_type": "markdown",
   "id": "53fe5435",
   "metadata": {},
   "source": [
    "* Directly create a random uMPS (for different tolerances) and test its canonical form."
   ]
  },
  {
   "cell_type": "code",
   "execution_count": 8,
   "id": "a06ed868",
   "metadata": {},
   "outputs": [
    {
     "name": "stdout",
     "output_type": "stream",
     "text": [
      "AL, L: Converged up to tol=1e-10. Final error after 6 iterations: 8.781055426747752e-12.\n",
      "AR, R: Converged up to tol=1e-10. Final error after 6 iterations: 8.25128128743232e-15.\n",
      "[2.87610303e-14 2.85505447e-14 0.00000000e+00 9.01957848e-15]\n",
      "AL, L: Converged up to tol=1e-05. Final error after 5 iterations: 3.1480602430777355e-06.\n",
      "AR, R: Converged up to tol=1e-05. Final error after 5 iterations: 1.5334010838200997e-07.\n",
      "[2.80169035e-14 2.88743350e-14 0.00000000e+00 1.53340108e-07]\n"
     ]
    }
   ],
   "source": [
    "psi_random = UniformMPS.from_desired_bond_dimension(D=100, d=3, tol=1.e-10)\n",
    "print(psi_random.test_canonical_form())\n",
    "psi_random = UniformMPS.from_desired_bond_dimension(D=100, d=3, tol=1.e-5)\n",
    "print(psi_random.test_canonical_form())"
   ]
  },
  {
   "cell_type": "markdown",
   "id": "a81f992c",
   "metadata": {},
   "source": [
    "### 1.2) AKLT state"
   ]
  },
  {
   "cell_type": "markdown",
   "id": "134b43b2",
   "metadata": {},
   "source": [
    "For the spin-1 matrices $S_x$, $S_y$ and $S_z$, we consider the two-site Hamiltonian matrix <br>\n",
    " $$h = S_x \\otimes S_x + S_y \\otimes S_y + S_z \\otimes S_z + \\frac{1}{3}(S_x \\otimes S_x + S_y \\otimes S_y + S_z \\otimes S_z)^2 = 2P_{S=2}-2/3.$$\n",
    "* Implement $h, h^2 \\in \\mathbb{C}^{3 \\times 3 \\times 3 \\times 3}$."
   ]
  },
  {
   "cell_type": "code",
   "execution_count": 9,
   "id": "b7999d07",
   "metadata": {},
   "outputs": [],
   "source": [
    "d = 3\n",
    "\n",
    "# Spin-1 matrices\n",
    "Sx = np.array([[0., 1., 0.],[1., 0., 1.],[0., 1., 0.]]) / np.sqrt(2)\n",
    "Sy = -1.j * np.array([[0., 1., 0.],[-1., 0., 1.],[0., -1., 0.]]) / np.sqrt(2) \n",
    "Sz = np.array([[1., 0., 0.],[0., 0., 0.],[0., 0., -1.]])\n",
    "\n",
    "# Hamiltonian\n",
    "S_dot_S = np.kron(Sx, Sx) + np.kron(Sy, Sy) + np.kron(Sz, Sz)\n",
    "h = S_dot_S + (1/3.) * S_dot_S @ S_dot_S\n",
    "h2 = h @ h\n",
    "h = np.reshape(h, (d, d, d, d))\n",
    "h2 = np.reshape(h2, (d, d, d, d))"
   ]
  },
  {
   "cell_type": "markdown",
   "id": "b9317ef5",
   "metadata": {},
   "source": [
    "* Initialize the ground state uMPS $\\vert \\psi_{\\mathrm{AKLT}} \\rangle = \\vert \\psi(A) \\rangle$ with $A_L^{+1} = \\sqrt{\\frac{2}{3}}\\sigma^{+}$, $A_L^{0} = \\sqrt{\\frac{1}{3}}\\sigma^{z}$, $A_L^{-1} = -\\sqrt{\\frac{2}{3}}\\sigma^{-}$. "
   ]
  },
  {
   "cell_type": "code",
   "execution_count": 10,
   "id": "c479d341",
   "metadata": {},
   "outputs": [
    {
     "name": "stdout",
     "output_type": "stream",
     "text": [
      "AR, R: Converged up to tol=1e-10. Final error after 4 iterations: 2.909395331952169e-11.\n"
     ]
    }
   ],
   "source": [
    "D = 2\n",
    "\n",
    "AL = np.zeros((D, d, D), dtype=complex)\n",
    "AL[:, 0, :] = np.sqrt(2/3.) * np.array([[0., 0.],[1., 0.]])\n",
    "AL[:, 1, :] = np.sqrt(1/3.) * np.array([[1., 0.],[0., -1.]])\n",
    "AL[:, 2, :] = -np.sqrt(2/3.) * np.array([[0., 1.],[0., 0.]])\n",
    "\n",
    "AR, C = UniformMPS.right_orthonormalize(AL)\n",
    "AC = np.tensordot(AL, C, axes=(2, 0))  # vL p [vR], [vL] vR\n",
    "psi_AKLT = UniformMPS(AL, AR, AC, C)"
   ]
  },
  {
   "cell_type": "markdown",
   "id": "1b39fe00",
   "metadata": {},
   "source": [
    "Show the following properties of $\\vert \\psi_{\\mathrm{AKLT}} \\rangle$: \n",
    "* Ground state energy $e = \\langle h \\rangle = -2/3$, \n",
    "* Variance $\\langle h^2 \\rangle - \\langle h \\rangle^2 = 0$ (frustration free),\n",
    "* Entanglement entropy $S = \\ln(2) \\approx 0.6931471805599453$,\n",
    "* Correlation length $\\xi = -1/\\ln(\\vert \\lambda_2 \\vert) = -1/\\ln(1/3) = 1/\\ln 3 \\approx 0.9102392266268371$,\n",
    "* Connected correlation function $C(n) = \\langle S_z^0 S_z^n \\rangle - \\langle S_z \\rangle^2 \\rightarrow \\vert \\lambda_2 \\vert^{n-1}$ (plot)."
   ]
  },
  {
   "cell_type": "code",
   "execution_count": 11,
   "id": "9f462402",
   "metadata": {},
   "outputs": [
    {
     "name": "stdout",
     "output_type": "stream",
     "text": [
      "e =  -0.6666666666666667\n",
      "var_e =  -2.220446049250313e-16\n",
      "S =  0.6931471805599453\n",
      "xi =  0.9102392266268375\n",
      "|lambda2| =  0.3333333333333333\n"
     ]
    }
   ],
   "source": [
    "# Ground state energy\n",
    "print(\"e = \", psi_AKLT.get_bond_expectation_value(h))\n",
    "# Variance\n",
    "print(\"var_e = \", psi_AKLT.get_bond_expectation_value(h2) - psi_AKLT.get_bond_expectation_value(h)**2)\n",
    "# Entanglement entropy\n",
    "print(\"S = \", psi_AKLT.get_entanglement_entropy())\n",
    "# Correlation length\n",
    "print(\"xi = \", psi_AKLT.get_correlation_length())\n",
    "# Second largest eigenvalue (to check consistency with formula above)\n",
    "T = TransferMatrix([psi_AKLT.AL], [psi_AKLT.AL])\n",
    "lambdas, _ = T.get_leading_eigenpairs(k=2)\n",
    "lambda2 = lambdas[1]\n",
    "print(\"|lambda2| = \", np.abs(lambda2))"
   ]
  },
  {
   "cell_type": "code",
   "execution_count": 12,
   "id": "996b53cb",
   "metadata": {},
   "outputs": [
    {
     "data": {
      "image/png": "[encoded data removed]",
      "text/plain": [
       "<Figure size 600x400 with 1 Axes>"
      ]
     },
     "metadata": {},
     "output_type": "display_data"
    }
   ],
   "source": [
    "# Correlation functions\n",
    "N = 50\n",
    "ns = np.arange(1, N+1)\n",
    "Cs = psi_AKLT.get_correlation_functions(Sz, Sz, N)\n",
    "Cs_connected = Cs - psi_AKLT.get_site_expectation_value(Sz)**2\n",
    "Cs_theo = []\n",
    "for n in ns:\n",
    "    Cs_theo.append(np.abs(lambda2)**(n-1))\n",
    "\n",
    "plt.figure(figsize=(6, 4))\n",
    "plt.xlabel(r\"$n$\")\n",
    "plt.semilogy(ns, Cs_connected, \"x\", label=r\"$C(n)$\")\n",
    "plt.semilogy(ns, Cs_theo, \"-\", label=r\"$\\vert \\lambda_2 \\vert^{n-1}$\")\n",
    "plt.legend(loc=\"best\")\n",
    "plt.show()"
   ]
  },
  {
   "cell_type": "markdown",
   "id": "b8a1c634",
   "metadata": {},
   "source": [
    "### 1.3) Conversions between uniform MPS and infinite MPS"
   ]
  },
  {
   "cell_type": "markdown",
   "id": "e778228e",
   "metadata": {},
   "source": [
    "* Convert the uMPS $\\vert \\psi_{\\mathrm{AKLT}} \\rangle$ to an iMPS and recheck the values of $e$, $S$, $\\xi$."
   ]
  },
  {
   "cell_type": "code",
   "execution_count": 13,
   "id": "249303f7",
   "metadata": {},
   "outputs": [
    {
     "name": "stdout",
     "output_type": "stream",
     "text": [
      "e =  [-0.66666667]\n",
      "var_e =  [-5.55111512e-16]\n",
      "S =  [0.69314718]\n",
      "xi =  0.9102392266268376\n"
     ]
    }
   ],
   "source": [
    "psi_AKLT_infinite = psi_AKLT.to_infinite_MPS(L=1)\n",
    "\n",
    "# Ground state energy\n",
    "print(\"e = \", psi_AKLT_infinite.bond_expectation_value([h]))\n",
    "# Variance\n",
    "print(\"var_e = \", psi_AKLT_infinite.bond_expectation_value([h2]) \\\n",
    "      - psi_AKLT_infinite.bond_expectation_value([h])**2)\n",
    "# Entanglement entropy\n",
    "print(\"S = \", psi_AKLT_infinite.entanglement_entropy())\n",
    "# Correlation length\n",
    "print(\"xi = \", psi_AKLT_infinite.correlation_length())"
   ]
  },
  {
   "cell_type": "markdown",
   "id": "976073bf",
   "metadata": {},
   "source": [
    "* Denote by $B \\in \\mathbb{C}^{2 \\times 3 \\times 2}$ the right canonical tensor of $\\vert \\psi_{\\mathrm{AKLT}} \\rangle$ and by $U \\in \\mathbb{C}^{2 \\times 2}$ a random unitary. Show that the iMPS $\\vert\\psi(B_1, B_2)\\rangle$ with $B_1 = BU$ and $B_2 = U^*B$ is translation invariant and can be converted to a uMPS. Check that this is still the AKLT state."
   ]
  },
  {
   "cell_type": "code",
   "execution_count": 14,
   "id": "a47a7ad6",
   "metadata": {},
   "outputs": [
    {
     "name": "stdout",
     "output_type": "stream",
     "text": [
      "Infinite MPS is translation invariant -> Conversion to uniform MPS.\n",
      "AL, L: Converged up to tol=1e-10. Final error after 5 iterations: 4.0874916160039974e-17.\n",
      "AR, R: Converged up to tol=1e-10. Final error after 5 iterations: 3.5965846887725563e-16.\n",
      "e =  -0.666666666666667\n",
      "var_e =  -2.7755575615628914e-16\n",
      "S =  0.6931471805599452\n",
      "xi =  0.9102392266268376\n"
     ]
    }
   ],
   "source": [
    "B = psi_AKLT_infinite.Bs[0]\n",
    "C = psi_AKLT_infinite.Ss[0]\n",
    "from scipy.stats import unitary_group\n",
    "U = unitary_group.rvs(2)\n",
    "B1 = np.tensordot(B, U, axes=(2, 0))\n",
    "B2 = np.tensordot(np.conj(U).T, B, axes=(1, 0))\n",
    "\n",
    "psi_infinite = SimpleMPS([B1, B2], [C, C], bc=\"infinite\")\n",
    "psi_uniform = UniformMPS.from_infinite_MPS(psi_infinite)\n",
    "\n",
    "# Ground state energy\n",
    "print(\"e = \", psi_uniform.get_bond_expectation_value(h))\n",
    "# Variance\n",
    "print(\"var_e = \", psi_uniform.get_bond_expectation_value(h2) - psi_uniform.get_bond_expectation_value(h)**2)\n",
    "# Entanglement entropy\n",
    "print(\"S = \", psi_uniform.get_entanglement_entropy())\n",
    "# Correlation length\n",
    "print(\"xi = \", psi_uniform.get_correlation_length())"
   ]
  },
  {
   "cell_type": "markdown",
   "id": "507d3d45",
   "metadata": {},
   "source": [
    "* For random right canonical tensors $B_1 \\in \\mathbb{C}^{D \\times d \\times D}$ and $B_2 \\in \\mathbb{C}^{D \\times d \\times D}$, show that the iMPS $\\vert\\psi(B_1, B_2)\\rangle$ is in general not translation invariant and cannot be converted to a uMPS."
   ]
  },
  {
   "cell_type": "code",
   "execution_count": 15,
   "id": "d11ad991",
   "metadata": {},
   "outputs": [
    {
     "name": "stdout",
     "output_type": "stream",
     "text": [
      "AL, L: Converged up to tol=1e-10. Final error after 6 iterations: 4.725358983908141e-12.\n",
      "AR, R: Converged up to tol=1e-10. Final error after 6 iterations: 2.0290081266841525e-14.\n",
      "AL, L: Converged up to tol=1e-10. Final error after 6 iterations: 4.533022634730654e-12.\n",
      "AR, R: Converged up to tol=1e-10. Final error after 6 iterations: 1.2867990382937158e-14.\n"
     ]
    },
    {
     "ename": "ValueError",
     "evalue": "Infinite MPS is not translation invariant.",
     "output_type": "error",
     "traceback": [
      "\u001b[0;31m---------------------------------------------------------------------------\u001b[0m",
      "\u001b[0;31mValueError\u001b[0m                                Traceback (most recent call last)",
      "Cell \u001b[0;32mIn[15], line 8\u001b[0m\n\u001b[1;32m      5\u001b[0m S1, S2 \u001b[38;5;241m=\u001b[39m np\u001b[38;5;241m.\u001b[39mdiag(S1), np\u001b[38;5;241m.\u001b[39mdiag(S1)\n\u001b[1;32m      7\u001b[0m psi_infinite \u001b[38;5;241m=\u001b[39m SimpleMPS([B1, B2], [S1, S2], bc\u001b[38;5;241m=\u001b[39m\u001b[38;5;124m\"\u001b[39m\u001b[38;5;124minfinite\u001b[39m\u001b[38;5;124m\"\u001b[39m)\n\u001b[0;32m----> 8\u001b[0m psi_uniform \u001b[38;5;241m=\u001b[39m UniformMPS\u001b[38;5;241m.\u001b[39mfrom_infinite_MPS(psi_infinite)\n",
      "File \u001b[0;32m~/Library/Mobile Documents/com~apple~CloudDocs/master/thesis/python/tenpy_toycodes/tenpy_toycodes/f_umps.py:160\u001b[0m, in \u001b[0;36mUniformMPS.from_infinite_MPS\u001b[0;34m(cls, psi)\u001b[0m\n\u001b[1;32m    158\u001b[0m lambda1, U \u001b[38;5;241m=\u001b[39m T\u001b[38;5;241m.\u001b[39mget_leading_eigenpairs(k\u001b[38;5;241m=\u001b[39m\u001b[38;5;241m1\u001b[39m)\n\u001b[1;32m    159\u001b[0m \u001b[38;5;28;01mif\u001b[39;00m np\u001b[38;5;241m.\u001b[39mabs(np\u001b[38;5;241m.\u001b[39mabs(lambda1) \u001b[38;5;241m-\u001b[39m \u001b[38;5;241m1.\u001b[39m) \u001b[38;5;241m>\u001b[39m \u001b[38;5;241m1.e-8\u001b[39m:\n\u001b[0;32m--> 160\u001b[0m     \u001b[38;5;28;01mraise\u001b[39;00m \u001b[38;5;167;01mValueError\u001b[39;00m(\u001b[38;5;124mf\u001b[39m\u001b[38;5;124m\"\u001b[39m\u001b[38;5;124mInfinite MPS is not translation invariant.\u001b[39m\u001b[38;5;124m\"\u001b[39m)\n\u001b[1;32m    161\u001b[0m \u001b[38;5;28;01melse\u001b[39;00m:\n\u001b[1;32m    162\u001b[0m     \u001b[38;5;28mprint\u001b[39m(\u001b[38;5;124mf\u001b[39m\u001b[38;5;124m\"\u001b[39m\u001b[38;5;124mInfinite MPS is translation invariant -> Conversion to uniform MPS.\u001b[39m\u001b[38;5;124m\"\u001b[39m)\n",
      "\u001b[0;31mValueError\u001b[0m: Infinite MPS is not translation invariant."
     ]
    }
   ],
   "source": [
    "tensor1 = UniformMPS.get_random_tensor(D=100, d=3)\n",
    "tensor2 = UniformMPS.get_random_tensor(D=100, d=3)\n",
    "_, B1, _, S1 = UniformMPS.to_canonical_form(tensor1)\n",
    "_, B2, _, S2 = UniformMPS.to_canonical_form(tensor2)\n",
    "S1, S2 = np.diag(S1), np.diag(S1)\n",
    "\n",
    "psi_infinite = SimpleMPS([B1, B2], [S1, S2], bc=\"infinite\")\n",
    "psi_uniform = UniformMPS.from_infinite_MPS(psi_infinite)"
   ]
  },
  {
   "cell_type": "markdown",
   "id": "8d1c962e",
   "metadata": {},
   "source": [
    "## 2) VUMPS: Variational ground state search"
   ]
  },
  {
   "cell_type": "code",
   "execution_count": 16,
   "id": "8a658a7a",
   "metadata": {},
   "outputs": [],
   "source": [
    "from tenpy_toycodes.b_model import TFIModel\n",
    "from tenpy_toycodes.tfi_exact import infinite_gs_energy\n",
    "\n",
    "from tenpy_toycodes.f_umps import UniformMPS\n",
    "from tenpy_toycodes.g_vumps import vumps_algorithm"
   ]
  },
  {
   "cell_type": "markdown",
   "id": "4bfe5f7d",
   "metadata": {},
   "source": [
    "* For the transverse field Ising model in the thermodynamic limit, find the ground state using the VUMPS algorithm. Investigate the convergence of the ground state energy density $e_0$ with the bond dimension $D$. Consider both the paramagnetic and ferromagnetic quantum phase."
   ]
  },
  {
   "cell_type": "code",
   "execution_count": 17,
   "id": "27ef125e",
   "metadata": {},
   "outputs": [
    {
     "name": "stdout",
     "output_type": "stream",
     "text": [
      "e0_exact = -1.6719262215361952.\n",
      "D = 2:\n",
      "AL, L: Converged up to tol=1e-10. Final error after 5 iterations: 4.633249469092208e-14.\n",
      "AR, R: Converged up to tol=1e-10. Final error after 4 iterations: 8.407646859504889e-14.\n",
      "Ground state converged up to tol=1e-10 in gradient norm. Final error after 20 iterations: 3.235188049532595e-11.\n",
      "Ground state energy density: -1.671736623893609. \n",
      "Ground state variance density: (0.0009884261166277844+5.697007802895037e-17j).\n",
      "Error |e0 - e0_exact| = 0.00018959764258608125.\n",
      "D = 4:\n",
      "AL, L: Converged up to tol=1e-10. Final error after 5 iterations: 1.0567540718147041e-11.\n",
      "AR, R: Converged up to tol=1e-10. Final error after 5 iterations: 1.509763507803523e-12.\n",
      "Ground state converged up to tol=1e-10 in gradient norm. Final error after 14 iterations: 4.2959637840299707e-11.\n",
      "Ground state energy density: -1.6719259668748543. \n",
      "Ground state variance density: (1.326284236873032e-06-9.389190813724468e-17j).\n",
      "Error |e0 - e0_exact| = 2.5466134090379455e-07.\n",
      "D = 6:\n",
      "AL, L: Converged up to tol=1e-10. Final error after 6 iterations: 1.082753230607726e-15.\n",
      "AR, R: Converged up to tol=1e-10. Final error after 6 iterations: 3.3736579964270426e-11.\n",
      "Ground state converged up to tol=1e-10 in gradient norm. Final error after 12 iterations: 4.851863844114496e-11.\n",
      "Ground state energy density: -1.6719262211612933. \n",
      "Ground state variance density: (2.121439066082864e-09+5.997806418189811e-16j).\n",
      "Error |e0 - e0_exact| = 3.7490188731226226e-10.\n",
      "D = 8:\n",
      "AL, L: Converged up to tol=1e-10. Final error after 6 iterations: 7.952138022615924e-16.\n",
      "AR, R: Converged up to tol=1e-10. Final error after 6 iterations: 8.72660797995554e-16.\n",
      "Ground state converged up to tol=1e-10 in gradient norm. Final error after 192 iterations: 9.636287841061662e-11.\n",
      "Ground state energy density: -1.671926221505129. \n",
      "Ground state variance density: (3.2159838680989594e-10-6.329572282970375e-16j).\n",
      "Error |e0 - e0_exact| = 3.106626067506113e-11.\n",
      "D = 10:\n",
      "AL, L: Converged up to tol=1e-10. Final error after 6 iterations: 3.1138565589316815e-11.\n",
      "AR, R: Converged up to tol=1e-10. Final error after 6 iterations: 5.909919209637646e-14.\n",
      "Ground state converged up to tol=1e-10 in gradient norm. Final error after 11 iterations: 2.8141966585797025e-11.\n",
      "Ground state energy density: -1.6719262215356845. \n",
      "Ground state variance density: (2.8394439577361652e-12-1.3725999503666486e-16j).\n",
      "Error |e0 - e0_exact| = 5.10702591327572e-13.\n",
      "D = 20:\n",
      "AL, L: Converged up to tol=1e-10. Final error after 6 iterations: 9.213579619013989e-14.\n",
      "AR, R: Converged up to tol=1e-10. Final error after 6 iterations: 4.029591548917622e-15.\n",
      "Ground state converged up to tol=1e-10 in gradient norm. Final error after 7 iterations: 4.983044933401006e-11.\n",
      "Ground state energy density: -1.6719262215361965. \n",
      "Ground state variance density: (1.0061396160665481e-15-2.021494950599223e-16j).\n",
      "Error |e0 - e0_exact| = 1.3322676295501878e-15.\n",
      "D = 30:\n",
      "AL, L: Converged up to tol=1e-10. Final error after 6 iterations: 1.2223496084687229e-12.\n",
      "AR, R: Converged up to tol=1e-10. Final error after 6 iterations: 1.858445607322589e-15.\n",
      "Ground state converged up to tol=1e-10 in gradient norm. Final error after 6 iterations: 7.070048035960138e-11.\n",
      "Ground state energy density: -1.6719262215361823. \n",
      "Ground state variance density: (-4.85722573273506e-16-6.143089509302868e-16j).\n",
      "Error |e0 - e0_exact| = 1.2878587085651816e-14.\n",
      "D = 40:\n",
      "AL, L: Converged up to tol=1e-10. Final error after 6 iterations: 1.7711381822664322e-13.\n",
      "AR, R: Converged up to tol=1e-10. Final error after 6 iterations: 8.09204588073399e-15.\n",
      "Ground state converged up to tol=1e-10 in gradient norm. Final error after 5 iterations: 5.4871436323299596e-11.\n",
      "Ground state energy density: -1.671926221536196. \n",
      "Ground state variance density: (-3.677613769070831e-16+1.3227266504323154e-17j).\n",
      "Error |e0 - e0_exact| = 8.881784197001252e-16.\n",
      "D = 50:\n",
      "AL, L: Converged up to tol=1e-10. Final error after 6 iterations: 6.4151035057731475e-12.\n",
      "AR, R: Converged up to tol=1e-10. Final error after 6 iterations: 8.679956570377106e-14.\n",
      "Ground state converged up to tol=1e-10 in gradient norm. Final error after 4 iterations: 8.711524107049725e-11.\n",
      "Ground state energy density: -1.6719262215361836. \n",
      "Ground state variance density: (4.829470157119431e-15-2.028000163634136e-16j).\n",
      "Error |e0 - e0_exact| = 1.1546319456101628e-14.\n"
     ]
    }
   ],
   "source": [
    "# paramagnetic phase\n",
    "g = 1.5\n",
    "\n",
    "e0_exact = infinite_gs_energy(J=1., g=g)\n",
    "print(f\"e0_exact = {e0_exact}.\")\n",
    "\n",
    "h = TFIModel(L=1, J=1., g=g, bc='infinite').H_bonds[0]\n",
    "Ds = [2, 4, 6, 8, 10, 20, 30, 40, 50]\n",
    "for D in Ds:\n",
    "    print(f\"D = {D}:\")\n",
    "    guess_psi0 = UniformMPS.from_desired_bond_dimension(D)\n",
    "    e0, psi0, var0 = vumps_algorithm(h, guess_psi0, tol=1.e-10)\n",
    "    print(f\"Error |e0 - e0_exact| = {np.abs(e0 - e0_exact)}.\")"
   ]
  },
  {
   "cell_type": "code",
   "execution_count": 18,
   "id": "75144deb",
   "metadata": {},
   "outputs": [
    {
     "name": "stdout",
     "output_type": "stream",
     "text": [
      "e0_exact = -1.0635444099733717.\n",
      "D = 2:\n",
      "AL, L: Converged up to tol=1e-10. Final error after 5 iterations: 3.6575195141722327e-13.\n",
      "AR, R: Converged up to tol=1e-10. Final error after 5 iterations: 1.6782945342419286e-16.\n",
      "Ground state converged up to tol=1e-10 in gradient norm. Final error after 8 iterations: 5.604595358426558e-11.\n",
      "Ground state energy density: -1.0635440740663125. \n",
      "Ground state variance density: (1.2520078219564962e-06-1.4973424925087894e-18j).\n",
      "Error |e0 - e0_exact| = 3.359070592789948e-07.\n",
      "D = 4:\n",
      "AL, L: Converged up to tol=1e-10. Final error after 5 iterations: 7.879850666576793e-14.\n",
      "AR, R: Converged up to tol=1e-10. Final error after 5 iterations: 2.012896011259176e-16.\n",
      "Ground state converged up to tol=1e-10 in gradient norm. Final error after 15 iterations: 8.366396379864333e-11.\n",
      "Ground state energy density: -1.0635444098648614. \n",
      "Ground state variance density: (4.0439849342474576e-10-4.708994966965557e-17j).\n",
      "Error |e0 - e0_exact| = 1.0851031184699877e-10.\n",
      "D = 6:\n",
      "AL, L: Converged up to tol=1e-10. Final error after 6 iterations: 5.844087217556035e-11.\n",
      "AR, R: Converged up to tol=1e-10. Final error after 6 iterations: 7.424805513529187e-16.\n",
      "Ground state converged up to tol=1e-10 in gradient norm. Final error after 12 iterations: 5.711555645657571e-11.\n",
      "Ground state energy density: -1.063544409973328. \n",
      "Ground state variance density: (1.3092782066848052e-13+4.4533604234842095e-17j).\n",
      "Error |e0 - e0_exact| = 4.374278717023117e-14.\n",
      "D = 8:\n",
      "AL, L: Converged up to tol=1e-10. Final error after 6 iterations: 1.201338904744441e-15.\n",
      "AR, R: Converged up to tol=1e-10. Final error after 6 iterations: 5.199253089513906e-13.\n",
      "Ground state converged up to tol=1e-10 in gradient norm. Final error after 266 iterations: 9.97069768262341e-11.\n",
      "Ground state energy density: -1.0635444099733662. \n",
      "Ground state variance density: (1.95590071916385e-16+7.078400230320012e-17j).\n",
      "Error |e0 - e0_exact| = 5.551115123125783e-15.\n",
      "D = 10:\n",
      "AL, L: Converged up to tol=1e-10. Final error after 6 iterations: 2.0466483097272435e-13.\n",
      "AR, R: Converged up to tol=1e-10. Final error after 6 iterations: 1.222321261252988e-14.\n",
      "Ground state converged up to tol=1e-10 in gradient norm. Final error after 5 iterations: 2.6360692586349735e-11.\n",
      "Ground state energy density: -1.0635444099733657. \n",
      "Ground state variance density: (3.859759734048396e-17-9.091882249238209e-17j).\n",
      "Error |e0 - e0_exact| = 5.995204332975845e-15.\n",
      "D = 20:\n",
      "AL, L: Converged up to tol=1e-10. Final error after 6 iterations: 2.725725688083007e-13.\n",
      "AR, R: Converged up to tol=1e-10. Final error after 6 iterations: 9.049999718832436e-16.\n",
      "Ground state converged up to tol=1e-10 in gradient norm. Final error after 4 iterations: 2.9924025337569166e-11.\n",
      "Ground state energy density: -1.0635444099733657. \n",
      "Ground state variance density: (2.248635305734936e-16-2.5626981819178857e-16j).\n",
      "Error |e0 - e0_exact| = 5.995204332975845e-15.\n",
      "D = 30:\n",
      "AL, L: Converged up to tol=1e-10. Final error after 7 iterations: 1.4657440911778917e-15.\n",
      "AR, R: Converged up to tol=1e-10. Final error after 6 iterations: 7.209454505858378e-15.\n",
      "Ground state converged up to tol=1e-10 in gradient norm. Final error after 4 iterations: 1.6134853110739073e-13.\n",
      "Ground state energy density: -1.063544409973368. \n",
      "Ground state variance density: (-7.697835424647081e-18+2.439454888092385e-19j).\n",
      "Error |e0 - e0_exact| = 3.774758283725532e-15.\n",
      "D = 40:\n",
      "AL, L: Converged up to tol=1e-10. Final error after 6 iterations: 6.0893735354349e-11.\n",
      "AR, R: Converged up to tol=1e-10. Final error after 6 iterations: 3.051467970024072e-14.\n",
      "Ground state converged up to tol=1e-10 in gradient norm. Final error after 4 iterations: 1.4470621353295343e-12.\n",
      "Ground state energy density: -1.0635444099733697. \n",
      "Ground state variance density: (-2.5153490401663703e-17-1.390404582917934e-17j).\n",
      "Error |e0 - e0_exact| = 1.9984014443252818e-15.\n",
      "D = 50:\n",
      "AL, L: Converged up to tol=1e-10. Final error after 6 iterations: 9.249111036812045e-11.\n",
      "AR, R: Converged up to tol=1e-10. Final error after 6 iterations: 8.436425936391348e-14.\n",
      "Ground state converged up to tol=1e-10 in gradient norm. Final error after 3 iterations: 6.934329314163312e-11.\n",
      "Ground state energy density: -1.063544409972676. \n",
      "Ground state variance density: (-1.2923899147046503e-12-1.5263533709522492e-18j).\n",
      "Error |e0 - e0_exact| = 6.956657472301231e-13.\n"
     ]
    }
   ],
   "source": [
    "# ferromagnetic phase \n",
    "g = 0.5\n",
    "\n",
    "e0_exact = infinite_gs_energy(J=1., g=g)\n",
    "print(f\"e0_exact = {e0_exact}.\")\n",
    "\n",
    "h = TFIModel(L=1, J=1., g=g, bc='infinite').H_bonds[0]\n",
    "Ds = [2, 4, 6, 8, 10, 20, 30, 40, 50]\n",
    "for D in Ds:\n",
    "    print(f\"D = {D}:\")\n",
    "    guess_psi0 = UniformMPS.from_desired_bond_dimension(D)\n",
    "    e0, psi0, var0 = vumps_algorithm(h, guess_psi0, tol=1.e-10)\n",
    "    print(f\"Error |e0 - e0_exact| = {np.abs(e0 - e0_exact)}.\")"
   ]
  },
  {
   "cell_type": "markdown",
   "id": "61775480",
   "metadata": {},
   "source": [
    "* For a bond dimension $D = 30$, plot the magnetization $m = \\vert \\langle \\sigma^z \\rangle \\vert$ against the transverse field $g$ to locate the quantum phase transition."
   ]
  },
  {
   "cell_type": "code",
   "execution_count": 19,
   "id": "3c8fdfa6",
   "metadata": {},
   "outputs": [
    {
     "name": "stdout",
     "output_type": "stream",
     "text": [
      "g = 1e-05:\n",
      "AL, L: Converged up to tol=1e-10. Final error after 6 iterations: 1.0841318558752074e-12.\n",
      "AR, R: Converged up to tol=1e-10. Final error after 6 iterations: 4.464060242955317e-15.\n",
      "Ground state converged up to tol=1e-10 in gradient norm. Final error after 3 iterations: 1.0558412697719659e-12.\n",
      "Ground state energy density: -1.000000000024999. \n",
      "Ground state variance density: (-2.4640661875812474e-28+6.956158032572885e-29j).\n",
      "Magnetization density in z-direction:-0.9999999999875013.\n",
      "g = 0.2:\n",
      "AL, L: Converged up to tol=1e-10. Final error after 6 iterations: 3.5724495331655725e-11.\n",
      "AR, R: Converged up to tol=1e-10. Final error after 6 iterations: 7.398077452640131e-14.\n",
      "Ground state converged up to tol=1e-10 in gradient norm. Final error after 3 iterations: 9.02909963479197e-12.\n",
      "Ground state energy density: -1.0100252539845829. \n",
      "Ground state variance density: (7.3283257717368655e-16-5.836057006582129e-19j).\n",
      "Magnetization density in z-direction:-0.9949102475942042.\n",
      "g = 0.4:\n",
      "AL, L: Converged up to tol=1e-10. Final error after 6 iterations: 1.769794488188224e-12.\n",
      "AR, R: Converged up to tol=1e-10. Final error after 6 iterations: 1.3232353680273535e-15.\n",
      "Ground state converged up to tol=1e-10 in gradient norm. Final error after 4 iterations: 1.8527730323814615e-11.\n",
      "Ground state energy density: -1.0404170862358273. \n",
      "Ground state variance density: (-1.2197274440461925e-17-1.3319169579100246e-17j).\n",
      "Magnetization density in z-direction:-0.9784416036423211.\n",
      "g = 0.6:\n",
      "AL, L: Converged up to tol=1e-10. Final error after 7 iterations: 1.1725984012508913e-15.\n",
      "AR, R: Converged up to tol=1e-10. Final error after 6 iterations: 1.2472285049232723e-15.\n",
      "Ground state converged up to tol=1e-10 in gradient norm. Final error after 4 iterations: 3.1742064481548327e-12.\n",
      "Ground state energy density: -1.0922385835546908. \n",
      "Ground state variance density: (-2.3765711620882257e-16+1.4215923360358373e-16j).\n",
      "Magnetization density in z-direction:-0.9457416090031756.\n",
      "g = 0.8:\n",
      "AL, L: Converged up to tol=1e-10. Final error after 6 iterations: 2.1111680033729895e-12.\n",
      "AR, R: Converged up to tol=1e-10. Final error after 6 iterations: 1.2770177968453683e-15.\n",
      "Ground state converged up to tol=1e-10 in gradient norm. Final error after 8 iterations: 9.965773539999337e-11.\n",
      "Ground state energy density: -1.1678095085207234. \n",
      "Ground state variance density: (-3.209238430557093e-16-4.2392304944183223e-16j).\n",
      "Magnetization density in z-direction:-0.8801117367933923.\n",
      "g = 0.9:\n",
      "AL, L: Converged up to tol=1e-10. Final error after 6 iterations: 1.7673911785036534e-11.\n",
      "AR, R: Converged up to tol=1e-10. Final error after 6 iterations: 4.2927129091754885e-14.\n",
      "Ground state converged up to tol=1e-10 in gradient norm. Final error after 30 iterations: 9.310186124881765e-11.\n",
      "Ground state energy density: -1.216000914109797. \n",
      "Ground state variance density: (9.037909309839165e-16+1.0007186052041206e-16j).\n",
      "Magnetization density in z-direction:-0.8125389716241247.\n",
      "g = 0.95:\n",
      "AL, L: Converged up to tol=1e-10. Final error after 6 iterations: 1.3982737709286746e-13.\n",
      "AR, R: Converged up to tol=1e-10. Final error after 6 iterations: 1.5599376640004106e-15.\n",
      "Ground state converged up to tol=1e-10 in gradient norm. Final error after 51 iterations: 8.906907427269569e-11.\n",
      "Ground state energy density: -1.2432657042704243. \n",
      "Ground state variance density: (1.3662682096793333e-14+3.596840707220661e-16j).\n",
      "Magnetization density in z-direction:0.7475247509625005.\n",
      "g = 0.96:\n",
      "AL, L: Converged up to tol=1e-10. Final error after 6 iterations: 7.963020246162979e-13.\n",
      "AR, R: Converged up to tol=1e-10. Final error after 6 iterations: 2.0427012023037618e-15.\n",
      "Ground state converged up to tol=1e-10 in gradient norm. Final error after 53 iterations: 9.798028331227969e-11.\n",
      "Ground state energy density: -1.2490164923959939. \n",
      "Ground state variance density: (5.522839130467361e-14-5.656011683313755e-16j).\n",
      "Magnetization density in z-direction:0.7274271525615099.\n",
      "g = 0.97:\n",
      "AL, L: Converged up to tol=1e-10. Final error after 6 iterations: 1.1890077634866715e-12.\n",
      "AR, R: Converged up to tol=1e-10. Final error after 6 iterations: 3.611173028394273e-13.\n",
      "Ground state converged up to tol=1e-10 in gradient norm. Final error after 58 iterations: 9.1934154542365e-11.\n",
      "Ground state energy density: -1.2548784203916012. \n",
      "Ground state variance density: (2.76442063684712e-13+1.6449786411493195e-15j).\n",
      "Magnetization density in z-direction:0.7021799675148079.\n",
      "g = 0.98:\n",
      "AL, L: Converged up to tol=1e-10. Final error after 6 iterations: 9.956915231773132e-11.\n",
      "AR, R: Converged up to tol=1e-10. Final error after 6 iterations: 7.199833514090958e-13.\n",
      "Ground state converged up to tol=1e-10 in gradient norm. Final error after 60 iterations: 8.99908774568131e-11.\n",
      "Ground state energy density: -1.2608596438310171. \n",
      "Ground state variance density: (1.9210986967888033e-12-6.58273349024574e-16j).\n",
      "Magnetization density in z-direction:0.6679007034422054.\n",
      "g = 0.99:\n",
      "AL, L: Converged up to tol=1e-10. Final error after 6 iterations: 8.307016280647061e-12.\n",
      "AR, R: Converged up to tol=1e-10. Final error after 6 iterations: 1.5120058486814553e-15.\n",
      "Ground state converged up to tol=1e-10 in gradient norm. Final error after 67 iterations: 9.248660196471857e-11.\n",
      "Ground state energy density: -1.2669721934560731. \n",
      "Ground state variance density: (2.888842637327471e-11+8.026348682910189e-16j).\n",
      "Magnetization density in z-direction:-0.6128535976811175.\n",
      "g = 0.994:\n",
      "AL, L: Converged up to tol=1e-10. Final error after 6 iterations: 3.5783767664759973e-13.\n",
      "AR, R: Converged up to tol=1e-10. Final error after 6 iterations: 1.067144269262764e-14.\n",
      "Ground state converged up to tol=1e-10 in gradient norm. Final error after 123 iterations: 9.829889059359171e-11.\n",
      "Ground state energy density: -1.269458286381301. \n",
      "Ground state variance density: (1.46879994278315e-10-7.018582763584913e-16j).\n",
      "Magnetization density in z-direction:-0.575089789092768.\n",
      "g = 0.998:\n",
      "AL, L: Converged up to tol=1e-10. Final error after 6 iterations: 1.6237380282590372e-11.\n",
      "AR, R: Converged up to tol=1e-10. Final error after 6 iterations: 2.4007818892649257e-14.\n",
      "Ground state converged up to tol=1e-10 in gradient norm. Final error after 74 iterations: 9.34453642707441e-11.\n",
      "Ground state energy density: -1.2719712708654267. \n",
      "Ground state variance density: (1.3703385370877896e-09+6.788731903017986e-16j).\n",
      "Magnetization density in z-direction:-0.5015035114587285.\n",
      "g = 1.002:\n",
      "AL, L: Converged up to tol=1e-10. Final error after 6 iterations: 4.749940618963747e-12.\n",
      "AR, R: Converged up to tol=1e-10. Final error after 6 iterations: 1.629409427517756e-14.\n",
      "Ground state converged up to tol=1e-10 in gradient norm. Final error after 114 iterations: 9.272785789955748e-11.\n",
      "Ground state energy density: -1.2745177365002454. \n",
      "Ground state variance density: (1.641237214189406e-08+5.381437483131801e-16j).\n",
      "Magnetization density in z-direction:1.958967710269377e-12.\n",
      "g = 1.006:\n",
      "AL, L: Converged up to tol=1e-10. Final error after 7 iterations: 1.4274521372833003e-15.\n",
      "AR, R: Converged up to tol=1e-10. Final error after 6 iterations: 1.3171292212904976e-13.\n",
      "Ground state converged up to tol=1e-10 in gradient norm. Final error after 203 iterations: 9.983914313042958e-11.\n",
      "Ground state energy density: -1.277097527214888. \n",
      "Ground state variance density: (2.3451187380896243e-09-3.009474180276639e-16j).\n",
      "Magnetization density in z-direction:-7.44780140338186e-11.\n",
      "g = 1.01:\n",
      "AL, L: Converged up to tol=1e-10. Final error after 6 iterations: 7.169999122906434e-13.\n",
      "AR, R: Converged up to tol=1e-10. Final error after 6 iterations: 1.12401967481012e-15.\n",
      "Ground state converged up to tol=1e-10 in gradient norm. Final error after 243 iterations: 9.852614921452542e-11.\n",
      "Ground state energy density: -1.2797037635358643. \n",
      "Ground state variance density: (7.366018316135037e-10-9.640725717741105e-16j).\n",
      "Magnetization density in z-direction:1.166811508523935e-10.\n",
      "g = 1.02:\n",
      "AL, L: Converged up to tol=1e-10. Final error after 6 iterations: 6.956302487087153e-13.\n",
      "AR, R: Converged up to tol=1e-10. Final error after 6 iterations: 5.374062119295595e-15.\n",
      "Ground state converged up to tol=1e-10 in gradient norm. Final error after 74 iterations: 9.578725178888651e-11.\n",
      "Ground state energy density: -1.2863187148765398. \n",
      "Ground state variance density: (7.758697156967642e-11-1.057910269802731e-16j).\n",
      "Magnetization density in z-direction:3.731934899997569e-11.\n",
      "g = 1.03:\n",
      "AL, L: Converged up to tol=1e-10. Final error after 6 iterations: 4.520729873368416e-11.\n",
      "AR, R: Converged up to tol=1e-10. Final error after 6 iterations: 8.452762256594031e-15.\n",
      "Ground state converged up to tol=1e-10 in gradient norm. Final error after 54 iterations: 8.676344750487124e-11.\n",
      "Ground state energy density: -1.293058040756233. \n",
      "Ground state variance density: (1.5544891762697688e-11-7.917928465661639e-16j).\n",
      "Magnetization density in z-direction:9.403103296001802e-12.\n",
      "g = 1.04:\n",
      "AL, L: Converged up to tol=1e-10. Final error after 6 iterations: 8.66880155585053e-13.\n",
      "AR, R: Converged up to tol=1e-10. Final error after 6 iterations: 2.12375244581531e-14.\n",
      "Ground state converged up to tol=1e-10 in gradient norm. Final error after 82 iterations: 9.792520649202314e-11.\n",
      "Ground state energy density: -1.2999073549362832. \n",
      "Ground state variance density: (4.25977308982084e-12+1.0191500421363742e-15j).\n",
      "Magnetization density in z-direction:-1.3651080266186e-11.\n",
      "g = 1.05:\n",
      "AL, L: Converged up to tol=1e-10. Final error after 6 iterations: 5.84930721295939e-12.\n",
      "AR, R: Converged up to tol=1e-10. Final error after 6 iterations: 6.842198623835996e-14.\n",
      "Ground state converged up to tol=1e-10 in gradient norm. Final error after 401 iterations: 9.790336148835412e-11.\n",
      "Ground state energy density: -1.30685647027065. \n",
      "Ground state variance density: (1.6527300361612873e-12+3.1116602350333977e-16j).\n",
      "Magnetization density in z-direction:1.161792884118995e-12.\n",
      "g = 1.1:\n",
      "AL, L: Converged up to tol=1e-10. Final error after 7 iterations: 1.3665550123672518e-15.\n",
      "AR, R: Converged up to tol=1e-10. Final error after 6 iterations: 1.270956622299578e-15.\n",
      "Ground state converged up to tol=1e-10 in gradient norm. Final error after 51 iterations: 9.510126121033557e-11.\n",
      "Ground state energy density: -1.3428640227251152. \n",
      "Ground state variance density: (2.5767582512159493e-14+1.0237036912608133e-15j).\n",
      "Magnetization density in z-direction:-1.9888257707378898e-13.\n",
      "g = 1.2:\n",
      "AL, L: Converged up to tol=1e-10. Final error after 6 iterations: 1.2319760205554827e-12.\n",
      "AR, R: Converged up to tol=1e-10. Final error after 6 iterations: 7.010775359532624e-14.\n",
      "Ground state converged up to tol=1e-10 in gradient norm. Final error after 24 iterations: 9.115283240449447e-11.\n",
      "Ground state energy density: -1.419619274898226. \n",
      "Ground state variance density: (-3.7470027081099033e-16+7.237049501340742e-18j).\n",
      "Magnetization density in z-direction:7.494005416219807e-16.\n",
      "g = 1.4:\n",
      "AL, L: Converged up to tol=1e-10. Final error after 6 iterations: 6.384417330998172e-13.\n",
      "AR, R: Converged up to tol=1e-10. Final error after 6 iterations: 1.4373256379943113e-15.\n",
      "Ground state converged up to tol=1e-10 in gradient norm. Final error after 8 iterations: 9.71027788671026e-11.\n",
      "Ground state energy density: -1.5851883000539715. \n",
      "Ground state variance density: (-8.743006318923108e-16-2.8980724070537534e-16j).\n",
      "Magnetization density in z-direction:7.301451110386381e-15.\n",
      "g = 1.6:\n",
      "AL, L: Converged up to tol=1e-10. Final error after 6 iterations: 7.188393106829683e-13.\n",
      "AR, R: Converged up to tol=1e-10. Final error after 6 iterations: 3.726497636735712e-15.\n",
      "Ground state converged up to tol=1e-10 in gradient norm. Final error after 5 iterations: 5.7477169951713344e-11.\n",
      "Ground state energy density: -1.7605081222045849. \n",
      "Ground state variance density: (1.0130785099704553e-15-1.7780915628762273e-16j).\n",
      "Magnetization density in z-direction:3.1213226447945885e-13.\n",
      "g = 1.8:\n",
      "AL, L: Converged up to tol=1e-10. Final error after 6 iterations: 8.109922996840182e-12.\n",
      "AR, R: Converged up to tol=1e-10. Final error after 6 iterations: 1.3895936995593118e-15.\n",
      "Ground state converged up to tol=1e-10 in gradient norm. Final error after 5 iterations: 4.998702109408096e-12.\n",
      "Ground state energy density: -1.9418043043913733. \n",
      "Ground state variance density: (4.996003610813204e-16-2.280077168737016e-16j).\n",
      "Magnetization density in z-direction:7.854827899222983e-15.\n",
      "g = 2.0:\n",
      "AL, L: Converged up to tol=1e-10. Final error after 7 iterations: 1.4946933903416008e-15.\n",
      "AR, R: Converged up to tol=1e-10. Final error after 6 iterations: 3.408004976493768e-14.\n",
      "Ground state converged up to tol=1e-10 in gradient norm. Final error after 4 iterations: 8.764610174344557e-12.\n",
      "Ground state energy density: -2.1270888199467257. \n",
      "Ground state variance density: (-1.3877787807814457e-17-5.421010862427522e-17j).\n",
      "Magnetization density in z-direction:-2.5271451598030126e-14.\n"
     ]
    }
   ],
   "source": [
    "D = 30\n",
    "gs = [1.e-5, 0.2, 0.4, 0.6, 0.8, 0.9, 0.95, 0.96, 0.97, 0.98, 0.99, 0.994, 0.998,\\\n",
    "       1.002, 1.006, 1.01, 1.02, 1.03, 1.04, 1.05, 1.1, 1.2, 1.4, 1.6, 1.8, 2.0]\n",
    "szs = []\n",
    "for g in gs:\n",
    "    print(f\"g = {g}:\")\n",
    "    tfi_model = TFIModel(L=1, J=1., g=g, bc='infinite')\n",
    "    h = tfi_model.H_bonds[0]\n",
    "    guess_psi0 = UniformMPS.from_desired_bond_dimension(D)\n",
    "    _, psi0, _ = vumps_algorithm(h, guess_psi0, tol=1.e-10)\n",
    "    sz = psi0.get_site_expectation_value(tfi_model.sigmaz)\n",
    "    print(f\"Magnetization density in z-direction:{sz}.\")\n",
    "    szs.append(sz)"
   ]
  },
  {
   "cell_type": "code",
   "execution_count": 20,
   "id": "98c8f7ac",
   "metadata": {},
   "outputs": [
    {
     "data": {
      "image/png": "[encoded data removed]",
      "text/plain": [
       "<Figure size 600x400 with 1 Axes>"
      ]
     },
     "metadata": {},
     "output_type": "display_data"
    }
   ],
   "source": [
    "plt.figure(figsize=(6, 4))\n",
    "plt.title(f\"TFI VUMPS with $D={D}$\")\n",
    "plt.axvline(x=1.0, color=\"darkblue\")\n",
    "plt.plot(gs, np.abs(szs), \".-\", color=\"cornflowerblue\")\n",
    "plt.xlabel(r\"transverse field $g$\")\n",
    "plt.ylabel(r\"magnetization $\\vert \\langle \\sigma^z \\rangle \\vert$\")\n",
    "plt.show()"
   ]
  },
  {
   "cell_type": "markdown",
   "id": "4cd06d6b",
   "metadata": {},
   "source": [
    "Magnetization $m =  \\vert \\langle \\sigma^z \\rangle \\vert$ as order parameter: <br>\n",
    "$m >0$ for $g<1$ (ferromagnetic phase), $m = 0$ for $g>1$ (paramagnetic phase), quantum phase transition at $g=1$."
   ]
  },
  {
   "cell_type": "markdown",
   "id": "0e3a7014",
   "metadata": {},
   "source": [
    "## 3) uTDVP: Global quench dynamics"
   ]
  },
  {
   "cell_type": "code",
   "execution_count": 21,
   "id": "4302f91a",
   "metadata": {},
   "outputs": [],
   "source": [
    "from tenpy_toycodes.b_model import TFIModel\n",
    "from tenpy_toycodes.c_tebd import example_TEBD_gs_tf_ising_infinite, calc_U_bonds, update_bond\n",
    "\n",
    "from tenpy_toycodes.f_umps import UniformMPS\n",
    "from tenpy_toycodes.g_vumps import vumps_algorithm\n",
    "from tenpy_toycodes.h_utdvp import utdvp_algorithm"
   ]
  },
  {
   "cell_type": "markdown",
   "id": "77d8eb5c",
   "metadata": {},
   "source": [
    "For benchmark we want to use iTEBD. The `run_TEBD` function in `c_tebd.py` relies on a first order Trotter decomposition. We want to improve this to second order:\n",
    "\n",
    "$$ H = H_{\\mathrm{odd}} + H_{\\mathrm{even}} \\Rightarrow U(dt) = e^{-i dt H_{\\mathrm{odd}}/2} e^{-i dt H_{\\mathrm{even}}} e^{-i dt H_{\\mathrm{odd}}/2} + \\mathcal{O}(dt^3).$$\n",
    "\n",
    "* Implement this improved scheme in a function `run_TEBD_second_order`. \n",
    "\n",
    "* Then write a function `itebd_global_quench` performing a global quench dynamics for the TFI model. Compute the ground state for a value $g_1$ of the transverse field and subsequently evolve it according to a different value $g_2$. Converge the method in bond dimension $D$ and time step $dt$."
   ]
  },
  {
   "cell_type": "code",
   "execution_count": 22,
   "id": "f11ecbaa",
   "metadata": {},
   "outputs": [],
   "source": [
    "def run_TEBD_second_order(psi, U_bonds, U_bonds_half_dt, N_steps, chi_max, eps):\n",
    "    \"\"\"Evolve MPS psi for N_steps time steps with second order TEBD.\n",
    "\n",
    "    H = H_odd + H_even\n",
    "    U = exp(-i * dt * H) \\\\approx exp(-i * dt/2 * H_odd) exp(-i * dt * H_even) exp(-i* dt/2 *H_odd)\n",
    "    \"\"\"\n",
    "    Nbonds = psi.L - 1 if psi.bc == 'finite' else psi.L\n",
    "    assert len(U_bonds) == len(U_bonds_half_dt) == Nbonds\n",
    "    for i_bond in range(0, Nbonds, 2):  # odd (half)\n",
    "        update_bond(psi, i_bond, U_bonds_half_dt[i_bond], chi_max, eps)\n",
    "    for i_bond in range(1, Nbonds, 2):  # even\n",
    "        update_bond(psi, i_bond, U_bonds[i_bond], chi_max, eps)\n",
    "    for n in range(N_steps - 1):  # N_steps - 1 times odd, even \n",
    "        for k in [0, 1]:\n",
    "            for i_bond in range(k, Nbonds, 2):\n",
    "                update_bond(psi, i_bond, U_bonds[i_bond], chi_max,eps)\n",
    "    for i_bond in range(0, Nbonds, 2):  # odd (half)\n",
    "        update_bond(psi, i_bond, U_bonds_half_dt[i_bond], chi_max, eps) \n",
    "\n",
    "def itebd_global_quench(g1, g2, chi_max, dt, T):\n",
    "    \"\"\"Calculate the tfi ground state for transverse field g1 and evolve it according to different g2 \n",
    "    up to time T in steps of dt with second order iTEBD.\"\"\"\n",
    "    _, psi1, _ = example_TEBD_gs_tf_ising_infinite(g1, chi_max)\n",
    "    model2 = TFIModel(L=2, J=1., g=g2, bc=\"infinite\")\n",
    "    H_bonds = model2.H_bonds\n",
    "    U_bonds = calc_U_bonds(H_bonds, 1.j * dt)\n",
    "    U_bonds_half_dt = calc_U_bonds(H_bonds, 1.j * dt/2)\n",
    "    ts = []\n",
    "    Ss = []\n",
    "    t = 0.\n",
    "    ts.append(t)\n",
    "    Ss.append(psi1.entanglement_entropy()[1])\n",
    "    psi = psi1\n",
    "    for i in range(int(T/dt)):\n",
    "        run_TEBD_second_order(psi, U_bonds, U_bonds_half_dt, N_steps=1, chi_max=chi_max, eps=1.e-10)\n",
    "        t += dt\n",
    "        ts.append(t)\n",
    "        Ss.append(psi.entanglement_entropy()[0])     \n",
    "    return ts, Ss"
   ]
  },
  {
   "cell_type": "code",
   "execution_count": 23,
   "id": "cf2104db",
   "metadata": {},
   "outputs": [],
   "source": [
    "g1 = 3.\n",
    "g2 = 1.5\n",
    "T = 5."
   ]
  },
  {
   "cell_type": "code",
   "execution_count": 24,
   "id": "42b59161",
   "metadata": {},
   "outputs": [
    {
     "name": "stdout",
     "output_type": "stream",
     "text": [
      "infinite TEBD, imaginary time evolution, transverse field Ising\n",
      "g=3.00\n",
      "dt = 0.10000: E (per site) = -3.0722915530137\n",
      "dt = 0.01000: E (per site) = -3.0827483842174\n",
      "dt = 0.00100: E (per site) = -3.0838108901537\n",
      "dt = 0.00010: E (per site) = -3.0839168389419\n",
      "dt = 0.00001: E (per site) = -3.0839274447472\n",
      "final bond dimensions:  [10, 10]\n",
      "<sigma_x> = 0.97161\n",
      "<sigma_z> = -0.00000\n",
      "correlation length: 0.886591626230449\n",
      "Analytic result: E (per site) = -3.0839288503801\n",
      "relative error:  4.5579290330811456e-07\n",
      "infinite TEBD, imaginary time evolution, transverse field Ising\n",
      "g=3.00\n",
      "dt = 0.10000: E (per site) = -3.0722915530137\n",
      "dt = 0.01000: E (per site) = -3.0827483842174\n",
      "dt = 0.00100: E (per site) = -3.0838108901537\n",
      "dt = 0.00010: E (per site) = -3.0839168389419\n",
      "dt = 0.00001: E (per site) = -3.0839274447472\n",
      "final bond dimensions:  [11, 11]\n",
      "<sigma_x> = 0.97161\n",
      "<sigma_z> = -0.00000\n",
      "correlation length: 0.8939157106447442\n",
      "Analytic result: E (per site) = -3.0839288503801\n",
      "relative error:  4.5579290330811456e-07\n",
      "infinite TEBD, imaginary time evolution, transverse field Ising\n",
      "g=3.00\n",
      "dt = 0.10000: E (per site) = -3.0722915530137\n",
      "dt = 0.01000: E (per site) = -3.0827483842174\n",
      "dt = 0.00100: E (per site) = -3.0838108901537\n",
      "dt = 0.00010: E (per site) = -3.0839168389419\n",
      "dt = 0.00001: E (per site) = -3.0839274447472\n",
      "final bond dimensions:  [11, 11]\n",
      "<sigma_x> = 0.97161\n",
      "<sigma_z> = -0.00000\n",
      "correlation length: 0.8939157106447435\n",
      "Analytic result: E (per site) = -3.0839288503801\n",
      "relative error:  4.5579290330811456e-07\n",
      "infinite TEBD, imaginary time evolution, transverse field Ising\n",
      "g=3.00\n",
      "dt = 0.10000: E (per site) = -3.0722915530137\n",
      "dt = 0.01000: E (per site) = -3.0827483842174\n",
      "dt = 0.00100: E (per site) = -3.0838108901537\n",
      "dt = 0.00010: E (per site) = -3.0839168389419\n",
      "dt = 0.00001: E (per site) = -3.0839274447472\n",
      "final bond dimensions:  [10, 10]\n",
      "<sigma_x> = 0.97161\n",
      "<sigma_z> = -0.00000\n",
      "correlation length: 0.8865916262304465\n",
      "Analytic result: E (per site) = -3.0839288503801\n",
      "relative error:  4.5579290330811456e-07\n",
      "infinite TEBD, imaginary time evolution, transverse field Ising\n",
      "g=3.00\n",
      "dt = 0.10000: E (per site) = -3.0722915530137\n",
      "dt = 0.01000: E (per site) = -3.0827483842174\n",
      "dt = 0.00100: E (per site) = -3.0838108901537\n",
      "dt = 0.00010: E (per site) = -3.0839168389419\n",
      "dt = 0.00001: E (per site) = -3.0839274447472\n",
      "final bond dimensions:  [11, 11]\n",
      "<sigma_x> = 0.97161\n",
      "<sigma_z> = -0.00000\n",
      "correlation length: 0.8939157106447669\n",
      "Analytic result: E (per site) = -3.0839288503801\n",
      "relative error:  4.5579290330811456e-07\n",
      "infinite TEBD, imaginary time evolution, transverse field Ising\n",
      "g=3.00\n",
      "dt = 0.10000: E (per site) = -3.0722915530137\n",
      "dt = 0.01000: E (per site) = -3.0827483842174\n",
      "dt = 0.00100: E (per site) = -3.0838108901537\n",
      "dt = 0.00010: E (per site) = -3.0839168389419\n",
      "dt = 0.00001: E (per site) = -3.0839274447472\n",
      "final bond dimensions:  [11, 11]\n",
      "<sigma_x> = 0.97161\n",
      "<sigma_z> = -0.00000\n",
      "correlation length: 0.8939157106447387\n",
      "Analytic result: E (per site) = -3.0839288503801\n",
      "relative error:  4.5579290330811456e-07\n",
      "infinite TEBD, imaginary time evolution, transverse field Ising\n",
      "g=3.00\n",
      "dt = 0.10000: E (per site) = -3.0722915530137\n",
      "dt = 0.01000: E (per site) = -3.0827483842174\n",
      "dt = 0.00100: E (per site) = -3.0838108901537\n",
      "dt = 0.00010: E (per site) = -3.0839168389419\n",
      "dt = 0.00001: E (per site) = -3.0839274447472\n",
      "final bond dimensions:  [10, 10]\n",
      "<sigma_x> = 0.97161\n",
      "<sigma_z> = -0.00000\n",
      "correlation length: 0.8865916262304483\n",
      "Analytic result: E (per site) = -3.0839288503801\n",
      "relative error:  4.5579290330811456e-07\n",
      "infinite TEBD, imaginary time evolution, transverse field Ising\n",
      "g=3.00\n",
      "dt = 0.10000: E (per site) = -3.0722915530137\n",
      "dt = 0.01000: E (per site) = -3.0827483842174\n",
      "dt = 0.00100: E (per site) = -3.0838108901537\n",
      "dt = 0.00010: E (per site) = -3.0839168389419\n",
      "dt = 0.00001: E (per site) = -3.0839274447472\n",
      "final bond dimensions:  [11, 11]\n",
      "<sigma_x> = 0.97161\n",
      "<sigma_z> = -0.00000\n",
      "correlation length: 0.8939157106447684\n",
      "Analytic result: E (per site) = -3.0839288503801\n",
      "relative error:  4.5579290330811456e-07\n",
      "infinite TEBD, imaginary time evolution, transverse field Ising\n",
      "g=3.00\n",
      "dt = 0.10000: E (per site) = -3.0722915530137\n",
      "dt = 0.01000: E (per site) = -3.0827483842174\n",
      "dt = 0.00100: E (per site) = -3.0838108901537\n",
      "dt = 0.00010: E (per site) = -3.0839168389419\n",
      "dt = 0.00001: E (per site) = -3.0839274447472\n",
      "final bond dimensions:  [11, 11]\n",
      "<sigma_x> = 0.97161\n",
      "<sigma_z> = -0.00000\n",
      "correlation length: 0.8939157106447557\n",
      "Analytic result: E (per site) = -3.0839288503801\n",
      "relative error:  4.5579290330811456e-07\n"
     ]
    },
    {
     "data": {
      "image/png": "[encoded data removed]",
      "text/plain": [
       "<Figure size 600x400 with 1 Axes>"
      ]
     },
     "metadata": {},
     "output_type": "display_data"
    }
   ],
   "source": [
    "plt.figure(figsize=(6, 4))\n",
    "plt.title(f\"TFI global quench with $g_2={g2}$ on GS of $g_1={g1}$ (iTEBD)\")\n",
    "plt.xlabel('time $t$')\n",
    "plt.ylabel('entanglement entropy')\n",
    "for dt in [0.1, 0.01, 0.001]:\n",
    "    for D in [10, 20, 30]:\n",
    "        ts_itebd, Ss_itebd = itebd_global_quench(g1, g2, D, dt, T)\n",
    "        plt.plot(ts_itebd, Ss_itebd, label=f\"D={D}, dt={dt}\")\n",
    "plt.legend(loc='center left', bbox_to_anchor=(1, 0.5))\n",
    "plt.show()"
   ]
  },
  {
   "cell_type": "markdown",
   "id": "ca455bc2",
   "metadata": {},
   "source": [
    "* Analogous to `itebd_global_quench`, write a function `utdvp_global_quench` and make sure they give the same dynamics."
   ]
  },
  {
   "cell_type": "code",
   "execution_count": 25,
   "id": "1a931017",
   "metadata": {},
   "outputs": [],
   "source": [
    "def utdvp_global_quench(g1, g2, D, dt, T):\n",
    "    \"\"\"Calculate the tfi ground state for transverse field g1 and evolve it according to different g2 \n",
    "    up to time T in steps of dt with uTDVP.\"\"\"\n",
    "    h1 = TFIModel(L=1, J=1., g=g1, bc=\"infinite\").H_bonds[0]\n",
    "    h2 = TFIModel(L=1, J=1., g=g2, bc=\"infinite\").H_bonds[0]\n",
    "    guess_psi1 = UniformMPS.from_desired_bond_dimension(D)\n",
    "    _, psi1, _ = vumps_algorithm(h1, guess_psi1, tol=1.e-10)\n",
    "    ts, Ss = utdvp_algorithm(psi1, h2, dt, T)\n",
    "    return ts, Ss"
   ]
  },
  {
   "cell_type": "code",
   "execution_count": 26,
   "id": "ce3852b8",
   "metadata": {},
   "outputs": [],
   "source": [
    "g1 = 3.\n",
    "g2 = 1.5\n",
    "D = 30\n",
    "T = 5.\n",
    "dt = 0.01"
   ]
  },
  {
   "cell_type": "code",
   "execution_count": 27,
   "id": "f83d2d6a",
   "metadata": {},
   "outputs": [
    {
     "name": "stdout",
     "output_type": "stream",
     "text": [
      "infinite TEBD, imaginary time evolution, transverse field Ising\n",
      "g=3.00\n",
      "dt = 0.10000: E (per site) = -3.0722915530137\n",
      "dt = 0.01000: E (per site) = -3.0827483842174\n",
      "dt = 0.00100: E (per site) = -3.0838108901537\n",
      "dt = 0.00010: E (per site) = -3.0839168389419\n",
      "dt = 0.00001: E (per site) = -3.0839274447472\n",
      "final bond dimensions:  [11, 11]\n",
      "<sigma_x> = 0.97161\n",
      "<sigma_z> = -0.00000\n",
      "correlation length: 0.8939157106447625\n",
      "Analytic result: E (per site) = -3.0839288503801\n",
      "relative error:  4.5579290330811456e-07\n",
      "AL, L: Converged up to tol=1e-10. Final error after 6 iterations: 5.117080131926979e-12.\n",
      "AR, R: Converged up to tol=1e-10. Final error after 6 iterations: 2.0059998935156386e-15.\n",
      "Ground state converged up to tol=1e-10 in gradient norm. Final error after 4 iterations: 9.203177170517007e-14.\n",
      "Ground state energy density: -3.0839288503800635. \n",
      "Ground state variance density: (2.7755575615628914e-16-2.8471149049469346e-16j).\n"
     ]
    }
   ],
   "source": [
    "ts_itebd, Ss_itebd = itebd_global_quench(g1, g2, D, dt, T)\n",
    "ts_utdvp, Ss_utdvp = utdvp_global_quench(g1, g2, D, dt, T)"
   ]
  },
  {
   "cell_type": "code",
   "execution_count": 28,
   "id": "da6c5b10",
   "metadata": {},
   "outputs": [
    {
     "data": {
      "image/png": "[encoded data removed]",
      "text/plain": [
       "<Figure size 600x400 with 1 Axes>"
      ]
     },
     "metadata": {},
     "output_type": "display_data"
    }
   ],
   "source": [
    "plt.figure(figsize=(6, 4))\n",
    "plt.title(f\"TFI global quench with $g_2={g2}$ on GS of $g_1={g1}$\")\n",
    "plt.xlabel('time $t$')\n",
    "plt.ylabel('entanglement entropy')\n",
    "plt.plot(ts_itebd, Ss_itebd, label=f\"iTEBD, D={D}, dt={dt}\")\n",
    "plt.plot(ts_utdvp, Ss_utdvp, label=f\"uTDVP, D={D}, dt={dt}\")\n",
    "plt.legend(loc='center left', bbox_to_anchor=(1, 0.5))\n",
    "plt.show()"
   ]
  }
 ],
 "metadata": {
  "kernelspec": {
   "display_name": "Python 3",
   "language": "python",
   "name": "python3"
  },
  "language_info": {
   "codemirror_mode": {
    "name": "ipython",
    "version": 3
   },
   "file_extension": ".py",
   "mimetype": "text/x-python",
   "name": "python",
   "nbconvert_exporter": "python",
   "pygments_lexer": "ipython3",
   "version": "3.12.7"
  }
 },
 "nbformat": 4,
 "nbformat_minor": 5
}
