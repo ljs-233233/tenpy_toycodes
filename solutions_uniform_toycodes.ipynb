{
 "cells": [
  {
   "cell_type": "markdown",
   "id": "20664216",
   "metadata": {},
   "source": [
    "# Uniform matrix product states in the thermodynamic limit"
   ]
  },
  {
   "cell_type": "code",
   "execution_count": 1,
   "id": "2a6affc1",
   "metadata": {},
   "outputs": [],
   "source": [
    "import numpy as np\n",
    "import matplotlib.pyplot as plt"
   ]
  },
  {
   "cell_type": "markdown",
   "id": "c1b9c9cf",
   "metadata": {},
   "source": [
    "## 1) Uniform MPS"
   ]
  },
  {
   "cell_type": "code",
   "execution_count": 2,
   "id": "e807aedc",
   "metadata": {},
   "outputs": [],
   "source": [
    "from tenpy_toycodes.f_umps import UniformMPS, TransferMatrix\n",
    "from tenpy_toycodes.a_mps import SimpleMPS"
   ]
  },
  {
   "cell_type": "markdown",
   "id": "4e071fef",
   "metadata": {},
   "source": [
    "### 1.1) Transfer matrix and canonical form of random injective tensor"
   ]
  },
  {
   "cell_type": "markdown",
   "id": "e0be6b6f",
   "metadata": {},
   "source": [
    "* Create a random tensor $A \\in \\mathbb{C}^{D \\times d \\times D}$ of physical dimension $d = 2$ and bond dimension $D = 4$."
   ]
  },
  {
   "cell_type": "code",
   "execution_count": 3,
   "id": "ecebc5d6",
   "metadata": {},
   "outputs": [],
   "source": [
    "D, d = 4, 2\n",
    "A = UniformMPS.get_random_tensor(D, d)"
   ]
  },
  {
   "cell_type": "markdown",
   "id": "ae5eb45e",
   "metadata": {},
   "source": [
    "* Show that $A$ is injective, i.e. its transfer matrix fulfills $T_A = \\vert R \\rangle \\langle L \\vert + \\mathcal{O}(\\vert \\lambda_2 \\vert)$ with $\\vert \\lambda_2 \\vert < 1$ and $R,L > 0$."
   ]
  },
  {
   "cell_type": "code",
   "execution_count": 4,
   "id": "b163994a",
   "metadata": {},
   "outputs": [
    {
     "name": "stdout",
     "output_type": "stream",
     "text": [
      "lambda_1 =  (0.9999999999999933-2.220446049250313e-16j)\n",
      "|lambda_2| =  0.5432252614776077\n",
      "R > 0 with eigenvalues [0.84751536 0.10282307 0.00975928 0.03990228]\n",
      "L > 0 with eigenvalues [0.53759349 0.32105351 0.09463921 0.04671379]\n"
     ]
    }
   ],
   "source": [
    "# Right eigenvector\n",
    "T = TransferMatrix([A], [A])\n",
    "lambdas, Rs = T.get_leading_eigenpairs(k=2)\n",
    "lambda1, lambda2 = lambdas[0], lambdas[1]\n",
    "R = Rs[0]\n",
    "R /= np.trace(R)\n",
    "ERs, _ = np.linalg.eig(R)\n",
    "\n",
    "# Left eigenvector\n",
    "T = TransferMatrix([A], [A], transpose=True)\n",
    "mus, Ls = T.get_leading_eigenpairs(k=2)\n",
    "L = Ls[0]\n",
    "L /= np.trace(L)\n",
    "ELs, _ = np.linalg.eig(L)\n",
    "\n",
    "assert np.allclose(np.abs(lambdas), np.abs(mus))\n",
    "print(\"lambda_1 = \", lambda1)\n",
    "print(\"|lambda_2| = \", np.abs(lambda2))\n",
    "print(\"R > 0 with eigenvalues\", np.real_if_close(ERs))\n",
    "print(\"L > 0 with eigenvalues\", np.real_if_close(ELs))"
   ]
  },
  {
   "cell_type": "markdown",
   "id": "8e7a5f93",
   "metadata": {},
   "source": [
    "* Compute the canonical form of $A$, consisting of left/right orthonormal tensor $A_L / A_R$, center site tensor $A_C$, and center matrix $C$."
   ]
  },
  {
   "cell_type": "code",
   "execution_count": 5,
   "id": "3e008d59",
   "metadata": {},
   "outputs": [
    {
     "name": "stdout",
     "output_type": "stream",
     "text": [
      "AL, L: Converged up to tol=1e-10. Final error after 5 iterations: 1.2212914658142701e-11.\n",
      "AR, R: Converged up to tol=1e-10. Final error after 5 iterations: 3.989297330571256e-12.\n"
     ]
    }
   ],
   "source": [
    "AL, AR, AC, C = UniformMPS.to_canonical_form(A)"
   ]
  },
  {
   "cell_type": "markdown",
   "id": "a7398c6d",
   "metadata": {},
   "source": [
    "* Show that $T_{A_L} = \\vert R \\rangle \\langle \\mathbb{1} \\vert + \\mathcal{O}(\\vert \\lambda_2 \\vert)$ with $\\vert \\lambda_2 \\vert < 1$ and $R > 0$."
   ]
  },
  {
   "cell_type": "code",
   "execution_count": 6,
   "id": "e951a918",
   "metadata": {},
   "outputs": [
    {
     "name": "stdout",
     "output_type": "stream",
     "text": [
      "lambda_1 =  (0.9999999999999958-1.1102230246251565e-16j)\n",
      "|lambda_2| =  0.5432252614819171\n",
      "R > 0 with eigenvalues [0.8893767  0.0969476  0.01106976 0.00260595]\n",
      "L = 1: True\n"
     ]
    }
   ],
   "source": [
    "# Right eigenvector\n",
    "T = TransferMatrix([AL], [AL])\n",
    "lambdas, Rs = T.get_leading_eigenpairs(k=2)\n",
    "lambda1, lambda2 = lambdas[0], lambdas[1]\n",
    "R = Rs[0]\n",
    "R /= np.trace(R)\n",
    "ERs, _ = np.linalg.eig(R)\n",
    "\n",
    "# Left eigenvector\n",
    "T = TransferMatrix([AL], [AL], transpose=True)\n",
    "mus, Ls = T.get_leading_eigenpairs(k=2)\n",
    "L = Ls[0]\n",
    "L /= np.trace(L)\n",
    "\n",
    "assert np.allclose(np.abs(lambdas), np.abs(mus))\n",
    "print(\"lambda_1 = \", lambda1)\n",
    "print(\"|lambda_2| = \", np.abs(lambda2))\n",
    "print(\"R > 0 with eigenvalues\", np.real_if_close(ERs))\n",
    "print(\"L = 1:\", np.allclose(L, np.eye(4)/4))"
   ]
  },
  {
   "cell_type": "markdown",
   "id": "714e5c0b",
   "metadata": {},
   "source": [
    "* Show that $T_{A_R} = \\vert \\mathbb{1} \\rangle \\langle L \\vert + \\mathcal{O}(\\vert \\lambda_2 \\vert)$ with $\\vert \\lambda_2 \\vert < 1$ and $L > 0$."
   ]
  },
  {
   "cell_type": "code",
   "execution_count": 7,
   "id": "84aa068a",
   "metadata": {},
   "outputs": [
    {
     "name": "stdout",
     "output_type": "stream",
     "text": [
      "lambda_1 =  (0.9999999999999996+5.551115123125783e-17j)\n",
      "|lambda_2| =  0.5432252614727009\n",
      "R = 1: True\n",
      "L > 0 with eigenvalues [0.8893767  0.0969476  0.01106976 0.00260595]\n"
     ]
    }
   ],
   "source": [
    "# Right eigenvector\n",
    "T = TransferMatrix([AR], [AR])\n",
    "lambdas, Rs = T.get_leading_eigenpairs(k=2)\n",
    "lambda1, lambda2 = lambdas[0], lambdas[1]\n",
    "R = Rs[0]\n",
    "R /= np.trace(R)\n",
    "\n",
    "# Left eigenvector\n",
    "T = TransferMatrix([AR], [AR], transpose=True)\n",
    "lambdas, Ls = T.get_leading_eigenpairs(k=2)\n",
    "lambda1, lambda2 = lambdas[0], lambdas[1]\n",
    "L = Ls[0]\n",
    "L /= np.trace(L)\n",
    "ELs, _ = np.linalg.eig(L)\n",
    "\n",
    "assert np.allclose(np.abs(lambdas), np.abs(mus))\n",
    "print(\"lambda_1 = \", lambda1)\n",
    "print(\"|lambda_2| = \", np.abs(lambda2))\n",
    "print(\"R = 1:\", np.allclose(R, np.eye(4)/4))\n",
    "print(\"L > 0 with eigenvalues\", np.real_if_close(ELs))"
   ]
  },
  {
   "cell_type": "markdown",
   "id": "53fe5435",
   "metadata": {},
   "source": [
    "* Directly create a random uMPS (for different tolerances) and test its canonical form."
   ]
  },
  {
   "cell_type": "code",
   "execution_count": 8,
   "id": "a06ed868",
   "metadata": {},
   "outputs": [
    {
     "name": "stdout",
     "output_type": "stream",
     "text": [
      "AL, L: Converged up to tol=1e-10. Final error after 6 iterations: 2.179117334095899e-11.\n",
      "AR, R: Converged up to tol=1e-10. Final error after 6 iterations: 1.3241467748230306e-14.\n",
      "[2.68597533e-14 2.88376207e-14 0.00000000e+00 1.38393109e-14]\n",
      "AL, L: Converged up to tol=1e-05. Final error after 5 iterations: 4.58792806411049e-06.\n",
      "AR, R: Converged up to tol=1e-05. Final error after 5 iterations: 1.4480698442663406e-07.\n",
      "[2.82684946e-14 3.10546909e-14 0.00000000e+00 1.44806984e-07]\n"
     ]
    }
   ],
   "source": [
    "psi_random = UniformMPS.from_desired_bond_dimension(D=100, d=3, tol=1.e-10)\n",
    "print(psi_random.test_canonical_form())\n",
    "psi_random = UniformMPS.from_desired_bond_dimension(D=100, d=3, tol=1.e-5)\n",
    "print(psi_random.test_canonical_form())"
   ]
  },
  {
   "cell_type": "markdown",
   "id": "a81f992c",
   "metadata": {},
   "source": [
    "### 1.2) AKLT state"
   ]
  },
  {
   "cell_type": "markdown",
   "id": "134b43b2",
   "metadata": {},
   "source": [
    "For the spin-1 matrices $S_x$, $S_y$ and $S_z$, we consider the two-site Hamiltonian matrix <br>\n",
    " $$h = S_x \\otimes S_x + S_y \\otimes S_y + S_z \\otimes S_z + \\frac{1}{3}(S_x \\otimes S_x + S_y \\otimes S_y + S_z \\otimes S_z)^2 = 2P_{S=2}-2/3.$$\n",
    "* Implement $h, h^2 \\in \\mathbb{C}^{3 \\times 3 \\times 3 \\times 3}$."
   ]
  },
  {
   "cell_type": "code",
   "execution_count": 9,
   "id": "b7999d07",
   "metadata": {},
   "outputs": [],
   "source": [
    "d = 3\n",
    "\n",
    "# Spin-1 matrices\n",
    "Sx = np.array([[0., 1., 0.],[1., 0., 1.],[0., 1., 0.]]) / np.sqrt(2)\n",
    "Sy = -1.j * np.array([[0., 1., 0.],[-1., 0., 1.],[0., -1., 0.]]) / np.sqrt(2) \n",
    "Sz = np.array([[1., 0., 0.],[0., 0., 0.],[0., 0., -1.]])\n",
    "\n",
    "# Hamiltonian\n",
    "S_dot_S = np.kron(Sx, Sx) + np.kron(Sy, Sy) + np.kron(Sz, Sz)\n",
    "h = S_dot_S + (1/3.) * S_dot_S @ S_dot_S\n",
    "h2 = h @ h\n",
    "h = np.reshape(h, (d, d, d, d))\n",
    "h2 = np.reshape(h2, (d, d, d, d))"
   ]
  },
  {
   "cell_type": "markdown",
   "id": "b9317ef5",
   "metadata": {},
   "source": [
    "* Initialize the ground state uMPS $\\vert \\psi_{\\mathrm{AKLT}} \\rangle = \\vert \\psi(A) \\rangle$ with $A_L^{+1} = \\sqrt{\\frac{2}{3}}\\sigma^{+}$, $A_L^{0} = \\sqrt{\\frac{1}{3}}\\sigma^{z}$, $A_L^{-1} = -\\sqrt{\\frac{2}{3}}\\sigma^{-}$. "
   ]
  },
  {
   "cell_type": "code",
   "execution_count": 10,
   "id": "c479d341",
   "metadata": {},
   "outputs": [
    {
     "name": "stdout",
     "output_type": "stream",
     "text": [
      "AR, R: Converged up to tol=1e-10. Final error after 5 iterations: 8.220141685495724e-17.\n"
     ]
    }
   ],
   "source": [
    "D = 2\n",
    "\n",
    "AL = np.zeros((D, d, D), dtype=complex)\n",
    "AL[:, 0, :] = np.sqrt(2/3.) * np.array([[0., 0.],[1., 0.]])\n",
    "AL[:, 1, :] = np.sqrt(1/3.) * np.array([[1., 0.],[0., -1.]])\n",
    "AL[:, 2, :] = -np.sqrt(2/3.) * np.array([[0., 1.],[0., 0.]])\n",
    "\n",
    "AR, C = UniformMPS.right_orthonormalize(AL)\n",
    "AC = np.tensordot(AL, C, axes=(2, 0))  # vL p [vR], [vL] vR\n",
    "psi_AKLT = UniformMPS(AL, AR, AC, C)"
   ]
  },
  {
   "cell_type": "markdown",
   "id": "1b39fe00",
   "metadata": {},
   "source": [
    "Show the following properties of $\\vert \\psi_{\\mathrm{AKLT}} \\rangle$: \n",
    "* Ground state energy $e = \\langle h \\rangle = -2/3$, \n",
    "* Variance $\\langle h^2 \\rangle - \\langle h \\rangle^2 = 0$ (frustration free),\n",
    "* Entanglement entropy $S = \\ln(2) \\approx 0.6931471805599453$,\n",
    "* Correlation length $\\xi = -1/\\ln(\\vert \\lambda_2 \\vert) = -1/\\ln(1/3) = 1/\\ln 3 \\approx 0.9102392266268371$,\n",
    "* Connected correlation function $C(n) = \\langle S_z^0 S_z^n \\rangle - \\langle S_z \\rangle^2 \\rightarrow \\vert \\lambda_2 \\vert^{n-1}$ (plot)."
   ]
  },
  {
   "cell_type": "code",
   "execution_count": 11,
   "id": "9f462402",
   "metadata": {},
   "outputs": [
    {
     "name": "stdout",
     "output_type": "stream",
     "text": [
      "e =  -0.6666666666666667\n",
      "var_e =  -1.1102230246251565e-16\n",
      "S =  0.6931471805599452\n",
      "xi =  0.9102392266268376\n",
      "|lambda2| =  0.33333333333333354\n"
     ]
    }
   ],
   "source": [
    "# Ground state energy\n",
    "print(\"e = \", psi_AKLT.get_bond_expectation_value(h))\n",
    "# Variance\n",
    "print(\"var_e = \", psi_AKLT.get_bond_expectation_value(h2) - psi_AKLT.get_bond_expectation_value(h)**2)\n",
    "# Entanglement entropy\n",
    "print(\"S = \", psi_AKLT.get_entanglement_entropy())\n",
    "# Correlation length\n",
    "print(\"xi = \", psi_AKLT.get_correlation_length())\n",
    "# Second largest eigenvalue (to check consistency with formula above)\n",
    "T = TransferMatrix([psi_AKLT.AL], [psi_AKLT.AL])\n",
    "lambdas, _ = T.get_leading_eigenpairs(k=2)\n",
    "lambda2 = lambdas[1]\n",
    "print(\"|lambda2| = \", np.abs(lambda2))"
   ]
  },
  {
   "cell_type": "code",
   "execution_count": 12,
   "id": "996b53cb",
   "metadata": {},
   "outputs": [
    {
     "data": {
      "image/png": "[encoded data removed]",
      "text/plain": [
       "<Figure size 600x400 with 1 Axes>"
      ]
     },
     "metadata": {},
     "output_type": "display_data"
    }
   ],
   "source": [
    "# Correlation functions\n",
    "N = 50\n",
    "ns = np.arange(1, N+1)\n",
    "Cs = psi_AKLT.get_correlation_functions(Sz, Sz, N)\n",
    "Cs_connected = Cs - psi_AKLT.get_site_expectation_value(Sz)**2\n",
    "Cs_theo = []\n",
    "for n in ns:\n",
    "    Cs_theo.append(np.abs(lambda2)**(n-1))\n",
    "\n",
    "plt.figure(figsize=(6, 4))\n",
    "plt.xlabel(r\"$n$\")\n",
    "plt.semilogy(ns, Cs_connected, \"x\", label=r\"$C(n)$\")\n",
    "plt.semilogy(ns, Cs_theo, \"-\", label=r\"$\\vert \\lambda_2 \\vert^{n-1}$\")\n",
    "plt.legend(loc=\"best\")\n",
    "plt.show()"
   ]
  },
  {
   "cell_type": "markdown",
   "id": "b8a1c634",
   "metadata": {},
   "source": [
    "### 1.3) Conversions between uniform MPS and infinite MPS"
   ]
  },
  {
   "cell_type": "markdown",
   "id": "e778228e",
   "metadata": {},
   "source": [
    "* Convert the uMPS $\\vert \\psi_{\\mathrm{AKLT}} \\rangle$ to an iMPS and recheck the values of $e$, $S$, $\\xi$."
   ]
  },
  {
   "cell_type": "code",
   "execution_count": 13,
   "id": "249303f7",
   "metadata": {},
   "outputs": [
    {
     "name": "stdout",
     "output_type": "stream",
     "text": [
      "e =  [-0.66666667]\n",
      "var_e =  [-2.22044605e-16]\n",
      "S =  [0.69314718]\n",
      "xi =  0.9102392266268373\n"
     ]
    }
   ],
   "source": [
    "psi_AKLT_infinite = psi_AKLT.to_infinite_MPS(L=1)\n",
    "\n",
    "# Ground state energy\n",
    "print(\"e = \", psi_AKLT_infinite.bond_expectation_value([h]))\n",
    "# Variance\n",
    "print(\"var_e = \", psi_AKLT_infinite.bond_expectation_value([h2]) \\\n",
    "      - psi_AKLT_infinite.bond_expectation_value([h])**2)\n",
    "# Entanglement entropy\n",
    "print(\"S = \", psi_AKLT_infinite.entanglement_entropy())\n",
    "# Correlation length\n",
    "print(\"xi = \", psi_AKLT_infinite.correlation_length())"
   ]
  },
  {
   "cell_type": "markdown",
   "id": "976073bf",
   "metadata": {},
   "source": [
    "* Denote by $B \\in \\mathbb{C}^{2 \\times 3 \\times 2}$ the right canonical tensor of $\\vert \\psi_{\\mathrm{AKLT}} \\rangle$ and by $U \\in \\mathbb{C}^{2 \\times 2}$ a random unitary. Show that the iMPS $\\vert\\psi(B_1, B_2)\\rangle$ with $B_1 = BU$ and $B_2 = U^*B$ is translation invariant and can be converted to a uMPS. Check that this is still the AKLT state."
   ]
  },
  {
   "cell_type": "code",
   "execution_count": 14,
   "id": "a47a7ad6",
   "metadata": {},
   "outputs": [
    {
     "name": "stdout",
     "output_type": "stream",
     "text": [
      "Infinite MPS is translation invariant -> Conversion to uniform MPS.\n",
      "AL, L: Converged up to tol=1e-10. Final error after 4 iterations: 2.3515530018395587e-16.\n",
      "AR, R: Converged up to tol=1e-10. Final error after 4 iterations: 1.8553129877040763e-16.\n",
      "e =  -0.6666666666666674\n",
      "var_e =  -6.106226635438361e-16\n",
      "S =  0.6931471805599452\n",
      "xi =  0.9102392266268379\n"
     ]
    }
   ],
   "source": [
    "B = psi_AKLT_infinite.Bs[0]\n",
    "C = psi_AKLT_infinite.Ss[0]\n",
    "from scipy.stats import unitary_group\n",
    "U = unitary_group.rvs(2)\n",
    "B1 = np.tensordot(B, U, axes=(2, 0))\n",
    "B2 = np.tensordot(np.conj(U).T, B, axes=(1, 0))\n",
    "\n",
    "psi_infinite = SimpleMPS([B1, B2], [C, C], bc=\"infinite\")\n",
    "psi_uniform = UniformMPS.from_infinite_MPS(psi_infinite)\n",
    "\n",
    "# Ground state energy\n",
    "print(\"e = \", psi_uniform.get_bond_expectation_value(h))\n",
    "# Variance\n",
    "print(\"var_e = \", psi_uniform.get_bond_expectation_value(h2) - psi_uniform.get_bond_expectation_value(h)**2)\n",
    "# Entanglement entropy\n",
    "print(\"S = \", psi_uniform.get_entanglement_entropy())\n",
    "# Correlation length\n",
    "print(\"xi = \", psi_uniform.get_correlation_length())"
   ]
  },
  {
   "cell_type": "markdown",
   "id": "507d3d45",
   "metadata": {},
   "source": [
    "* For random right canonical tensors $B_1 \\in \\mathbb{C}^{D \\times d \\times D}$ and $B_2 \\in \\mathbb{C}^{D \\times d \\times D}$, show that the iMPS $\\vert\\psi(B_1, B_2)\\rangle$ is in general not translation invariant and cannot be converted to a uMPS."
   ]
  },
  {
   "cell_type": "code",
   "execution_count": 15,
   "id": "d11ad991",
   "metadata": {},
   "outputs": [
    {
     "name": "stdout",
     "output_type": "stream",
     "text": [
      "AL, L: Converged up to tol=1e-10. Final error after 6 iterations: 8.413793772777834e-12.\n",
      "AR, R: Converged up to tol=1e-10. Final error after 6 iterations: 9.688902271822502e-15.\n",
      "AL, L: Converged up to tol=1e-10. Final error after 6 iterations: 3.942489425753234e-12.\n",
      "AR, R: Converged up to tol=1e-10. Final error after 6 iterations: 1.1488393747852049e-14.\n"
     ]
    },
    {
     "ename": "ValueError",
     "evalue": "Infinite MPS is not translation invariant.",
     "output_type": "error",
     "traceback": [
      "\u001b[0;31m---------------------------------------------------------------------------\u001b[0m",
      "\u001b[0;31mValueError\u001b[0m                                Traceback (most recent call last)",
      "Cell \u001b[0;32mIn[15], line 8\u001b[0m\n\u001b[1;32m      5\u001b[0m S1, S2 \u001b[38;5;241m=\u001b[39m np\u001b[38;5;241m.\u001b[39mdiag(S1), np\u001b[38;5;241m.\u001b[39mdiag(S1)\n\u001b[1;32m      7\u001b[0m psi_infinite \u001b[38;5;241m=\u001b[39m SimpleMPS([B1, B2], [S1, S2], bc\u001b[38;5;241m=\u001b[39m\u001b[38;5;124m\"\u001b[39m\u001b[38;5;124minfinite\u001b[39m\u001b[38;5;124m\"\u001b[39m)\n\u001b[0;32m----> 8\u001b[0m psi_uniform \u001b[38;5;241m=\u001b[39m UniformMPS\u001b[38;5;241m.\u001b[39mfrom_infinite_MPS(psi_infinite)\n",
      "File \u001b[0;32m~/Library/Mobile Documents/com~apple~CloudDocs/master/thesis/python/tenpy_toycodes/tenpy_toycodes/f_umps.py:160\u001b[0m, in \u001b[0;36mUniformMPS.from_infinite_MPS\u001b[0;34m(cls, psi)\u001b[0m\n\u001b[1;32m    158\u001b[0m lambda1, U \u001b[38;5;241m=\u001b[39m T\u001b[38;5;241m.\u001b[39mget_leading_eigenpairs(k\u001b[38;5;241m=\u001b[39m\u001b[38;5;241m1\u001b[39m)\n\u001b[1;32m    159\u001b[0m \u001b[38;5;28;01mif\u001b[39;00m np\u001b[38;5;241m.\u001b[39mabs(np\u001b[38;5;241m.\u001b[39mabs(lambda1) \u001b[38;5;241m-\u001b[39m \u001b[38;5;241m1.\u001b[39m) \u001b[38;5;241m>\u001b[39m \u001b[38;5;241m1.e-8\u001b[39m:\n\u001b[0;32m--> 160\u001b[0m     \u001b[38;5;28;01mraise\u001b[39;00m \u001b[38;5;167;01mValueError\u001b[39;00m(\u001b[38;5;124mf\u001b[39m\u001b[38;5;124m\"\u001b[39m\u001b[38;5;124mInfinite MPS is not translation invariant.\u001b[39m\u001b[38;5;124m\"\u001b[39m)\n\u001b[1;32m    161\u001b[0m \u001b[38;5;28;01melse\u001b[39;00m:\n\u001b[1;32m    162\u001b[0m     \u001b[38;5;28mprint\u001b[39m(\u001b[38;5;124mf\u001b[39m\u001b[38;5;124m\"\u001b[39m\u001b[38;5;124mInfinite MPS is translation invariant -> Conversion to uniform MPS.\u001b[39m\u001b[38;5;124m\"\u001b[39m)\n",
      "\u001b[0;31mValueError\u001b[0m: Infinite MPS is not translation invariant."
     ]
    }
   ],
   "source": [
    "tensor1 = UniformMPS.get_random_tensor(D=100, d=3)\n",
    "tensor2 = UniformMPS.get_random_tensor(D=100, d=3)\n",
    "_, B1, _, S1 = UniformMPS.to_canonical_form(tensor1)\n",
    "_, B2, _, S2 = UniformMPS.to_canonical_form(tensor2)\n",
    "S1, S2 = np.diag(S1), np.diag(S1)\n",
    "\n",
    "psi_infinite = SimpleMPS([B1, B2], [S1, S2], bc=\"infinite\")\n",
    "psi_uniform = UniformMPS.from_infinite_MPS(psi_infinite)"
   ]
  },
  {
   "cell_type": "markdown",
   "id": "8d1c962e",
   "metadata": {},
   "source": [
    "## 2) VUMPS: Variational ground state search"
   ]
  },
  {
   "cell_type": "code",
   "execution_count": 16,
   "id": "8a658a7a",
   "metadata": {},
   "outputs": [],
   "source": [
    "from tenpy_toycodes.b_model import TFIModel\n",
    "from tenpy_toycodes.tfi_exact import infinite_gs_energy\n",
    "\n",
    "from tenpy_toycodes.f_umps import UniformMPS\n",
    "from tenpy_toycodes.g_vumps import vumps_algorithm"
   ]
  },
  {
   "cell_type": "markdown",
   "id": "4bfe5f7d",
   "metadata": {},
   "source": [
    "* For the transverse field Ising model in the thermodynamic limit, find the ground state using the VUMPS algorithm. Investigate the convergence of the ground state energy density $e_0$ with the bond dimension $D$. Consider both the paramagnetic and ferromagnetic quantum phase."
   ]
  },
  {
   "cell_type": "code",
   "execution_count": 17,
   "id": "27ef125e",
   "metadata": {},
   "outputs": [
    {
     "name": "stdout",
     "output_type": "stream",
     "text": [
      "e0_exact = -1.6719262215361952.\n",
      "D = 2:\n",
      "AL, L: Converged up to tol=1e-10. Final error after 4 iterations: 2.2730721416562006e-12.\n",
      "AR, R: Converged up to tol=1e-10. Final error after 5 iterations: 2.5438405243138006e-16.\n",
      "Ground state converged up to tol=1e-10 in gradient norm. Final error after 21 iterations: 7.437518184864486e-11.\n",
      "Ground state energy density: -1.6717366238936096. \n",
      "Ground state variance density: (0.000988426116763065-5.0230209941540665e-17j).\n",
      "Error |e0 - e0_exact| = 0.00018959764258563716.\n",
      "D = 4:\n",
      "AL, L: Converged up to tol=1e-10. Final error after 5 iterations: 2.0024470602650553e-11.\n",
      "AR, R: Converged up to tol=1e-10. Final error after 5 iterations: 6.0343447628791e-16.\n",
      "Ground state converged up to tol=1e-10 in gradient norm. Final error after 14 iterations: 2.4653777380885917e-11.\n",
      "Ground state energy density: -1.6719259668748492. \n",
      "Ground state variance density: (1.3262842025671406e-06-1.2191853429599497e-16j).\n",
      "Error |e0 - e0_exact| = 2.5466134601082047e-07.\n",
      "D = 6:\n",
      "AL, L: Converged up to tol=1e-10. Final error after 7 iterations: 1.2156453969909198e-12.\n",
      "AR, R: Converged up to tol=1e-10. Final error after 5 iterations: 6.167976274018845e-12.\n",
      "Ground state converged up to tol=1e-10 in gradient norm. Final error after 12 iterations: 5.300589707035001e-11.\n",
      "Ground state energy density: -1.6719262211612966. \n",
      "Ground state variance density: (2.1214393991497715e-09-3.152859917587847e-16j).\n",
      "Error |e0 - e0_exact| = 3.748985566431884e-10.\n",
      "D = 8:\n",
      "AL, L: Converged up to tol=1e-10. Final error after 6 iterations: 2.5611928191098572e-15.\n",
      "AR, R: Converged up to tol=1e-10. Final error after 5 iterations: 4.755221955458715e-11.\n",
      "Ground state converged up to tol=1e-10 in gradient norm. Final error after 175 iterations: 9.613266479161555e-11.\n",
      "Ground state energy density: -1.6719262215051254. \n",
      "Ground state variance density: (3.215990390659229e-10-4.2104991368474565e-16j).\n",
      "Error |e0 - e0_exact| = 3.106981338873993e-11.\n",
      "D = 10:\n",
      "AL, L: Converged up to tol=1e-10. Final error after 6 iterations: 7.09745456361551e-13.\n",
      "AR, R: Converged up to tol=1e-10. Final error after 6 iterations: 1.1473968727649147e-15.\n",
      "Ground state converged up to tol=1e-10 in gradient norm. Final error after 11 iterations: 2.4407572116212104e-11.\n",
      "Ground state energy density: -1.671926221535696. \n",
      "Ground state variance density: (2.8459110068546067e-12+2.3432319452842965e-16j).\n",
      "Error |e0 - e0_exact| = 4.991562718714704e-13.\n",
      "D = 20:\n",
      "AL, L: Converged up to tol=1e-10. Final error after 7 iterations: 1.4499836996304676e-15.\n",
      "AR, R: Converged up to tol=1e-10. Final error after 6 iterations: 1.0378635199681793e-15.\n",
      "Ground state converged up to tol=1e-10 in gradient norm. Final error after 8 iterations: 2.8056593516830995e-11.\n",
      "Ground state energy density: -1.6719262215361894. \n",
      "Ground state variance density: (6.800116025829084e-16+1.0012607062903633e-16j).\n",
      "Error |e0 - e0_exact| = 5.773159728050814e-15.\n",
      "D = 30:\n",
      "AL, L: Converged up to tol=1e-10. Final error after 6 iterations: 2.183227643001448e-12.\n",
      "AR, R: Converged up to tol=1e-10. Final error after 6 iterations: 1.3987401762000488e-15.\n",
      "Ground state converged up to tol=1e-10 in gradient norm. Final error after 6 iterations: 4.98279109770392e-11.\n",
      "Ground state energy density: -1.6719262215361854. \n",
      "Ground state variance density: (3.95516952522712e-16-2.877472565776529e-16j).\n",
      "Error |e0 - e0_exact| = 9.769962616701378e-15.\n",
      "D = 40:\n",
      "AL, L: Converged up to tol=1e-10. Final error after 6 iterations: 2.9633225870006576e-11.\n",
      "AR, R: Converged up to tol=1e-10. Final error after 6 iterations: 2.2493840287926653e-15.\n",
      "Ground state converged up to tol=1e-10 in gradient norm. Final error after 5 iterations: 4.147420533756391e-11.\n",
      "Ground state energy density: -1.6719262215361912. \n",
      "Ground state variance density: (-7.7021722333370235e-16+2.495833401061631e-16j).\n",
      "Error |e0 - e0_exact| = 3.9968028886505635e-15.\n",
      "D = 50:\n",
      "AL, L: Converged up to tol=1e-10. Final error after 6 iterations: 6.186039414761885e-11.\n",
      "AR, R: Converged up to tol=1e-10. Final error after 6 iterations: 9.320163068010875e-14.\n",
      "Ground state converged up to tol=1e-10 in gradient norm. Final error after 4 iterations: 8.452742314413414e-11.\n",
      "Ground state energy density: -1.6719262215361927. \n",
      "Ground state variance density: (1.1220191442617988e-14+1.4533730122168187e-16j).\n",
      "Error |e0 - e0_exact| = 2.4424906541753444e-15.\n"
     ]
    }
   ],
   "source": [
    "# paramagnetic phase\n",
    "g = 1.5\n",
    "\n",
    "e0_exact = infinite_gs_energy(J=1., g=g)\n",
    "print(f\"e0_exact = {e0_exact}.\")\n",
    "\n",
    "h = TFIModel(L=1, J=1., g=g, bc='infinite').H_bonds[0]\n",
    "Ds = [2, 4, 6, 8, 10, 20, 30, 40, 50]\n",
    "for D in Ds:\n",
    "    print(f\"D = {D}:\")\n",
    "    guess_psi0 = UniformMPS.from_desired_bond_dimension(D)\n",
    "    e0, psi0, var0 = vumps_algorithm(h, guess_psi0, tol=1.e-10)\n",
    "    print(f\"Error |e0 - e0_exact| = {np.abs(e0 - e0_exact)}.\")"
   ]
  },
  {
   "cell_type": "code",
   "execution_count": 18,
   "id": "75144deb",
   "metadata": {},
   "outputs": [
    {
     "name": "stdout",
     "output_type": "stream",
     "text": [
      "e0_exact = -1.0635444099733717.\n",
      "D = 2:\n",
      "AL, L: Converged up to tol=1e-10. Final error after 5 iterations: 5.117875266520903e-16.\n",
      "AR, R: Converged up to tol=1e-10. Final error after 4 iterations: 1.415262216750919e-16.\n",
      "Ground state converged up to tol=1e-10 in gradient norm. Final error after 10 iterations: 8.68023033706559e-11.\n",
      "Ground state energy density: -1.0635440740663131. \n",
      "Ground state variance density: (1.2520078560755796e-06-1.623592753297043e-17j).\n",
      "Error |e0 - e0_exact| = 3.3590705861286096e-07.\n",
      "D = 4:\n",
      "AL, L: Converged up to tol=1e-10. Final error after 5 iterations: 1.5849923691414327e-13.\n",
      "AR, R: Converged up to tol=1e-10. Final error after 5 iterations: 3.5928568972189666e-16.\n",
      "Ground state converged up to tol=1e-10 in gradient norm. Final error after 23 iterations: 7.737104957415431e-11.\n",
      "Ground state energy density: -1.0635444098648636. \n",
      "Ground state variance density: (4.044021161778849e-10-1.3791390447194518e-16j).\n",
      "Error |e0 - e0_exact| = 1.0850809140094952e-10.\n",
      "D = 6:\n",
      "AL, L: Converged up to tol=1e-10. Final error after 6 iterations: 3.2441156782415637e-12.\n",
      "AR, R: Converged up to tol=1e-10. Final error after 6 iterations: 1.335964598775426e-15.\n",
      "Ground state converged up to tol=1e-10 in gradient norm. Final error after 9 iterations: 7.049285245625477e-11.\n",
      "Ground state energy density: -1.0635444099733289. \n",
      "Ground state variance density: (1.3131737450905456e-13+2.2747239205103686e-16j).\n",
      "Error |e0 - e0_exact| = 4.285460875053104e-14.\n",
      "D = 8:\n",
      "AL, L: Converged up to tol=1e-10. Final error after 6 iterations: 1.3603866028958617e-15.\n",
      "AR, R: Converged up to tol=1e-10. Final error after 5 iterations: 5.845890437232468e-11.\n",
      "Ground state converged up to tol=1e-10 in gradient norm. Final error after 220 iterations: 9.80882724928576e-11.\n",
      "Ground state energy density: -1.0635444099733637. \n",
      "Ground state variance density: (4.560154337474032e-16+1.4146636065272972e-16j).\n",
      "Error |e0 - e0_exact| = 7.993605777301127e-15.\n",
      "D = 10:\n",
      "AL, L: Converged up to tol=1e-10. Final error after 6 iterations: 3.9252853534608714e-12.\n",
      "AR, R: Converged up to tol=1e-10. Final error after 6 iterations: 7.019192626979849e-16.\n",
      "Ground state converged up to tol=1e-10 in gradient norm. Final error after 5 iterations: 5.7921615061758856e-11.\n",
      "Ground state energy density: -1.063544409973363. \n",
      "Ground state variance density: (6.635317295611287e-17-3.303767307470673e-17j).\n",
      "Error |e0 - e0_exact| = 8.659739592076221e-15.\n",
      "D = 20:\n",
      "AL, L: Converged up to tol=1e-10. Final error after 6 iterations: 1.2922622915500424e-13.\n",
      "AR, R: Converged up to tol=1e-10. Final error after 6 iterations: 1.3381654489244763e-14.\n",
      "Ground state converged up to tol=1e-10 in gradient norm. Final error after 4 iterations: 5.954909574462071e-13.\n",
      "Ground state energy density: -1.063544409973366. \n",
      "Ground state variance density: (-1.0885389811754465e-16+1.1914757188817094e-16j).\n",
      "Error |e0 - e0_exact| = 5.773159728050814e-15.\n",
      "D = 30:\n",
      "AL, L: Converged up to tol=1e-10. Final error after 6 iterations: 4.223100272812595e-12.\n",
      "AR, R: Converged up to tol=1e-10. Final error after 6 iterations: 1.2282926377882474e-15.\n",
      "Ground state converged up to tol=1e-10 in gradient norm. Final error after 4 iterations: 5.928458975152321e-13.\n",
      "Ground state energy density: -1.0635444099733595. \n",
      "Ground state variance density: (7.524363077049401e-17+9.608741753652783e-17j).\n",
      "Error |e0 - e0_exact| = 1.2212453270876722e-14.\n",
      "D = 40:\n",
      "AL, L: Converged up to tol=1e-10. Final error after 7 iterations: 3.5090963070720627e-15.\n",
      "AR, R: Converged up to tol=1e-10. Final error after 6 iterations: 4.0054503826357574e-15.\n",
      "Ground state converged up to tol=1e-10 in gradient norm. Final error after 4 iterations: 1.843032595691805e-11.\n",
      "Ground state energy density: -1.0635444099733677. \n",
      "Ground state variance density: (-2.916503843986007e-17+3.7132653858207645e-17j).\n",
      "Error |e0 - e0_exact| = 3.9968028886505635e-15.\n",
      "D = 50:\n",
      "AL, L: Converged up to tol=1e-10. Final error after 7 iterations: 1.6124870379996442e-15.\n",
      "AR, R: Converged up to tol=1e-10. Final error after 6 iterations: 1.50027447784489e-14.\n",
      "Ground state converged up to tol=1e-10 in gradient norm. Final error after 4 iterations: 4.495112585121408e-11.\n",
      "Ground state energy density: -1.0635444099733637. \n",
      "Ground state variance density: (1.0191500421363742e-17-8.234854313206308e-18j).\n",
      "Error |e0 - e0_exact| = 7.993605777301127e-15.\n"
     ]
    }
   ],
   "source": [
    "# ferromagnetic phase \n",
    "g = 0.5\n",
    "\n",
    "e0_exact = infinite_gs_energy(J=1., g=g)\n",
    "print(f\"e0_exact = {e0_exact}.\")\n",
    "\n",
    "h = TFIModel(L=1, J=1., g=g, bc='infinite').H_bonds[0]\n",
    "Ds = [2, 4, 6, 8, 10, 20, 30, 40, 50]\n",
    "for D in Ds:\n",
    "    print(f\"D = {D}:\")\n",
    "    guess_psi0 = UniformMPS.from_desired_bond_dimension(D)\n",
    "    e0, psi0, var0 = vumps_algorithm(h, guess_psi0, tol=1.e-10)\n",
    "    print(f\"Error |e0 - e0_exact| = {np.abs(e0 - e0_exact)}.\")"
   ]
  },
  {
   "cell_type": "markdown",
   "id": "61775480",
   "metadata": {},
   "source": [
    "* For a bond dimension $D = 30$, plot the magnetization $m = \\vert \\langle \\sigma^z \\rangle \\vert$ against the transverse field $g$ to locate the quantum phase transition."
   ]
  },
  {
   "cell_type": "code",
   "execution_count": 19,
   "id": "3c8fdfa6",
   "metadata": {},
   "outputs": [
    {
     "name": "stdout",
     "output_type": "stream",
     "text": [
      "g = 0.0:\n",
      "AL, L: Converged up to tol=1e-10. Final error after 6 iterations: 6.101172401370538e-12.\n",
      "AR, R: Converged up to tol=1e-10. Final error after 6 iterations: 1.2068799078755968e-15.\n",
      "Ground state converged up to tol=1e-08 in gradient norm. Final error after 3 iterations: 5.534426945519992e-11.\n",
      "Ground state energy density: -1.0000000000000009. \n",
      "Ground state variance density: (7.070119693960579e-29-3.0174216397341688e-30j).\n",
      "Magnetization density in z-direction:-1.0000000000000024.\n",
      "g = 0.2:\n",
      "AL, L: Converged up to tol=1e-10. Final error after 6 iterations: 8.513256892363685e-11.\n",
      "AR, R: Converged up to tol=1e-10. Final error after 6 iterations: 3.255072730504732e-14.\n",
      "Ground state converged up to tol=1e-08 in gradient norm. Final error after 3 iterations: 4.82227572988563e-11.\n",
      "Ground state energy density: -1.0100252539845738. \n",
      "Ground state variance density: (-3.2779971770834082e-15+2.2060973111238252e-18j).\n",
      "Magnetization density in z-direction:0.9949102475942001.\n",
      "g = 0.4:\n",
      "AL, L: Converged up to tol=1e-10. Final error after 6 iterations: 2.9083334365485166e-13.\n",
      "AR, R: Converged up to tol=1e-10. Final error after 6 iterations: 1.2125513644157666e-15.\n",
      "Ground state converged up to tol=1e-08 in gradient norm. Final error after 3 iterations: 9.4662687460443e-10.\n",
      "Ground state energy density: -1.0404170862359012. \n",
      "Ground state variance density: (1.303228358562336e-13+1.2459515840931856e-16j).\n",
      "Magnetization density in z-direction:-0.9784416036424555.\n",
      "g = 0.6:\n",
      "AL, L: Converged up to tol=1e-10. Final error after 6 iterations: 1.1692977863427588e-11.\n",
      "AR, R: Converged up to tol=1e-10. Final error after 6 iterations: 2.6142012975219264e-13.\n",
      "Ground state converged up to tol=1e-08 in gradient norm. Final error after 4 iterations: 1.6880373645475896e-11.\n",
      "Ground state energy density: -1.0922385835546855. \n",
      "Ground state variance density: (-1.7240982946864492e-15-3.225628518086464e-17j).\n",
      "Magnetization density in z-direction:-0.9457416090031798.\n",
      "g = 0.8:\n",
      "AL, L: Converged up to tol=1e-10. Final error after 6 iterations: 5.730035368067015e-12.\n",
      "AR, R: Converged up to tol=1e-10. Final error after 6 iterations: 1.2828143903955047e-15.\n",
      "Ground state converged up to tol=1e-08 in gradient norm. Final error after 5 iterations: 5.842124053916068e-10.\n",
      "Ground state energy density: -1.1678095085207154. \n",
      "Ground state variance density: (-2.9178048865929895e-15+6.309243492236272e-16j).\n",
      "Magnetization density in z-direction:-0.8801117367934397.\n",
      "g = 0.9:\n",
      "AL, L: Converged up to tol=1e-10. Final error after 7 iterations: 1.4994366747059197e-15.\n",
      "AR, R: Converged up to tol=1e-10. Final error after 6 iterations: 1.941470260840733e-14.\n",
      "Ground state converged up to tol=1e-08 in gradient norm. Final error after 8 iterations: 8.559452093651062e-09.\n",
      "Ground state energy density: -1.2160009141097905. \n",
      "Ground state variance density: (7.979727989493313e-16+5.437273895014805e-17j).\n",
      "Magnetization density in z-direction:-0.8125389716274557.\n",
      "g = 0.95:\n",
      "AL, L: Converged up to tol=1e-10. Final error after 6 iterations: 7.391838919416551e-13.\n",
      "AR, R: Converged up to tol=1e-10. Final error after 6 iterations: 1.0894476930244878e-15.\n",
      "Ground state converged up to tol=1e-08 in gradient norm. Final error after 14 iterations: 8.758465254582076e-09.\n",
      "Ground state energy density: -1.243265704270419. \n",
      "Ground state variance density: (1.6422627147072433e-14-3.4450524030726903e-16j).\n",
      "Magnetization density in z-direction:0.7475247509623746.\n",
      "g = 0.96:\n",
      "AL, L: Converged up to tol=1e-10. Final error after 6 iterations: 2.220277301446339e-12.\n",
      "AR, R: Converged up to tol=1e-10. Final error after 6 iterations: 6.587099396639888e-15.\n",
      "Ground state converged up to tol=1e-08 in gradient norm. Final error after 18 iterations: 9.834811285957702e-09.\n",
      "Ground state energy density: -1.2490164923960054. \n",
      "Ground state variance density: (5.448939910390749e-14-6.003227429052238e-16j).\n",
      "Magnetization density in z-direction:-0.7274271525593814.\n",
      "g = 0.97:\n",
      "AL, L: Converged up to tol=1e-10. Final error after 7 iterations: 1.2637502095055507e-15.\n",
      "AR, R: Converged up to tol=1e-10. Final error after 6 iterations: 2.7475292145778642e-14.\n",
      "Ground state converged up to tol=1e-08 in gradient norm. Final error after 24 iterations: 9.454650088105886e-09.\n",
      "Ground state energy density: -1.2548784203915926. \n",
      "Ground state variance density: (2.7459284845932075e-13+2.3306552000834646e-15j).\n",
      "Magnetization density in z-direction:0.7021799675123419.\n",
      "g = 0.98:\n",
      "AL, L: Converged up to tol=1e-10. Final error after 6 iterations: 3.9189006781062454e-11.\n",
      "AR, R: Converged up to tol=1e-10. Final error after 6 iterations: 8.047239649258674e-15.\n",
      "Ground state converged up to tol=1e-08 in gradient norm. Final error after 27 iterations: 9.709284294816629e-09.\n",
      "Ground state energy density: -1.260859643831017. \n",
      "Ground state variance density: (1.916397596168906e-12-4.597017211338539e-16j).\n",
      "Magnetization density in z-direction:-0.6679007034496584.\n",
      "g = 0.99:\n",
      "AL, L: Converged up to tol=1e-10. Final error after 7 iterations: 1.4207216023543491e-15.\n",
      "AR, R: Converged up to tol=1e-10. Final error after 6 iterations: 4.857739584565626e-15.\n",
      "Ground state converged up to tol=1e-08 in gradient norm. Final error after 49 iterations: 9.576855580937493e-09.\n",
      "Ground state energy density: -1.2669721934560776. \n",
      "Ground state variance density: (2.8886268377270596e-11-5.963111948670274e-16j).\n",
      "Magnetization density in z-direction:-0.6128535977643375.\n",
      "g = 0.994:\n",
      "AL, L: Converged up to tol=1e-10. Final error after 7 iterations: 1.6533533762403017e-15.\n",
      "AR, R: Converged up to tol=1e-10. Final error after 6 iterations: 7.578212191317603e-14.\n",
      "Ground state converged up to tol=1e-08 in gradient norm. Final error after 102 iterations: 9.709039725046437e-09.\n",
      "Ground state energy density: -1.2694582863812882. \n",
      "Ground state variance density: (1.468735376375374e-10+8.727827488508311e-17j).\n",
      "Magnetization density in z-direction:0.5750897901022366.\n",
      "g = 0.998:\n",
      "AL, L: Converged up to tol=1e-10. Final error after 6 iterations: 3.8587592755951016e-11.\n",
      "AR, R: Converged up to tol=1e-10. Final error after 6 iterations: 1.0323917760920903e-13.\n",
      "Ground state converged up to tol=1e-08 in gradient norm. Final error after 51 iterations: 8.347128296768108e-09.\n",
      "Ground state energy density: -1.2719712708654223. \n",
      "Ground state variance density: (1.3693699715822127e-09+8.131516293641283e-18j).\n",
      "Magnetization density in z-direction:0.5015037032568711.\n",
      "g = 1.002:\n",
      "AL, L: Converged up to tol=1e-10. Final error after 6 iterations: 1.3919768338345003e-11.\n",
      "AR, R: Converged up to tol=1e-10. Final error after 6 iterations: 1.2054910064523055e-14.\n",
      "Ground state converged up to tol=1e-08 in gradient norm. Final error after 106 iterations: 9.4216210305686e-09.\n",
      "Ground state energy density: -1.2745177365002478. \n",
      "Ground state variance density: (1.6412369165108576e-08-7.773729576721067e-16j).\n",
      "Magnetization density in z-direction:-1.2476322787391414e-09.\n",
      "g = 1.006:\n",
      "AL, L: Converged up to tol=1e-10. Final error after 6 iterations: 8.590652885288983e-11.\n",
      "AR, R: Converged up to tol=1e-10. Final error after 6 iterations: 5.2355269372314554e-15.\n",
      "Ground state converged up to tol=1e-08 in gradient norm. Final error after 168 iterations: 9.55831524393814e-09.\n",
      "Ground state energy density: -1.2770975272148841. \n",
      "Ground state variance density: (2.345128514991135e-09-3.3816265759822883e-16j).\n",
      "Magnetization density in z-direction:1.47009178545765e-08.\n",
      "g = 1.01:\n",
      "AL, L: Converged up to tol=1e-10. Final error after 6 iterations: 3.667809315915857e-11.\n",
      "AR, R: Converged up to tol=1e-10. Final error after 6 iterations: 3.3235579937552697e-15.\n",
      "Ground state converged up to tol=1e-08 in gradient norm. Final error after 158 iterations: 9.802585749378172e-09.\n",
      "Ground state energy density: -1.2797037635358561. \n",
      "Ground state variance density: (7.365845190732134e-10-4.2717565595928875e-17j).\n",
      "Magnetization density in z-direction:6.084879017320688e-09.\n",
      "g = 1.02:\n",
      "AL, L: Converged up to tol=1e-10. Final error after 6 iterations: 6.594069096985965e-12.\n",
      "AR, R: Converged up to tol=1e-10. Final error after 6 iterations: 1.8297036308192177e-15.\n",
      "Ground state converged up to tol=1e-08 in gradient norm. Final error after 36 iterations: 9.168706434584765e-09.\n",
      "Ground state energy density: -1.286318714876538. \n",
      "Ground state variance density: (7.757942205310897e-11+2.3483819056036026e-16j).\n",
      "Magnetization density in z-direction:3.4732109983198756e-10.\n",
      "g = 1.03:\n",
      "AL, L: Converged up to tol=1e-10. Final error after 6 iterations: 1.1548549833363338e-11.\n",
      "AR, R: Converged up to tol=1e-10. Final error after 6 iterations: 2.2134581595092125e-14.\n",
      "Ground state converged up to tol=1e-08 in gradient norm. Final error after 28 iterations: 9.995231258373703e-09.\n",
      "Ground state energy density: -1.2930580407562202. \n",
      "Ground state variance density: (1.553671080678498e-11-1.7583048732283668e-16j).\n",
      "Magnetization density in z-direction:1.1122698873045067e-09.\n",
      "g = 1.04:\n",
      "AL, L: Converged up to tol=1e-10. Final error after 6 iterations: 4.5494118105692804e-12.\n",
      "AR, R: Converged up to tol=1e-10. Final error after 6 iterations: 3.884130527668421e-15.\n",
      "Ground state converged up to tol=1e-08 in gradient norm. Final error after 24 iterations: 9.741360739954225e-09.\n",
      "Ground state energy density: -1.2999073549362832. \n",
      "Ground state variance density: (4.256910796085478e-12-1.9470915765124053e-15j).\n",
      "Magnetization density in z-direction:4.092505639929911e-10.\n",
      "g = 1.05:\n",
      "AL, L: Converged up to tol=1e-10. Final error after 7 iterations: 1.7720635363361493e-15.\n",
      "AR, R: Converged up to tol=1e-10. Final error after 6 iterations: 1.3327656788293028e-15.\n",
      "Ground state converged up to tol=1e-08 in gradient norm. Final error after 23 iterations: 8.977996887735856e-09.\n",
      "Ground state energy density: -1.306856470270639. \n",
      "Ground state variance density: (1.3986103941654449e-12+2.495833401061631e-16j).\n",
      "Magnetization density in z-direction:7.784980993186252e-12.\n",
      "g = 1.1:\n",
      "AL, L: Converged up to tol=1e-10. Final error after 6 iterations: 4.2494978913840874e-14.\n",
      "AR, R: Converged up to tol=1e-10. Final error after 6 iterations: 1.0280354306668015e-14.\n",
      "Ground state converged up to tol=1e-08 in gradient norm. Final error after 11 iterations: 9.200426402985948e-09.\n",
      "Ground state energy density: -1.3428640227251194. \n",
      "Ground state variance density: (2.182976022169214e-14-6.25584653524136e-17j).\n",
      "Magnetization density in z-direction:-2.973121748794938e-12.\n",
      "g = 1.2:\n",
      "AL, L: Converged up to tol=1e-10. Final error after 6 iterations: 1.2096543884079463e-12.\n",
      "AR, R: Converged up to tol=1e-10. Final error after 6 iterations: 1.8640530446005345e-15.\n",
      "Ground state converged up to tol=1e-08 in gradient norm. Final error after 7 iterations: 5.0512592305056765e-09.\n",
      "Ground state energy density: -1.4196192748982281. \n",
      "Ground state variance density: (-3.400058012914542e-15+3.458604930228759e-16j).\n",
      "Magnetization density in z-direction:-5.613283449168449e-11.\n",
      "g = 1.4:\n",
      "AL, L: Converged up to tol=1e-10. Final error after 6 iterations: 9.666839921733038e-14.\n",
      "AR, R: Converged up to tol=1e-10. Final error after 6 iterations: 8.309904323649112e-15.\n",
      "Ground state converged up to tol=1e-08 in gradient norm. Final error after 4 iterations: 8.127563190933594e-09.\n",
      "Ground state energy density: -1.5851883000616755. \n",
      "Ground state variance density: (1.9669724182769244e-11-1.3444106938820255e-17j).\n",
      "Magnetization density in z-direction:-9.457445115240715e-09.\n",
      "g = 1.6:\n",
      "AL, L: Converged up to tol=1e-10. Final error after 6 iterations: 2.215324280150403e-11.\n",
      "AR, R: Converged up to tol=1e-10. Final error after 6 iterations: 1.86825312570931e-15.\n",
      "Ground state converged up to tol=1e-08 in gradient norm. Final error after 4 iterations: 9.609983588288262e-10.\n",
      "Ground state energy density: -1.7605081222051782. \n",
      "Ground state variance density: (1.7884166370052412e-12-1.0907073855204175e-16j).\n",
      "Magnetization density in z-direction:-6.830131633883685e-10.\n",
      "g = 1.8:\n",
      "AL, L: Converged up to tol=1e-10. Final error after 6 iterations: 6.11115165443134e-11.\n",
      "AR, R: Converged up to tol=1e-10. Final error after 6 iterations: 2.3202888888100474e-15.\n",
      "Ground state converged up to tol=1e-08 in gradient norm. Final error after 4 iterations: 8.736441110075334e-10.\n",
      "Ground state energy density: -1.9418043043913817. \n",
      "Ground state variance density: (2.4702462297909733e-14+4.0939474033052647e-16j).\n",
      "Magnetization density in z-direction:-1.0837967329146991e-10.\n",
      "g = 2.0:\n",
      "AL, L: Converged up to tol=1e-10. Final error after 7 iterations: 1.4860489341402463e-15.\n",
      "AR, R: Converged up to tol=1e-10. Final error after 6 iterations: 4.4213454398949955e-15.\n",
      "Ground state converged up to tol=1e-08 in gradient norm. Final error after 4 iterations: 1.0706282871395154e-10.\n",
      "Ground state energy density: -2.1270888199467217. \n",
      "Ground state variance density: (-1.915134717478395e-15-1.3818156688327754e-16j).\n",
      "Magnetization density in z-direction:-7.811577773519929e-12.\n"
     ]
    }
   ],
   "source": [
    "D = 30\n",
    "gs = [0., 0.2, 0.4, 0.6, 0.8, 0.9, 0.95, 0.96, 0.97, 0.98, 0.99, 0.994, 0.998,\\\n",
    "       1.002, 1.006, 1.01, 1.02, 1.03, 1.04, 1.05, 1.1, 1.2, 1.4, 1.6, 1.8, 2.0]\n",
    "szs = []\n",
    "for g in gs:\n",
    "    print(f\"g = {g}:\")\n",
    "    tfi_model = TFIModel(L=1, J=1., g=g, bc='infinite')\n",
    "    h = tfi_model.H_bonds[0]\n",
    "    guess_psi0 = UniformMPS.from_desired_bond_dimension(D)\n",
    "    _, psi0, _ = vumps_algorithm(h, guess_psi0, tol=1.e-8)\n",
    "    sz = psi0.get_site_expectation_value(tfi_model.sigmaz)\n",
    "    print(f\"Magnetization density in z-direction:{sz}.\")\n",
    "    szs.append(sz)"
   ]
  },
  {
   "cell_type": "code",
   "execution_count": 20,
   "id": "98c8f7ac",
   "metadata": {},
   "outputs": [
    {
     "data": {
      "image/png": "[encoded data removed]",
      "text/plain": [
       "<Figure size 600x400 with 1 Axes>"
      ]
     },
     "metadata": {},
     "output_type": "display_data"
    }
   ],
   "source": [
    "plt.figure(figsize=(6, 4))\n",
    "plt.title(f\"VUMPS with $D={D}$\")\n",
    "plt.axvline(x=1.0, color=\"darkblue\")\n",
    "plt.plot(gs, np.abs(szs), \".-\", color=\"cornflowerblue\")\n",
    "plt.xlabel(r\"transverse field $g$\")\n",
    "plt.ylabel(r\"magnetization $\\vert \\langle \\sigma^z \\rangle \\vert$\")\n",
    "plt.show()"
   ]
  },
  {
   "cell_type": "markdown",
   "id": "4cd06d6b",
   "metadata": {},
   "source": [
    "Magnetization $m =  \\vert \\langle \\sigma^z \\rangle \\vert$ as order parameter: <br>\n",
    "$m >0$ for $g<1$ (ferromagnetic phase), $m = 0$ for $g>1$ (paramagnetic phase), quantum phase transition at $g=1$."
   ]
  }
 ],
 "metadata": {
  "kernelspec": {
   "display_name": "Python 3",
   "language": "python",
   "name": "python3"
  },
  "language_info": {
   "codemirror_mode": {
    "name": "ipython",
    "version": 3
   },
   "file_extension": ".py",
   "mimetype": "text/x-python",
   "name": "python",
   "nbconvert_exporter": "python",
   "pygments_lexer": "ipython3",
   "version": "3.12.7"
  }
 },
 "nbformat": 4,
 "nbformat_minor": 5
}
