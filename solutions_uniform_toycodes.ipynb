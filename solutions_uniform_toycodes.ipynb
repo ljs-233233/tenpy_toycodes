{
 "cells": [
  {
   "cell_type": "markdown",
   "id": "20664216",
   "metadata": {},
   "source": [
    "# Uniform matrix product states in the thermodynamic limit - Solutions"
   ]
  },
  {
   "cell_type": "code",
   "execution_count": 1,
   "id": "2a6affc1",
   "metadata": {},
   "outputs": [],
   "source": [
    "import numpy as np\n",
    "import matplotlib.pyplot as plt"
   ]
  },
  {
   "cell_type": "markdown",
   "id": "c1b9c9cf",
   "metadata": {},
   "source": [
    "## 1) `f_umps.py`: Random states and AKLT ground state"
   ]
  },
  {
   "cell_type": "code",
   "execution_count": 2,
   "id": "e807aedc",
   "metadata": {},
   "outputs": [],
   "source": [
    "from tenpy_toycodes.f_umps import UniformMPS, TransferMatrix\n",
    "from tenpy_toycodes.a_mps import SimpleMPS"
   ]
  },
  {
   "cell_type": "markdown",
   "id": "4e071fef",
   "metadata": {},
   "source": [
    "### 1.1) Transfer matrix and canonical form of random injective tensor"
   ]
  },
  {
   "cell_type": "markdown",
   "id": "e0be6b6f",
   "metadata": {},
   "source": [
    "* Create a random tensor $A \\in \\mathbb{C}^{D \\times d \\times D}$ of physical dimension $d = 2$ and bond dimension $D = 4$."
   ]
  },
  {
   "cell_type": "code",
   "execution_count": 3,
   "id": "ecebc5d6",
   "metadata": {},
   "outputs": [],
   "source": [
    "D, d = 4, 2\n",
    "A = UniformMPS.get_random_tensor(D, d)"
   ]
  },
  {
   "cell_type": "markdown",
   "id": "ae5eb45e",
   "metadata": {},
   "source": [
    "* Show that $A$ is injective, i.e. its `TransferMatrix` fulfills $T_A = \\vert R \\rangle \\langle L \\vert + \\mathcal{O}(\\vert \\lambda_2 \\vert)$ with $\\vert \\lambda_2 \\vert < 1$ and $R,L > 0$."
   ]
  },
  {
   "cell_type": "code",
   "execution_count": 4,
   "id": "b163994a",
   "metadata": {},
   "outputs": [
    {
     "name": "stdout",
     "output_type": "stream",
     "text": [
      "lambda_1 =  (0.999999999999998-3.3306690738754696e-16j)\n",
      "|lambda_2| =  0.6719441747580994\n",
      "R > 0 with eigenvalues [0.62355572 0.016823   0.2293713  0.13024997]\n",
      "L > 0 with eigenvalues [0.85377126 0.1024425  0.03602043 0.00776581]\n"
     ]
    }
   ],
   "source": [
    "# right eigenvector\n",
    "T = TransferMatrix([A], [A])\n",
    "lambdas, Rs = T.get_leading_eigenpairs(k=2)\n",
    "lambda1, lambda2 = lambdas[0], lambdas[1]\n",
    "R = Rs[0]\n",
    "R /= np.trace(R)\n",
    "ERs, _ = np.linalg.eig(R)\n",
    "\n",
    "# left eigenvector\n",
    "T = TransferMatrix([A], [A], transpose=True)\n",
    "mus, Ls = T.get_leading_eigenpairs(k=2)\n",
    "L = Ls[0]\n",
    "L /= np.trace(L)\n",
    "ELs, _ = np.linalg.eig(L)\n",
    "\n",
    "assert np.allclose(np.abs(lambdas), np.abs(mus))\n",
    "print(\"lambda_1 = \", lambda1)\n",
    "print(\"|lambda_2| = \", np.abs(lambda2))\n",
    "print(\"R > 0 with eigenvalues\", np.real_if_close(ERs))\n",
    "print(\"L > 0 with eigenvalues\", np.real_if_close(ELs))"
   ]
  },
  {
   "cell_type": "markdown",
   "id": "8e7a5f93",
   "metadata": {},
   "source": [
    "* Compute the canonical form of $A$, consisting of left/right orthonormal tensor $A_L / A_R$, center site tensor $A_C$, and center matrix $C$."
   ]
  },
  {
   "cell_type": "code",
   "execution_count": 5,
   "id": "3e008d59",
   "metadata": {},
   "outputs": [
    {
     "name": "stdout",
     "output_type": "stream",
     "text": [
      "AL, L: Converged up to tol=1e-10. Final error after 6 iterations: 6.9044780418601915e-12.\n",
      "AR, R: Converged up to tol=1e-10. Final error after 6 iterations: 6.065482401479471e-16.\n"
     ]
    }
   ],
   "source": [
    "AL, AR, AC, C = UniformMPS.to_canonical_form(A)"
   ]
  },
  {
   "cell_type": "markdown",
   "id": "a7398c6d",
   "metadata": {},
   "source": [
    "* Show that $T_{A_L} = \\vert R \\rangle \\langle \\mathbb{1} \\vert + \\mathcal{O}(\\vert \\lambda_2 \\vert)$ with $\\vert \\lambda_2 \\vert < 1$ and $R > 0$."
   ]
  },
  {
   "cell_type": "code",
   "execution_count": 6,
   "id": "e951a918",
   "metadata": {},
   "outputs": [
    {
     "name": "stdout",
     "output_type": "stream",
     "text": [
      "lambda_1 =  (1.0000000000000013+1.7203199454065437e-16j)\n",
      "|lambda_2| =  0.6719441747560152\n",
      "R > 0 with eigenvalues [0.77463609 0.20414704 0.01992965 0.00128722]\n",
      "L = 1: True\n"
     ]
    }
   ],
   "source": [
    "# right eigenvector\n",
    "T = TransferMatrix([AL], [AL])\n",
    "lambdas, Rs = T.get_leading_eigenpairs(k=2)\n",
    "lambda1, lambda2 = lambdas[0], lambdas[1]\n",
    "R = Rs[0]\n",
    "R /= np.trace(R)\n",
    "ERs, _ = np.linalg.eig(R)\n",
    "\n",
    "# left eigenvector\n",
    "T = TransferMatrix([AL], [AL], transpose=True)\n",
    "mus, Ls = T.get_leading_eigenpairs(k=2)\n",
    "L = Ls[0]\n",
    "L /= np.trace(L)\n",
    "\n",
    "assert np.allclose(np.abs(lambdas), np.abs(mus))\n",
    "print(\"lambda_1 = \", lambda1)\n",
    "print(\"|lambda_2| = \", np.abs(lambda2))\n",
    "print(\"R > 0 with eigenvalues\", np.real_if_close(ERs))\n",
    "print(\"L = 1:\", np.allclose(L, np.eye(4)/4))"
   ]
  },
  {
   "cell_type": "markdown",
   "id": "714e5c0b",
   "metadata": {},
   "source": [
    "* Show that $T_{A_R} = \\vert \\mathbb{1} \\rangle \\langle L \\vert + \\mathcal{O}(\\vert \\lambda_2 \\vert)$ with $\\vert \\lambda_2 \\vert < 1$ and $L > 0$."
   ]
  },
  {
   "cell_type": "code",
   "execution_count": 7,
   "id": "84aa068a",
   "metadata": {},
   "outputs": [
    {
     "name": "stdout",
     "output_type": "stream",
     "text": [
      "lambda_1 =  (1.0000000000000044-5.551115123125783e-17j)\n",
      "|lambda_2| =  0.6719441747560185\n",
      "R = 1: True\n",
      "L > 0 with eigenvalues [0.77463609 0.20414704 0.01992965 0.00128722]\n"
     ]
    }
   ],
   "source": [
    "# right eigenvector\n",
    "T = TransferMatrix([AR], [AR])\n",
    "lambdas, Rs = T.get_leading_eigenpairs(k=2)\n",
    "lambda1, lambda2 = lambdas[0], lambdas[1]\n",
    "R = Rs[0]\n",
    "R /= np.trace(R)\n",
    "\n",
    "# left eigenvector\n",
    "T = TransferMatrix([AR], [AR], transpose=True)\n",
    "lambdas, Ls = T.get_leading_eigenpairs(k=2)\n",
    "lambda1, lambda2 = lambdas[0], lambdas[1]\n",
    "L = Ls[0]\n",
    "L /= np.trace(L)\n",
    "ELs, _ = np.linalg.eig(L)\n",
    "\n",
    "assert np.allclose(np.abs(lambdas), np.abs(mus))\n",
    "print(\"lambda_1 = \", lambda1)\n",
    "print(\"|lambda_2| = \", np.abs(lambda2))\n",
    "print(\"R = 1:\", np.allclose(R, np.eye(4)/4))\n",
    "print(\"L > 0 with eigenvalues\", np.real_if_close(ELs))"
   ]
  },
  {
   "cell_type": "markdown",
   "id": "3fb68aaf",
   "metadata": {},
   "source": [
    "* Show that $A_C = A_L C = C A_R$."
   ]
  },
  {
   "cell_type": "code",
   "execution_count": 8,
   "id": "d1f37696",
   "metadata": {},
   "outputs": [
    {
     "name": "stdout",
     "output_type": "stream",
     "text": [
      "0.0\n",
      "1.243533508721862e-15\n"
     ]
    }
   ],
   "source": [
    "AC_L = np.tensordot(AL, C, axes=(2, 0))  # vL p [vR], [vL] vR -> vL p vR\n",
    "AC_R = np.tensordot(C, AR, axes=(1, 0))  # vL [vR], [vL] p vR -> vL p vR\n",
    "print(np.linalg.norm(AC_L - AC))\n",
    "print(np.linalg.norm(AC_R - AC))"
   ]
  },
  {
   "cell_type": "markdown",
   "id": "53fe5435",
   "metadata": {},
   "source": [
    "* Directly create a random `UniformMPS` (for different tolerances) and test its canonical form."
   ]
  },
  {
   "cell_type": "code",
   "execution_count": 9,
   "id": "a06ed868",
   "metadata": {},
   "outputs": [
    {
     "name": "stdout",
     "output_type": "stream",
     "text": [
      "AL, L: Converged up to tol=1e-10. Final error after 6 iterations: 4.211664041581092e-12.\n",
      "AR, R: Converged up to tol=1e-10. Final error after 6 iterations: 1.1099825623437043e-14.\n",
      "[2.83010694e-14 3.05013398e-14 0.00000000e+00 1.17350507e-14]\n",
      "AL, L: Converged up to tol=1e-05. Final error after 5 iterations: 4.698722041302108e-06.\n",
      "AR, R: Converged up to tol=1e-05. Final error after 5 iterations: 1.6957973816322139e-07.\n",
      "[2.83183640e-14 2.91780523e-14 0.00000000e+00 1.69579738e-07]\n"
     ]
    }
   ],
   "source": [
    "psi_random = UniformMPS.from_desired_bond_dimension(D=100, d=3, tol=1.e-10)\n",
    "print(psi_random.test_canonical_form())\n",
    "psi_random = UniformMPS.from_desired_bond_dimension(D=100, d=3, tol=1.e-5)\n",
    "print(psi_random.test_canonical_form())"
   ]
  },
  {
   "cell_type": "markdown",
   "id": "a81f992c",
   "metadata": {},
   "source": [
    "### 1.2) AKLT state"
   ]
  },
  {
   "cell_type": "markdown",
   "id": "134b43b2",
   "metadata": {},
   "source": [
    "For the spin-1 matrices $S_x$, $S_y$ and $S_z$, we consider the two-site Hamiltonian matrix \n",
    "\n",
    "$$h = S_x \\otimes S_x + S_y \\otimes S_y + S_z \\otimes S_z + \\frac{1}{3}(S_x \\otimes S_x + S_y \\otimes S_y + S_z \\otimes S_z)^2 = 2P_{S=2}-2/3.$$\n",
    "\n",
    "The Hamiltonian for multiple sites then simply reads $H = \\sum_{n} h_{n, n+1}$. The eigenenergy is minimized (with a value of $-2/3$), if every bond has total spin $S = 0$ or $S = 1$. This is fulfilled by distributing spin-1/2 singlets between all neighbor-sites and projecting every site onto the $S = 1$ subspace. This is the AKLT state $\\vert \\psi_{\\mathrm{AKLT}} \\rangle$. A few lines derivation shows that it can be represented exactly by a uMPS $\\vert \\psi(A) \\rangle$ with left orthonormal tensor\n",
    "\n",
    "$$ A_L^{+1} = \\sqrt{\\frac{2}{3}}\\sigma^{+}, A_L^{0} = \\sqrt{\\frac{1}{3}}\\sigma^{z}, A_L^{-1} = -\\sqrt{\\frac{2}{3}}\\sigma^{-}. $$\n",
    "\n",
    "* Implement $h, h^2 \\in \\mathbb{C}^{3 \\times 3 \\times 3 \\times 3}$."
   ]
  },
  {
   "cell_type": "code",
   "execution_count": 10,
   "id": "b7999d07",
   "metadata": {},
   "outputs": [],
   "source": [
    "d = 3\n",
    "\n",
    "# spin-1 matrices\n",
    "Sx = np.array([[0., 1., 0.],[1., 0., 1.],[0., 1., 0.]]) / np.sqrt(2)\n",
    "Sy = -1.j * np.array([[0., 1., 0.],[-1., 0., 1.],[0., -1., 0.]]) / np.sqrt(2) \n",
    "Sz = np.array([[1., 0., 0.],[0., 0., 0.],[0., 0., -1.]])\n",
    "\n",
    "# Hamiltonian\n",
    "S_dot_S = np.kron(Sx, Sx) + np.kron(Sy, Sy) + np.kron(Sz, Sz)\n",
    "h = S_dot_S + (1/3.) * S_dot_S @ S_dot_S\n",
    "h2 = h @ h\n",
    "h = np.reshape(h, (d, d, d, d))\n",
    "h2 = np.reshape(h2, (d, d, d, d))"
   ]
  },
  {
   "cell_type": "markdown",
   "id": "b9317ef5",
   "metadata": {},
   "source": [
    "* Bring the above defined $A_L$ into canonical form and initialize $\\vert \\psi_{\\mathrm{AKLT}} \\rangle$ as a `UniformMPS`."
   ]
  },
  {
   "cell_type": "code",
   "execution_count": 11,
   "id": "c479d341",
   "metadata": {},
   "outputs": [
    {
     "name": "stdout",
     "output_type": "stream",
     "text": [
      "AR, R: Converged up to tol=1e-10. Final error after 4 iterations: 3.460213375483076e-12.\n"
     ]
    }
   ],
   "source": [
    "D = 2\n",
    "\n",
    "AL = np.zeros((D, d, D), dtype=complex)\n",
    "AL[:, 0, :] = np.sqrt(2/3.) * np.array([[0., 0.],[1., 0.]])\n",
    "AL[:, 1, :] = np.sqrt(1/3.) * np.array([[1., 0.],[0., -1.]])\n",
    "AL[:, 2, :] = -np.sqrt(2/3.) * np.array([[0., 1.],[0., 0.]])\n",
    "\n",
    "AR, C = UniformMPS.right_orthonormalize(AL)\n",
    "AC = np.tensordot(AL, C, axes=(2, 0))  # vL p [vR], [vL] vR\n",
    "psi_AKLT = UniformMPS(AL, AR, AC, C)"
   ]
  },
  {
   "cell_type": "markdown",
   "id": "1b39fe00",
   "metadata": {},
   "source": [
    "Show the following properties of $\\vert \\psi_{\\mathrm{AKLT}} \\rangle$: \n",
    "* Ground state energy $e = \\langle h \\rangle = -2/3$, \n",
    "\n",
    "* Variance $\\langle h^2 \\rangle - \\langle h \\rangle^2 = 0$ (H is frustration free),\n",
    "\n",
    "* Entanglement entropy $S = \\ln(2) \\approx 0.6931471805599453$,\n",
    "\n",
    "* Correlation length $\\xi = -1/\\ln(\\vert \\lambda_2 \\vert) = -1/\\ln(1/3) = 1/\\ln 3 \\approx 0.9102392266268371$,\n",
    "\n",
    "* Connected correlation function $C(n) = \\langle S_z^0 S_z^n \\rangle - \\langle S_z \\rangle^2 \\rightarrow \\vert \\lambda_2 \\vert^{n-1}$."
   ]
  },
  {
   "cell_type": "code",
   "execution_count": 12,
   "id": "9f462402",
   "metadata": {},
   "outputs": [
    {
     "name": "stdout",
     "output_type": "stream",
     "text": [
      "e =  -0.666666666666667\n",
      "var_e =  -4.440892098500626e-16\n",
      "S =  0.6931471805599452\n",
      "xi =  0.9102392266268375\n",
      "|lambda2| =  0.3333333333333333\n"
     ]
    }
   ],
   "source": [
    "# ground state energy\n",
    "print(\"e = \", psi_AKLT.get_bond_expectation_value(h))\n",
    "# variance\n",
    "print(\"var_e = \", psi_AKLT.get_bond_expectation_value(h2) - psi_AKLT.get_bond_expectation_value(h)**2)\n",
    "# entanglement entropy\n",
    "print(\"S = \", psi_AKLT.get_entanglement_entropy())\n",
    "# correlation length\n",
    "print(\"xi = \", psi_AKLT.get_correlation_length())\n",
    "# second largest eigenvalue (to check consistency with formula above)\n",
    "T = TransferMatrix([psi_AKLT.AL], [psi_AKLT.AL])\n",
    "lambdas, _ = T.get_leading_eigenpairs(k=2)\n",
    "lambda2 = lambdas[1]\n",
    "print(\"|lambda2| = \", np.abs(lambda2))"
   ]
  },
  {
   "cell_type": "code",
   "execution_count": 13,
   "id": "996b53cb",
   "metadata": {},
   "outputs": [
    {
     "data": {
      "image/png": "[encoded data removed]",
      "text/plain": [
       "<Figure size 600x400 with 1 Axes>"
      ]
     },
     "metadata": {},
     "output_type": "display_data"
    }
   ],
   "source": [
    "# correlation functions\n",
    "N = 50\n",
    "ns = np.arange(1, N+1)\n",
    "Cs = psi_AKLT.get_correlation_functions(Sz, Sz, N)\n",
    "Cs_connected = Cs - psi_AKLT.get_site_expectation_value(Sz)**2\n",
    "Cs_theo = []\n",
    "for n in ns:\n",
    "    Cs_theo.append(np.abs(lambda2)**(n-1))\n",
    "\n",
    "plt.figure(figsize=(6, 4))\n",
    "plt.xlabel(r\"$n$\")\n",
    "plt.semilogy(ns, Cs_connected, \"x\", label=r\"$C(n)$\")\n",
    "plt.semilogy(ns, Cs_theo, \"-\", label=r\"$\\vert \\lambda_2 \\vert^{n-1}$\")\n",
    "plt.legend(loc=\"best\")\n",
    "plt.show()"
   ]
  },
  {
   "cell_type": "markdown",
   "id": "b8a1c634",
   "metadata": {},
   "source": [
    "### 1.3) Conversions between uniform MPS and infinite MPS"
   ]
  },
  {
   "cell_type": "markdown",
   "id": "e778228e",
   "metadata": {},
   "source": [
    "* Convert the `UniformMPS` (uMPS) $\\vert \\psi_{\\mathrm{AKLT}} \\rangle$ to a `SimpleMPS(bc=\"infinite\")` (iMPS) and recheck the values of $e$, $S$, $\\xi$."
   ]
  },
  {
   "cell_type": "code",
   "execution_count": 14,
   "id": "249303f7",
   "metadata": {},
   "outputs": [
    {
     "name": "stdout",
     "output_type": "stream",
     "text": [
      "e =  [-0.66666667]\n",
      "var_e =  [-5.55111512e-17]\n",
      "S =  [0.69314718]\n",
      "xi =  0.9102392266268376\n"
     ]
    }
   ],
   "source": [
    "psi_AKLT_infinite = psi_AKLT.to_infinite_MPS(L=1)\n",
    "\n",
    "# ground state energy\n",
    "print(\"e = \", psi_AKLT_infinite.bond_expectation_value([h]))\n",
    "# variance\n",
    "print(\"var_e = \", psi_AKLT_infinite.bond_expectation_value([h2]) \\\n",
    "      - psi_AKLT_infinite.bond_expectation_value([h])**2)\n",
    "# entanglement entropy\n",
    "print(\"S = \", psi_AKLT_infinite.entanglement_entropy())\n",
    "# correlation length\n",
    "print(\"xi = \", psi_AKLT_infinite.correlation_length())"
   ]
  },
  {
   "cell_type": "markdown",
   "id": "976073bf",
   "metadata": {},
   "source": [
    "* Denote by $B \\in \\mathbb{C}^{2 \\times 3 \\times 2}$ the right canonical tensor of $\\vert \\psi_{\\mathrm{AKLT}} \\rangle$ and by $U \\in \\mathbb{C}^{2 \\times 2}$ a random unitary. Show that the iMPS $\\vert\\psi(B_1, B_2)\\rangle$ with $B_1 = BU$ and $B_2 = U^*B$ is translation invariant and can be converted to a uMPS. Check that this is still the AKLT state."
   ]
  },
  {
   "cell_type": "code",
   "execution_count": 15,
   "id": "a47a7ad6",
   "metadata": {},
   "outputs": [
    {
     "name": "stdout",
     "output_type": "stream",
     "text": [
      "Infinite MPS is translation invariant -> Conversion to uniform MPS.\n",
      "AL, L: Converged up to tol=1e-10. Final error after 7 iterations: 4.088851333862948e-15.\n",
      "AR, R: Converged up to tol=1e-10. Final error after 4 iterations: 7.613734154597078e-12.\n",
      "e =  -0.6666666666666669\n",
      "var_e =  -2.220446049250313e-16\n",
      "S =  0.6931471805599453\n",
      "xi =  0.9102392266268381\n"
     ]
    }
   ],
   "source": [
    "B = psi_AKLT_infinite.Bs[0]\n",
    "C = psi_AKLT_infinite.Ss[0]\n",
    "from scipy.stats import unitary_group\n",
    "U = unitary_group.rvs(2)\n",
    "B1 = np.tensordot(B, U, axes=(2, 0))\n",
    "B2 = np.tensordot(np.conj(U).T, B, axes=(1, 0))\n",
    "\n",
    "psi_infinite = SimpleMPS([B1, B2], [C, C], bc=\"infinite\")\n",
    "psi_uniform = UniformMPS.from_infinite_MPS(psi_infinite)\n",
    "\n",
    "# ground state energy\n",
    "print(\"e = \", psi_uniform.get_bond_expectation_value(h))\n",
    "# variance\n",
    "print(\"var_e = \", psi_uniform.get_bond_expectation_value(h2) - psi_uniform.get_bond_expectation_value(h)**2)\n",
    "# entanglement entropy\n",
    "print(\"S = \", psi_uniform.get_entanglement_entropy())\n",
    "# correlation length\n",
    "print(\"xi = \", psi_uniform.get_correlation_length())"
   ]
  },
  {
   "cell_type": "markdown",
   "id": "507d3d45",
   "metadata": {},
   "source": [
    "* For random right canonical tensors $B_1 \\in \\mathbb{C}^{D \\times d \\times D}$ and $B_2 \\in \\mathbb{C}^{D \\times d \\times D}$, show that the iMPS $\\vert\\psi(B_1, B_2)\\rangle$ is in general not translation invariant and cannot be converted to a uMPS."
   ]
  },
  {
   "cell_type": "code",
   "execution_count": 16,
   "id": "d11ad991",
   "metadata": {},
   "outputs": [
    {
     "name": "stdout",
     "output_type": "stream",
     "text": [
      "AL, L: Converged up to tol=1e-10. Final error after 6 iterations: 2.4262509912391773e-12.\n",
      "AR, R: Converged up to tol=1e-10. Final error after 6 iterations: 8.057016854567387e-14.\n",
      "AL, L: Converged up to tol=1e-10. Final error after 6 iterations: 1.6521460015530815e-11.\n",
      "AR, R: Converged up to tol=1e-10. Final error after 6 iterations: 9.960261462939546e-15.\n"
     ]
    },
    {
     "ename": "ValueError",
     "evalue": "Infinite MPS is not translation invariant.",
     "output_type": "error",
     "traceback": [
      "\u001b[0;31m---------------------------------------------------------------------------\u001b[0m",
      "\u001b[0;31mValueError\u001b[0m                                Traceback (most recent call last)",
      "Cell \u001b[0;32mIn[16], line 8\u001b[0m\n\u001b[1;32m      5\u001b[0m S1, S2 \u001b[38;5;241m=\u001b[39m np\u001b[38;5;241m.\u001b[39mdiag(S1), np\u001b[38;5;241m.\u001b[39mdiag(S1)\n\u001b[1;32m      7\u001b[0m psi_infinite \u001b[38;5;241m=\u001b[39m SimpleMPS([B1, B2], [S1, S2], bc\u001b[38;5;241m=\u001b[39m\u001b[38;5;124m\"\u001b[39m\u001b[38;5;124minfinite\u001b[39m\u001b[38;5;124m\"\u001b[39m)\n\u001b[0;32m----> 8\u001b[0m psi_uniform \u001b[38;5;241m=\u001b[39m UniformMPS\u001b[38;5;241m.\u001b[39mfrom_infinite_MPS(psi_infinite)\n",
      "File \u001b[0;32m~/Library/Mobile Documents/com~apple~CloudDocs/master/thesis/python/tenpy_toycodes/tenpy_toycodes/f_umps.py:160\u001b[0m, in \u001b[0;36mUniformMPS.from_infinite_MPS\u001b[0;34m(cls, psi)\u001b[0m\n\u001b[1;32m    158\u001b[0m lambda1, U \u001b[38;5;241m=\u001b[39m T\u001b[38;5;241m.\u001b[39mget_leading_eigenpairs(k\u001b[38;5;241m=\u001b[39m\u001b[38;5;241m1\u001b[39m)\n\u001b[1;32m    159\u001b[0m \u001b[38;5;28;01mif\u001b[39;00m np\u001b[38;5;241m.\u001b[39mabs(np\u001b[38;5;241m.\u001b[39mabs(lambda1) \u001b[38;5;241m-\u001b[39m \u001b[38;5;241m1.\u001b[39m) \u001b[38;5;241m>\u001b[39m \u001b[38;5;241m1.e-8\u001b[39m:\n\u001b[0;32m--> 160\u001b[0m     \u001b[38;5;28;01mraise\u001b[39;00m \u001b[38;5;167;01mValueError\u001b[39;00m(\u001b[38;5;124mf\u001b[39m\u001b[38;5;124m\"\u001b[39m\u001b[38;5;124mInfinite MPS is not translation invariant.\u001b[39m\u001b[38;5;124m\"\u001b[39m)\n\u001b[1;32m    161\u001b[0m \u001b[38;5;28;01melse\u001b[39;00m:\n\u001b[1;32m    162\u001b[0m     \u001b[38;5;28mprint\u001b[39m(\u001b[38;5;124mf\u001b[39m\u001b[38;5;124m\"\u001b[39m\u001b[38;5;124mInfinite MPS is translation invariant -> Conversion to uniform MPS.\u001b[39m\u001b[38;5;124m\"\u001b[39m)\n",
      "\u001b[0;31mValueError\u001b[0m: Infinite MPS is not translation invariant."
     ]
    }
   ],
   "source": [
    "tensor1 = UniformMPS.get_random_tensor(D=100, d=3)\n",
    "tensor2 = UniformMPS.get_random_tensor(D=100, d=3)\n",
    "_, B1, _, S1 = UniformMPS.to_canonical_form(tensor1)\n",
    "_, B2, _, S2 = UniformMPS.to_canonical_form(tensor2)\n",
    "S1, S2 = np.diag(S1), np.diag(S1)\n",
    "\n",
    "psi_infinite = SimpleMPS([B1, B2], [S1, S2], bc=\"infinite\")\n",
    "psi_uniform = UniformMPS.from_infinite_MPS(psi_infinite)"
   ]
  },
  {
   "cell_type": "markdown",
   "id": "51271c16",
   "metadata": {},
   "source": [
    "## Transverse field Ising model\n",
    "\n",
    "In the following we want to use uMPS methods to find the ground state, elementary excitations and time-evolved states of the transverse field Ising (TFI) model \n",
    "\n",
    "$$ H = -J \\sum_n \\sigma^z_n \\sigma^z_{n+1} - g \\sum_n \\sigma^x_n \\overset{J=1}{=} -\\sum_n \\sigma^z_n \\sigma^z_{n+1} - g \\sum_n \\sigma^x_n. $$\n",
    "\n",
    "$\\mathbb{Z}_2-\\mathrm{symmetry}$: $[H, U] = 0$ with $U = \\prod\\limits_n \\sigma^x_n$.\n",
    "\n",
    "From connecting the two limits of the transverse field $g$ we expect the following quantum phase diagram:\n",
    "\n",
    "* Ferromagnetic phase $g < g_c$\n",
    "\t* two degenerate, symmetry broken ground states related by $U$ ($\\ket{...\\uparrow\\uparrow\\uparrow...}$ and $\\ket{...\\downarrow\\downarrow\\downarrow...}$ for $g = 0$)\n",
    "\t* nonzero local order parameter: magnetization $\\langle \\sigma^z \\rangle = \\pm m$ ($m = 1$ for $g = 0$)\n",
    "\t* elementary excitations: topological domain walls ($\\ket{...\\uparrow\\uparrow\\uparrow \\downarrow\\downarrow\\downarrow...}$ for $g = 0$)\n",
    "\n",
    "* Paramagnetic phase $g > g_c$\n",
    "\t* unique symmetric ground state ($\\ket{...\\rightarrow\\rightarrow\\rightarrow...}$ for $g \\to \\infty$)\n",
    "\t* zero magnetization $\\langle \\sigma^z \\rangle = 0$\n",
    "\t* elementary excitations: single spin flips ($\\ket{...\\rightarrow\\rightarrow \\leftarrow \\rightarrow\\rightarrow...}$ for $g \\to \\infty$)\n",
    "\n",
    "* Quantum phase transition at $g_c$\n",
    "\n",
    "\n",
    "By performing Jordan-Wigner, Fourier and Bogoliubov transformations, the TFI model can be diagonalized analytically. The Hamiltonian in terms of fermionic creation and annihilation operators $\\gamma_{p}^{\\dagger}$ and $\\gamma_{p}$ reads\n",
    "\n",
    "$$H = \\sum_{p} \\epsilon_p \\gamma_{p}^{\\dagger}\\gamma_{p} + E_0.$$\n",
    "\n",
    "Single particle excitation energy: $\\epsilon_p = 2 \\sqrt{1 - 2g\\cos(p) + g^2}$ $\\Rightarrow$ energy gap closes at quantum critical point $g_c = 1$.\n",
    "\n",
    "Ground state energy: $E_0 = -\\sum_{p} \\epsilon_p/2$ $\\Rightarrow$ ground state energy density in the thermodynamic limit: $e_0 = - \\frac{1}{2\\pi} \\int_{-\\pi}^{\\pi} \\epsilon_p/2$.\n",
    "\n",
    "(For details see Subir Sachdev, Quantum Phase Transitions, 2nd ed, Cambridge University Press, 2011)"
   ]
  },
  {
   "cell_type": "markdown",
   "id": "8d1c962e",
   "metadata": {},
   "source": [
    "## 2) `g_vumps.py`: Variational ground state search"
   ]
  },
  {
   "cell_type": "code",
   "execution_count": 17,
   "id": "8a658a7a",
   "metadata": {},
   "outputs": [],
   "source": [
    "from tenpy_toycodes.b_model import TFIModel\n",
    "from tenpy_toycodes.tfi_exact import infinite_gs_energy\n",
    "\n",
    "from tenpy_toycodes.f_umps import UniformMPS\n",
    "from tenpy_toycodes.g_vumps import vumps_algorithm"
   ]
  },
  {
   "cell_type": "markdown",
   "id": "4bfe5f7d",
   "metadata": {},
   "source": [
    "For the transverse field Ising model in the thermodynamic limit, we want to find the ground state using the `vumps_algorithm`. \n",
    "\n",
    "* Investigate the convergence of the ground state energy density $e_0$ with the bond dimension $D$ by comparison to the exact value $e_{0, \\mathrm{exact}}$ from `tfi_exact.py`. Consider both the paramagnetic and ferromagnetic quantum phase."
   ]
  },
  {
   "cell_type": "code",
   "execution_count": 18,
   "id": "27ef125e",
   "metadata": {},
   "outputs": [
    {
     "name": "stdout",
     "output_type": "stream",
     "text": [
      "e0_exact = -1.6719262215361952.\n",
      "D = 2:\n",
      "AL, L: Converged up to tol=1e-10. Final error after 4 iterations: 7.947987303456224e-16.\n",
      "AR, R: Converged up to tol=1e-10. Final error after 4 iterations: 4.458745546780758e-16.\n",
      "Ground state converged up to tol=1e-10 in gradient norm. Final error after 21 iterations: 4.1191805359081654e-11.\n",
      "Ground state energy density: -1.6717366238936098. \n",
      "Ground state variance density: (0.000988426116714132-1.5281689177103114e-16j).\n",
      "Error |e0 - e0_exact| = 0.00018959764258541512.\n",
      "D = 4:\n",
      "AL, L: Converged up to tol=1e-10. Final error after 6 iterations: 7.05740432271557e-16.\n",
      "AR, R: Converged up to tol=1e-10. Final error after 5 iterations: 5.033000548391281e-16.\n",
      "Ground state converged up to tol=1e-10 in gradient norm. Final error after 14 iterations: 5.0852301445994714e-11.\n",
      "Ground state energy density: -1.6719259668748516. \n",
      "Ground state variance density: (1.326284252908816e-06-3.0487765090292385e-16j).\n",
      "Error |e0 - e0_exact| = 2.546613435683298e-07.\n",
      "D = 6:\n",
      "AL, L: Converged up to tol=1e-10. Final error after 5 iterations: 2.7203209455079458e-11.\n",
      "AR, R: Converged up to tol=1e-10. Final error after 6 iterations: 3.777377951396495e-16.\n",
      "Ground state converged up to tol=1e-10 in gradient norm. Final error after 12 iterations: 7.821021937154691e-11.\n",
      "Ground state energy density: -1.6719262211612946. \n",
      "Ground state variance density: (2.1214393922108776e-09-2.435118079402443e-16j).\n",
      "Error |e0 - e0_exact| = 3.749005550446327e-10.\n",
      "D = 8:\n",
      "AL, L: Converged up to tol=1e-10. Final error after 6 iterations: 6.812145425863627e-14.\n",
      "AR, R: Converged up to tol=1e-10. Final error after 6 iterations: 1.3559597432474156e-15.\n",
      "Ground state converged up to tol=1e-10 in gradient norm. Final error after 187 iterations: 9.599293730494497e-11.\n",
      "Ground state energy density: -1.6719262215051258. \n",
      "Ground state variance density: (3.2160035745576465e-10-7.465816159735184e-16j).\n",
      "Error |e0 - e0_exact| = 3.106936929953008e-11.\n",
      "D = 10:\n",
      "AL, L: Converged up to tol=1e-10. Final error after 6 iterations: 8.227482998079119e-14.\n",
      "AR, R: Converged up to tol=1e-10. Final error after 6 iterations: 5.362116334268726e-12.\n",
      "Ground state converged up to tol=1e-10 in gradient norm. Final error after 11 iterations: 2.541602760428258e-11.\n",
      "Ground state energy density: -1.6719262215356858. \n",
      "Ground state variance density: (2.8340385593850215e-12+1.1535911115245767e-16j).\n",
      "Error |e0 - e0_exact| = 5.093703236980218e-13.\n",
      "D = 20:\n",
      "AL, L: Converged up to tol=1e-10. Final error after 6 iterations: 3.440301726844288e-11.\n",
      "AR, R: Converged up to tol=1e-10. Final error after 6 iterations: 1.442371698567799e-15.\n",
      "Ground state converged up to tol=1e-10 in gradient norm. Final error after 7 iterations: 7.62481319021134e-11.\n",
      "Ground state energy density: -1.6719262215361912. \n",
      "Ground state variance density: (6.522560269672795e-16+3.543714800768871e-16j).\n",
      "Error |e0 - e0_exact| = 3.9968028886505635e-15.\n",
      "D = 30:\n",
      "AL, L: Converged up to tol=1e-10. Final error after 6 iterations: 4.5119940425469435e-12.\n",
      "AR, R: Converged up to tol=1e-10. Final error after 6 iterations: 1.104525332109434e-15.\n",
      "Ground state converged up to tol=1e-10 in gradient norm. Final error after 6 iterations: 7.027607412593411e-11.\n",
      "Ground state energy density: -1.6719262215361923. \n",
      "Ground state variance density: (2.0816681711721685e-17-2.5034228162690297e-16j).\n",
      "Error |e0 - e0_exact| = 2.886579864025407e-15.\n",
      "D = 40:\n",
      "AL, L: Converged up to tol=1e-10. Final error after 7 iterations: 1.572438206733734e-15.\n",
      "AR, R: Converged up to tol=1e-10. Final error after 6 iterations: 1.463031309035799e-14.\n",
      "Ground state converged up to tol=1e-10 in gradient norm. Final error after 5 iterations: 2.0371300933429653e-11.\n",
      "Ground state energy density: -1.6719262215361936. \n",
      "Ground state variance density: (-4.3021142204224816e-16+9.497611030973019e-17j).\n",
      "Error |e0 - e0_exact| = 1.5543122344752192e-15.\n",
      "D = 50:\n",
      "AL, L: Converged up to tol=1e-10. Final error after 7 iterations: 1.404628298599464e-15.\n",
      "AR, R: Converged up to tol=1e-10. Final error after 6 iterations: 1.0852041941967109e-14.\n",
      "Ground state converged up to tol=1e-10 in gradient norm. Final error after 4 iterations: 8.590704389379503e-11.\n",
      "Ground state energy density: -1.6719262215362056. \n",
      "Ground state variance density: (5.981326545168031e-15-3.351268915152694e-16j).\n",
      "Error |e0 - e0_exact| = 1.0436096431476471e-14.\n"
     ]
    }
   ],
   "source": [
    "# paramagnetic phase\n",
    "g = 1.5\n",
    "\n",
    "e0_exact = infinite_gs_energy(J=1., g=g)\n",
    "print(f\"e0_exact = {e0_exact}.\")\n",
    "\n",
    "h = TFIModel(L=1, J=1., g=g, bc='infinite').H_bonds[0]\n",
    "Ds = [2, 4, 6, 8, 10, 20, 30, 40, 50]\n",
    "for D in Ds:\n",
    "    print(f\"D = {D}:\")\n",
    "    guess_psi0 = UniformMPS.from_desired_bond_dimension(D)\n",
    "    e0, psi0, var0 = vumps_algorithm(h, guess_psi0, tol=1.e-10)\n",
    "    print(f\"Error |e0 - e0_exact| = {np.abs(e0 - e0_exact)}.\")"
   ]
  },
  {
   "cell_type": "code",
   "execution_count": 19,
   "id": "75144deb",
   "metadata": {},
   "outputs": [
    {
     "name": "stdout",
     "output_type": "stream",
     "text": [
      "e0_exact = -1.0635444099733717.\n",
      "D = 2:\n",
      "AL, L: Converged up to tol=1e-10. Final error after 4 iterations: 1.1089212187938556e-15.\n",
      "AR, R: Converged up to tol=1e-10. Final error after 4 iterations: 3.379462171739212e-16.\n",
      "Ground state converged up to tol=1e-10 in gradient norm. Final error after 10 iterations: 2.654352032566369e-11.\n",
      "Ground state energy density: -1.0635440740663133. \n",
      "Ground state variance density: (1.2520078448276326e-06-1.5009423825346202e-18j).\n",
      "Error |e0 - e0_exact| = 3.3590705839081636e-07.\n",
      "D = 4:\n",
      "AL, L: Converged up to tol=1e-10. Final error after 6 iterations: 1.5592915886041539e-15.\n",
      "AR, R: Converged up to tol=1e-10. Final error after 5 iterations: 2.5023852049754328e-11.\n",
      "Ground state converged up to tol=1e-10 in gradient norm. Final error after 17 iterations: 6.107442509096372e-11.\n",
      "Ground state energy density: -1.063544409864864. \n",
      "Ground state variance density: (4.0440791264795967e-10-2.3866000321837166e-17j).\n",
      "Error |e0 - e0_exact| = 1.0850764731173967e-10.\n",
      "D = 6:\n",
      "AL, L: Converged up to tol=1e-10. Final error after 6 iterations: 7.362399209944167e-16.\n",
      "AR, R: Converged up to tol=1e-10. Final error after 5 iterations: 9.661405405995432e-12.\n",
      "Ground state converged up to tol=1e-10 in gradient norm. Final error after 11 iterations: 9.0504420410891e-11.\n",
      "Ground state energy density: -1.063544409973329. \n",
      "Ground state variance density: (1.3067823732837436e-13+1.4135285823779764e-16j).\n",
      "Error |e0 - e0_exact| = 4.263256414560601e-14.\n",
      "D = 8:\n",
      "AL, L: Converged up to tol=1e-10. Final error after 6 iterations: 1.104298399320034e-15.\n",
      "AR, R: Converged up to tol=1e-10. Final error after 6 iterations: 8.674834379206414e-16.\n",
      "Ground state converged up to tol=1e-10 in gradient norm. Final error after 326 iterations: 9.820944606169681e-11.\n",
      "Ground state energy density: -1.0635444099733644. \n",
      "Ground state variance density: (3.226585665316861e-16+7.291259609965017e-18j).\n",
      "Error |e0 - e0_exact| = 7.327471962526033e-15.\n",
      "D = 10:\n",
      "AL, L: Converged up to tol=1e-10. Final error after 6 iterations: 6.164639910983716e-13.\n",
      "AR, R: Converged up to tol=1e-10. Final error after 6 iterations: 2.2139508214337297e-15.\n",
      "Ground state converged up to tol=1e-10 in gradient norm. Final error after 5 iterations: 4.418278427374024e-11.\n",
      "Ground state energy density: -1.0635444099733609. \n",
      "Ground state variance density: (-1.358505322124337e-16+6.087456385327206e-17j).\n",
      "Error |e0 - e0_exact| = 1.0880185641326534e-14.\n",
      "D = 20:\n",
      "AL, L: Converged up to tol=1e-10. Final error after 6 iterations: 1.3848501537222711e-15.\n",
      "AR, R: Converged up to tol=1e-10. Final error after 6 iterations: 4.539678587841797e-15.\n",
      "Ground state converged up to tol=1e-10 in gradient norm. Final error after 4 iterations: 5.592801232590772e-12.\n",
      "Ground state energy density: -1.063544409973364. \n",
      "Ground state variance density: (-2.205267218835516e-16+8.339293475602763e-17j).\n",
      "Error |e0 - e0_exact| = 7.771561172376096e-15.\n",
      "D = 30:\n",
      "AL, L: Converged up to tol=1e-10. Final error after 7 iterations: 1.826793867968297e-15.\n",
      "AR, R: Converged up to tol=1e-10. Final error after 6 iterations: 1.1325658382296785e-15.\n",
      "Ground state converged up to tol=1e-10 in gradient norm. Final error after 4 iterations: 1.4068335541954917e-13.\n",
      "Ground state energy density: -1.063544409973363. \n",
      "Ground state variance density: (4.423544863740858e-17-1.281615906337328e-16j).\n",
      "Error |e0 - e0_exact| = 8.659739592076221e-15.\n",
      "D = 40:\n",
      "AL, L: Converged up to tol=1e-10. Final error after 6 iterations: 2.9120446209544777e-11.\n",
      "AR, R: Converged up to tol=1e-10. Final error after 6 iterations: 4.991156905446393e-15.\n",
      "Ground state converged up to tol=1e-10 in gradient norm. Final error after 4 iterations: 2.5087070440372435e-12.\n",
      "Ground state energy density: -1.063544409973364. \n",
      "Ground state variance density: (-3.209238430557093e-17-6.690289733888091e-18j).\n",
      "Error |e0 - e0_exact| = 7.771561172376096e-15.\n",
      "D = 50:\n",
      "AL, L: Converged up to tol=1e-10. Final error after 6 iterations: 4.02683056641601e-11.\n",
      "AR, R: Converged up to tol=1e-10. Final error after 6 iterations: 1.6675879013453255e-15.\n",
      "Ground state converged up to tol=1e-10 in gradient norm. Final error after 4 iterations: 2.116171476013698e-12.\n",
      "Ground state energy density: -1.0635444099733635. \n",
      "Ground state variance density: (1.5720931501039814e-16-1.3538297002554933e-16j).\n",
      "Error |e0 - e0_exact| = 8.215650382226158e-15.\n"
     ]
    }
   ],
   "source": [
    "# ferromagnetic phase \n",
    "g = 0.5\n",
    "\n",
    "e0_exact = infinite_gs_energy(J=1., g=g)\n",
    "print(f\"e0_exact = {e0_exact}.\")\n",
    "\n",
    "h = TFIModel(L=1, J=1., g=g, bc='infinite').H_bonds[0]\n",
    "Ds = [2, 4, 6, 8, 10, 20, 30, 40, 50]\n",
    "for D in Ds:\n",
    "    print(f\"D = {D}:\")\n",
    "    guess_psi0 = UniformMPS.from_desired_bond_dimension(D)\n",
    "    e0, psi0, var0 = vumps_algorithm(h, guess_psi0, tol=1.e-10)\n",
    "    print(f\"Error |e0 - e0_exact| = {np.abs(e0 - e0_exact)}.\")"
   ]
  },
  {
   "cell_type": "markdown",
   "id": "61775480",
   "metadata": {},
   "source": [
    "* Plot the ground state magnetization $m = \\vert \\langle \\sigma^z \\rangle \\vert$ against the transverse field $g$ to locate the quantum phase transition at $g_c = 1$."
   ]
  },
  {
   "cell_type": "code",
   "execution_count": 20,
   "id": "3c8fdfa6",
   "metadata": {},
   "outputs": [
    {
     "name": "stdout",
     "output_type": "stream",
     "text": [
      "g = 1e-05:\n",
      "AL, L: Converged up to tol=1e-10. Final error after 7 iterations: 1.271245769816509e-15.\n",
      "AR, R: Converged up to tol=1e-10. Final error after 6 iterations: 1.1889819540155583e-15.\n",
      "Ground state converged up to tol=1e-10 in gradient norm. Final error after 3 iterations: 2.542883505511743e-13.\n",
      "Ground state energy density: -1.0000000000250013. \n",
      "Ground state variance density: (3.93298938675523e-29+3.257821663199987e-28j).\n",
      "Magnetization density in z-direction:0.9999999999875014.\n",
      "g = 0.2:\n",
      "AL, L: Converged up to tol=1e-10. Final error after 6 iterations: 4.197388290047192e-12.\n",
      "AR, R: Converged up to tol=1e-10. Final error after 6 iterations: 8.872408413515911e-14.\n",
      "Ground state converged up to tol=1e-10 in gradient norm. Final error after 3 iterations: 3.893519773588326e-12.\n",
      "Ground state energy density: -1.0100252539845818. \n",
      "Ground state variance density: (-9.234624241509504e-16-1.7494406734353506e-18j).\n",
      "Magnetization density in z-direction:0.9949102475941981.\n",
      "g = 0.4:\n",
      "AL, L: Converged up to tol=1e-10. Final error after 7 iterations: 1.4290157516432938e-15.\n",
      "AR, R: Converged up to tol=1e-10. Final error after 6 iterations: 3.020489353737051e-14.\n",
      "Ground state converged up to tol=1e-10 in gradient norm. Final error after 4 iterations: 1.1334555585206559e-11.\n",
      "Ground state energy density: -1.0404170862358308. \n",
      "Ground state variance density: (-1.3010426069826053e-17+2.778268066994105e-18j).\n",
      "Magnetization density in z-direction:-0.9784416036423209.\n",
      "g = 0.6:\n",
      "AL, L: Converged up to tol=1e-10. Final error after 6 iterations: 1.1394138248601089e-11.\n",
      "AR, R: Converged up to tol=1e-10. Final error after 6 iterations: 2.644676063842558e-15.\n",
      "Ground state converged up to tol=1e-10 in gradient norm. Final error after 4 iterations: 2.659568942914684e-12.\n",
      "Ground state energy density: -1.0922385835546862. \n",
      "Ground state variance density: (-1.6024508109335756e-16+9.594511600138911e-17j).\n",
      "Magnetization density in z-direction:0.9457416090031745.\n",
      "g = 0.8:\n",
      "AL, L: Converged up to tol=1e-10. Final error after 6 iterations: 2.0824763376972924e-12.\n",
      "AR, R: Converged up to tol=1e-10. Final error after 6 iterations: 1.1646481614168116e-15.\n",
      "Ground state converged up to tol=1e-10 in gradient norm. Final error after 7 iterations: 9.758876672527183e-11.\n",
      "Ground state energy density: -1.1678095085207212. \n",
      "Ground state variance density: (1.734723475976807e-18+7.720874720812398e-17j).\n",
      "Magnetization density in z-direction:-0.8801117367933905.\n",
      "g = 0.9:\n",
      "AL, L: Converged up to tol=1e-10. Final error after 6 iterations: 3.1383022954982236e-13.\n",
      "AR, R: Converged up to tol=1e-10. Final error after 6 iterations: 5.8884781486840334e-15.\n",
      "Ground state converged up to tol=1e-10 in gradient norm. Final error after 29 iterations: 9.673112090826792e-11.\n",
      "Ground state energy density: -1.2160009141097876. \n",
      "Ground state variance density: (-9.8879238130678e-16+2.0442631962214186e-16j).\n",
      "Magnetization density in z-direction:0.8125389716241235.\n",
      "g = 0.95:\n",
      "AL, L: Converged up to tol=1e-10. Final error after 6 iterations: 2.5544369904336187e-12.\n",
      "AR, R: Converged up to tol=1e-10. Final error after 6 iterations: 1.6746593550131247e-15.\n",
      "Ground state converged up to tol=1e-10 in gradient norm. Final error after 52 iterations: 9.457074570200579e-11.\n",
      "Ground state energy density: -1.2432657042704163. \n",
      "Ground state variance density: (1.4020035132844555e-14-1.6112328485307081e-15j).\n",
      "Magnetization density in z-direction:0.7475247509624996.\n",
      "g = 0.96:\n",
      "AL, L: Converged up to tol=1e-10. Final error after 6 iterations: 4.832066384592609e-12.\n",
      "AR, R: Converged up to tol=1e-10. Final error after 6 iterations: 1.2656875041872198e-15.\n",
      "Ground state converged up to tol=1e-10 in gradient norm. Final error after 53 iterations: 9.537518504289114e-11.\n",
      "Ground state energy density: -1.2490164923960045. \n",
      "Ground state variance density: (5.636116573448646e-14-2.8154019914017336e-16j).\n",
      "Magnetization density in z-direction:0.7274271525615099.\n",
      "g = 0.97:\n",
      "AL, L: Converged up to tol=1e-10. Final error after 6 iterations: 2.978003481658269e-11.\n",
      "AR, R: Converged up to tol=1e-10. Final error after 6 iterations: 6.265547631885172e-15.\n",
      "Ground state converged up to tol=1e-10 in gradient norm. Final error after 53 iterations: 9.821572938912117e-11.\n",
      "Ground state energy density: -1.2548784203916. \n",
      "Ground state variance density: (2.764524720255679e-13+1.7791757650487128e-16j).\n",
      "Magnetization density in z-direction:-0.7021799675148066.\n",
      "g = 0.98:\n",
      "AL, L: Converged up to tol=1e-10. Final error after 7 iterations: 1.707385071860742e-15.\n",
      "AR, R: Converged up to tol=1e-10. Final error after 6 iterations: 4.992390955038816e-15.\n",
      "Ground state converged up to tol=1e-10 in gradient norm. Final error after 61 iterations: 9.808975199064183e-11.\n",
      "Ground state energy density: -1.2608596438310127. \n",
      "Ground state variance density: (1.9185382449382615e-12+6.797947621484113e-16j).\n",
      "Magnetization density in z-direction:0.667900703442353.\n",
      "g = 0.99:\n",
      "AL, L: Converged up to tol=1e-10. Final error after 6 iterations: 1.3791289294339984e-11.\n",
      "AR, R: Converged up to tol=1e-10. Final error after 6 iterations: 5.482894414147463e-14.\n",
      "Ground state converged up to tol=1e-10 in gradient norm. Final error after 74 iterations: 9.04476516280932e-11.\n",
      "Ground state energy density: -1.2669721934560778. \n",
      "Ground state variance density: (2.8889484554595057e-11+6.581107186987012e-16j).\n",
      "Magnetization density in z-direction:0.6128535976810977.\n",
      "g = 0.994:\n",
      "AL, L: Converged up to tol=1e-10. Final error after 6 iterations: 2.780994252892587e-12.\n",
      "AR, R: Converged up to tol=1e-10. Final error after 6 iterations: 2.5829515160667093e-14.\n",
      "Ground state converged up to tol=1e-10 in gradient norm. Final error after 93 iterations: 9.236296297198146e-11.\n",
      "Ground state energy density: -1.269458286381297. \n",
      "Ground state variance density: (1.4687893609699465e-10+4.092863201132779e-16j).\n",
      "Magnetization density in z-direction:-0.5750897890923642.\n",
      "g = 0.998:\n",
      "AL, L: Converged up to tol=1e-10. Final error after 6 iterations: 3.0476924528026856e-11.\n",
      "AR, R: Converged up to tol=1e-10. Final error after 6 iterations: 2.2507232957940262e-14.\n",
      "Ground state converged up to tol=1e-10 in gradient norm. Final error after 75 iterations: 9.150483633493498e-11.\n",
      "Ground state energy density: -1.2719712708654245. \n",
      "Ground state variance density: (1.3703402648723717e-09+7.5796573878461615e-16j).\n",
      "Magnetization density in z-direction:0.5015035111656293.\n",
      "g = 1.002:\n",
      "AL, L: Converged up to tol=1e-10. Final error after 6 iterations: 1.064603488584331e-12.\n",
      "AR, R: Converged up to tol=1e-10. Final error after 6 iterations: 3.839828696422349e-15.\n",
      "Ground state converged up to tol=1e-10 in gradient norm. Final error after 140 iterations: 9.714352252930282e-11.\n",
      "Ground state energy density: -1.2745177365002553. \n",
      "Ground state variance density: (1.6412371645763146e-08+5.567378155713065e-16j).\n",
      "Magnetization density in z-direction:1.4448373053532748e-12.\n",
      "g = 1.006:\n",
      "AL, L: Converged up to tol=1e-10. Final error after 6 iterations: 2.5084145960445413e-11.\n",
      "AR, R: Converged up to tol=1e-10. Final error after 6 iterations: 2.023802336106655e-15.\n",
      "Ground state converged up to tol=1e-10 in gradient norm. Final error after 206 iterations: 9.923543223230307e-11.\n",
      "Ground state energy density: -1.2770975272148868. \n",
      "Ground state variance density: (2.3451183460421188e-09-5.128276275856436e-17j).\n",
      "Magnetization density in z-direction:1.5342165038401134e-10.\n",
      "g = 1.01:\n",
      "AL, L: Converged up to tol=1e-10. Final error after 6 iterations: 4.34093635391509e-11.\n",
      "AR, R: Converged up to tol=1e-10. Final error after 6 iterations: 1.1949064501576499e-15.\n",
      "Ground state converged up to tol=1e-10 in gradient norm. Final error after 214 iterations: 9.68990515637692e-11.\n",
      "Ground state energy density: -1.2797037635358537. \n",
      "Ground state variance density: (7.366032991895644e-10+1.369726814609562e-15j).\n",
      "Magnetization density in z-direction:-1.1952431405726216e-10.\n",
      "g = 1.02:\n",
      "AL, L: Converged up to tol=1e-10. Final error after 6 iterations: 8.014896065051998e-12.\n",
      "AR, R: Converged up to tol=1e-10. Final error after 6 iterations: 5.535976006185535e-14.\n",
      "Ground state converged up to tol=1e-10 in gradient norm. Final error after 78 iterations: 9.187950979178014e-11.\n",
      "Ground state energy density: -1.2863187148765391. \n",
      "Ground state variance density: (7.75871034086606e-11+1.325979256949772e-16j).\n",
      "Magnetization density in z-direction:-2.570511858923652e-11.\n",
      "g = 1.03:\n",
      "AL, L: Converged up to tol=1e-10. Final error after 6 iterations: 5.837497800735827e-13.\n",
      "AR, R: Converged up to tol=1e-10. Final error after 6 iterations: 2.4573215841003887e-14.\n",
      "Ground state converged up to tol=1e-10 in gradient norm. Final error after 57 iterations: 9.590096576933419e-11.\n",
      "Ground state energy density: -1.293058040756231. \n",
      "Ground state variance density: (1.5544260323352432e-11-1.2375083596749548e-15j).\n",
      "Magnetization density in z-direction:2.616667993393662e-11.\n",
      "g = 1.04:\n",
      "AL, L: Converged up to tol=1e-10. Final error after 6 iterations: 5.983499866187325e-11.\n",
      "AR, R: Converged up to tol=1e-10. Final error after 6 iterations: 1.4687292909258273e-15.\n",
      "Ground state converged up to tol=1e-10 in gradient norm. Final error after 84 iterations: 9.837033894977994e-11.\n",
      "Ground state energy density: -1.299907354936282. \n",
      "Ground state variance density: (4.2595683924506744e-12-8.500145032286355e-16j).\n",
      "Magnetization density in z-direction:1.2919838809910544e-11.\n",
      "g = 1.05:\n",
      "AL, L: Converged up to tol=1e-10. Final error after 6 iterations: 3.6218192298431723e-12.\n",
      "AR, R: Converged up to tol=1e-10. Final error after 6 iterations: 4.0436859852874014e-14.\n",
      "Ground state converged up to tol=1e-10 in gradient norm. Final error after 262 iterations: 9.550152604268218e-11.\n",
      "Ground state energy density: -1.306856470270648. \n",
      "Ground state variance density: (1.6535141311724288e-12+4.079852775062953e-16j).\n",
      "Magnetization density in z-direction:1.1215247480711454e-12.\n",
      "g = 1.1:\n",
      "AL, L: Converged up to tol=1e-10. Final error after 6 iterations: 1.2590696963907816e-12.\n",
      "AR, R: Converged up to tol=1e-10. Final error after 6 iterations: 2.375310029635167e-15.\n",
      "Ground state converged up to tol=1e-10 in gradient norm. Final error after 50 iterations: 9.53999446087103e-11.\n",
      "Ground state energy density: -1.3428640227251194. \n",
      "Ground state variance density: (2.4945323584546486e-14+5.735429492448318e-17j).\n",
      "Magnetization density in z-direction:-1.8129941992128806e-13.\n",
      "g = 1.2:\n",
      "AL, L: Converged up to tol=1e-10. Final error after 6 iterations: 2.813266018055594e-11.\n",
      "AR, R: Converged up to tol=1e-10. Final error after 6 iterations: 1.123345430085377e-15.\n",
      "Ground state converged up to tol=1e-10 in gradient norm. Final error after 43 iterations: 9.638954210047038e-11.\n",
      "Ground state energy density: -1.4196192748982328. \n",
      "Ground state variance density: (-1.3877787807814457e-17+7.678319785542342e-16j).\n",
      "Magnetization density in z-direction:1.465841337200402e-15.\n",
      "g = 1.4:\n",
      "AL, L: Converged up to tol=1e-10. Final error after 6 iterations: 3.566700189162153e-12.\n",
      "AR, R: Converged up to tol=1e-10. Final error after 6 iterations: 1.1799076571214449e-15.\n",
      "Ground state converged up to tol=1e-10 in gradient norm. Final error after 10 iterations: 7.387267954415328e-11.\n",
      "Ground state energy density: -1.5851883000539613. \n",
      "Ground state variance density: (7.355227538141662e-16-1.9296088164810765e-16j).\n",
      "Magnetization density in z-direction:-1.1747547379314938e-14.\n",
      "g = 1.6:\n",
      "AL, L: Converged up to tol=1e-10. Final error after 6 iterations: 6.872249307729049e-15.\n",
      "AR, R: Converged up to tol=1e-10. Final error after 6 iterations: 2.6800729196638278e-15.\n",
      "Ground state converged up to tol=1e-10 in gradient norm. Final error after 5 iterations: 3.687040077675178e-11.\n",
      "Ground state energy density: -1.7605081222045882. \n",
      "Ground state variance density: (4.85722573273506e-16-4.87890977618477e-18j).\n",
      "Magnetization density in z-direction:-3.2786273695961654e-14.\n",
      "g = 1.8:\n",
      "AL, L: Converged up to tol=1e-10. Final error after 6 iterations: 3.737007559010907e-12.\n",
      "AR, R: Converged up to tol=1e-10. Final error after 6 iterations: 4.7522528432232606e-14.\n",
      "Ground state converged up to tol=1e-10 in gradient norm. Final error after 4 iterations: 9.963296453716154e-11.\n",
      "Ground state energy density: -1.9418043043913777. \n",
      "Ground state variance density: (3.1086244689504383e-15+1.2457482961858446e-16j).\n",
      "Magnetization density in z-direction:-6.779646288812557e-13.\n",
      "g = 2.0:\n",
      "AL, L: Converged up to tol=1e-10. Final error after 6 iterations: 1.6807090093759525e-11.\n",
      "AR, R: Converged up to tol=1e-10. Final error after 6 iterations: 1.7299478354302424e-15.\n",
      "Ground state converged up to tol=1e-10 in gradient norm. Final error after 4 iterations: 4.8998310794811936e-12.\n",
      "Ground state energy density: -2.127088819946726. \n",
      "Ground state variance density: (1.1102230246251565e-16-6.03900610074426e-17j).\n",
      "Magnetization density in z-direction:3.353220479063168e-14.\n"
     ]
    }
   ],
   "source": [
    "D = 30\n",
    "gs = [1.e-5, 0.2, 0.4, 0.6, 0.8, 0.9, 0.95, 0.96, 0.97, 0.98, 0.99, 0.994, 0.998,\\\n",
    "       1.002, 1.006, 1.01, 1.02, 1.03, 1.04, 1.05, 1.1, 1.2, 1.4, 1.6, 1.8, 2.0]\n",
    "szs = []\n",
    "for g in gs:\n",
    "    print(f\"g = {g}:\")\n",
    "    tfi_model = TFIModel(L=1, J=1., g=g, bc='infinite')\n",
    "    h = tfi_model.H_bonds[0]\n",
    "    guess_psi0 = UniformMPS.from_desired_bond_dimension(D)\n",
    "    _, psi0, _ = vumps_algorithm(h, guess_psi0, tol=1.e-10)\n",
    "    sz = psi0.get_site_expectation_value(tfi_model.sigmaz)\n",
    "    print(f\"Magnetization density in z-direction:{sz}.\")\n",
    "    szs.append(sz)"
   ]
  },
  {
   "cell_type": "code",
   "execution_count": 21,
   "id": "98c8f7ac",
   "metadata": {},
   "outputs": [
    {
     "data": {
      "image/png": "[encoded data removed]",
      "text/plain": [
       "<Figure size 600x400 with 1 Axes>"
      ]
     },
     "metadata": {},
     "output_type": "display_data"
    }
   ],
   "source": [
    "plt.figure(figsize=(6, 4))\n",
    "plt.title(f\"TFI VUMPS with $D={D}$\")\n",
    "plt.axvline(x=1.0, color=\"darkblue\")\n",
    "plt.plot(gs, np.abs(szs), \".-\", color=\"cornflowerblue\")\n",
    "plt.xlabel(r\"transverse field $g$\")\n",
    "plt.ylabel(r\"magnetization $\\vert \\langle \\sigma^z \\rangle \\vert$\")\n",
    "plt.show()"
   ]
  },
  {
   "cell_type": "markdown",
   "id": "0e3a7014",
   "metadata": {},
   "source": [
    "## 3) `h_utdvp.py`: Global quench dynamics"
   ]
  },
  {
   "cell_type": "code",
   "execution_count": 22,
   "id": "4302f91a",
   "metadata": {},
   "outputs": [],
   "source": [
    "from tenpy_toycodes.b_model import TFIModel\n",
    "from tenpy_toycodes.c_tebd import example_TEBD_gs_tf_ising_infinite, calc_U_bonds, update_bond\n",
    "\n",
    "from tenpy_toycodes.f_umps import UniformMPS\n",
    "from tenpy_toycodes.g_vumps import vumps_algorithm\n",
    "from tenpy_toycodes.h_utdvp import utdvp_algorithm"
   ]
  },
  {
   "cell_type": "markdown",
   "id": "54918683",
   "metadata": {},
   "source": [
    "Consider the following global quench dynamics for the TFI model: the ground state for a value $g_1$ of the transverse field is time-evolved according to a different value $g_2$,\n",
    "\n",
    "$$ \\ket{\\psi(t)} = e^{-it H(g_2)} \\ket{\\psi_0(g_1)}. $$\n",
    "\n",
    "We want to implement this time evolution using the `utdvp_algorithm`. For benchmark we use iTEBD. The `run_TEBD` function in `c_tebd.py` relies on a first order Trotter decomposition. We want to improve this to second order:\n",
    "\n",
    "$$ H = H_{\\mathrm{odd}} + H_{\\mathrm{even}} \\Rightarrow U(dt) = e^{-i dt H_{\\mathrm{odd}}/2} e^{-i dt H_{\\mathrm{even}}} e^{-i dt H_{\\mathrm{odd}}/2} + \\mathcal{O}(dt^3).$$\n",
    "\n",
    "* Implement this improved scheme in a function `run_TEBD_second_order`. \n",
    "\n",
    "* Then write a function `itebd_global_quench` performing the global quench dynamics described above. Converge the method in bond dimension $D$ and time step $dt$."
   ]
  },
  {
   "cell_type": "code",
   "execution_count": 23,
   "id": "f11ecbaa",
   "metadata": {},
   "outputs": [],
   "source": [
    "def run_TEBD_second_order(psi, U_bonds, U_bonds_half_dt, N_steps, chi_max, eps):\n",
    "    \"\"\"Evolve MPS psi for N_steps time steps with second order TEBD.\n",
    "\n",
    "    H = H_odd + H_even\n",
    "    U = exp(-i * dt * H) \\\\approx exp(-i * dt/2 * H_odd) exp(-i * dt * H_even) exp(-i* dt/2 *H_odd)\n",
    "    \"\"\"\n",
    "    Nbonds = psi.L - 1 if psi.bc == 'finite' else psi.L\n",
    "    assert len(U_bonds) == len(U_bonds_half_dt) == Nbonds\n",
    "    for i_bond in range(0, Nbonds, 2):  # odd (half)\n",
    "        update_bond(psi, i_bond, U_bonds_half_dt[i_bond], chi_max, eps)\n",
    "    for i_bond in range(1, Nbonds, 2):  # even\n",
    "        update_bond(psi, i_bond, U_bonds[i_bond], chi_max, eps)\n",
    "    for n in range(N_steps - 1):  # N_steps - 1 times odd, even \n",
    "        for k in [0, 1]:\n",
    "            for i_bond in range(k, Nbonds, 2):\n",
    "                update_bond(psi, i_bond, U_bonds[i_bond], chi_max,eps)\n",
    "    for i_bond in range(0, Nbonds, 2):  # odd (half)\n",
    "        update_bond(psi, i_bond, U_bonds_half_dt[i_bond], chi_max, eps) \n",
    "\n",
    "def itebd_global_quench(g1, g2, chi_max, dt, T):\n",
    "    \"\"\"Calculate the tfi ground state for transverse field g1 and evolve it according to different g2 \n",
    "    up to time T in steps of dt with second order iTEBD.\"\"\"\n",
    "    _, psi1, _ = example_TEBD_gs_tf_ising_infinite(g1, chi_max)\n",
    "    model2 = TFIModel(L=2, J=1., g=g2, bc=\"infinite\")\n",
    "    H_bonds = model2.H_bonds\n",
    "    U_bonds = calc_U_bonds(H_bonds, 1.j * dt)\n",
    "    U_bonds_half_dt = calc_U_bonds(H_bonds, 1.j * dt/2)\n",
    "    ts = []\n",
    "    Ss = []\n",
    "    t = 0.\n",
    "    ts.append(t)\n",
    "    Ss.append(psi1.entanglement_entropy()[1])\n",
    "    psi = psi1\n",
    "    for i in range(int(T/dt)):\n",
    "        run_TEBD_second_order(psi, U_bonds, U_bonds_half_dt, N_steps=1, chi_max=chi_max, eps=1.e-10)\n",
    "        t += dt\n",
    "        ts.append(t)\n",
    "        Ss.append(psi.entanglement_entropy()[0])     \n",
    "    return ts, Ss"
   ]
  },
  {
   "cell_type": "code",
   "execution_count": 24,
   "id": "cf2104db",
   "metadata": {},
   "outputs": [],
   "source": [
    "g1 = 3.\n",
    "g2 = 1.5\n",
    "T = 5."
   ]
  },
  {
   "cell_type": "code",
   "execution_count": 25,
   "id": "42b59161",
   "metadata": {},
   "outputs": [
    {
     "name": "stdout",
     "output_type": "stream",
     "text": [
      "infinite TEBD, imaginary time evolution, transverse field Ising\n",
      "g=3.00\n",
      "dt = 0.10000: E (per site) = -3.0722915530137\n",
      "dt = 0.01000: E (per site) = -3.0827483842174\n",
      "dt = 0.00100: E (per site) = -3.0838108901537\n",
      "dt = 0.00010: E (per site) = -3.0839168389419\n",
      "dt = 0.00001: E (per site) = -3.0839274447472\n",
      "final bond dimensions:  [10, 10]\n",
      "<sigma_x> = 0.97161\n",
      "<sigma_z> = -0.00000\n",
      "correlation length: 0.886591626230449\n",
      "Analytic result: E (per site) = -3.0839288503801\n",
      "relative error:  4.5579290330811456e-07\n",
      "infinite TEBD, imaginary time evolution, transverse field Ising\n",
      "g=3.00\n",
      "dt = 0.10000: E (per site) = -3.0722915530137\n",
      "dt = 0.01000: E (per site) = -3.0827483842174\n",
      "dt = 0.00100: E (per site) = -3.0838108901537\n",
      "dt = 0.00010: E (per site) = -3.0839168389419\n",
      "dt = 0.00001: E (per site) = -3.0839274447472\n",
      "final bond dimensions:  [11, 11]\n",
      "<sigma_x> = 0.97161\n",
      "<sigma_z> = -0.00000\n",
      "correlation length: 0.8939157106447442\n",
      "Analytic result: E (per site) = -3.0839288503801\n",
      "relative error:  4.5579290330811456e-07\n",
      "infinite TEBD, imaginary time evolution, transverse field Ising\n",
      "g=3.00\n",
      "dt = 0.10000: E (per site) = -3.0722915530137\n",
      "dt = 0.01000: E (per site) = -3.0827483842174\n",
      "dt = 0.00100: E (per site) = -3.0838108901537\n",
      "dt = 0.00010: E (per site) = -3.0839168389419\n",
      "dt = 0.00001: E (per site) = -3.0839274447472\n",
      "final bond dimensions:  [11, 11]\n",
      "<sigma_x> = 0.97161\n",
      "<sigma_z> = -0.00000\n",
      "correlation length: 0.8939157106447435\n",
      "Analytic result: E (per site) = -3.0839288503801\n",
      "relative error:  4.5579290330811456e-07\n",
      "infinite TEBD, imaginary time evolution, transverse field Ising\n",
      "g=3.00\n",
      "dt = 0.10000: E (per site) = -3.0722915530137\n",
      "dt = 0.01000: E (per site) = -3.0827483842174\n",
      "dt = 0.00100: E (per site) = -3.0838108901537\n",
      "dt = 0.00010: E (per site) = -3.0839168389419\n",
      "dt = 0.00001: E (per site) = -3.0839274447472\n",
      "final bond dimensions:  [10, 10]\n",
      "<sigma_x> = 0.97161\n",
      "<sigma_z> = -0.00000\n",
      "correlation length: 0.8865916262304465\n",
      "Analytic result: E (per site) = -3.0839288503801\n",
      "relative error:  4.5579290330811456e-07\n",
      "infinite TEBD, imaginary time evolution, transverse field Ising\n",
      "g=3.00\n",
      "dt = 0.10000: E (per site) = -3.0722915530137\n",
      "dt = 0.01000: E (per site) = -3.0827483842174\n",
      "dt = 0.00100: E (per site) = -3.0838108901537\n",
      "dt = 0.00010: E (per site) = -3.0839168389419\n",
      "dt = 0.00001: E (per site) = -3.0839274447472\n",
      "final bond dimensions:  [11, 11]\n",
      "<sigma_x> = 0.97161\n",
      "<sigma_z> = -0.00000\n",
      "correlation length: 0.8939157106447669\n",
      "Analytic result: E (per site) = -3.0839288503801\n",
      "relative error:  4.5579290330811456e-07\n",
      "infinite TEBD, imaginary time evolution, transverse field Ising\n",
      "g=3.00\n",
      "dt = 0.10000: E (per site) = -3.0722915530137\n",
      "dt = 0.01000: E (per site) = -3.0827483842174\n",
      "dt = 0.00100: E (per site) = -3.0838108901537\n",
      "dt = 0.00010: E (per site) = -3.0839168389419\n",
      "dt = 0.00001: E (per site) = -3.0839274447472\n",
      "final bond dimensions:  [11, 11]\n",
      "<sigma_x> = 0.97161\n",
      "<sigma_z> = -0.00000\n",
      "correlation length: 0.8939157106447387\n",
      "Analytic result: E (per site) = -3.0839288503801\n",
      "relative error:  4.5579290330811456e-07\n",
      "infinite TEBD, imaginary time evolution, transverse field Ising\n",
      "g=3.00\n",
      "dt = 0.10000: E (per site) = -3.0722915530137\n",
      "dt = 0.01000: E (per site) = -3.0827483842174\n",
      "dt = 0.00100: E (per site) = -3.0838108901537\n",
      "dt = 0.00010: E (per site) = -3.0839168389419\n",
      "dt = 0.00001: E (per site) = -3.0839274447472\n",
      "final bond dimensions:  [10, 10]\n",
      "<sigma_x> = 0.97161\n",
      "<sigma_z> = -0.00000\n",
      "correlation length: 0.8865916262304483\n",
      "Analytic result: E (per site) = -3.0839288503801\n",
      "relative error:  4.5579290330811456e-07\n",
      "infinite TEBD, imaginary time evolution, transverse field Ising\n",
      "g=3.00\n",
      "dt = 0.10000: E (per site) = -3.0722915530137\n",
      "dt = 0.01000: E (per site) = -3.0827483842174\n",
      "dt = 0.00100: E (per site) = -3.0838108901537\n",
      "dt = 0.00010: E (per site) = -3.0839168389419\n",
      "dt = 0.00001: E (per site) = -3.0839274447472\n",
      "final bond dimensions:  [11, 11]\n",
      "<sigma_x> = 0.97161\n",
      "<sigma_z> = -0.00000\n",
      "correlation length: 0.8939157106447684\n",
      "Analytic result: E (per site) = -3.0839288503801\n",
      "relative error:  4.5579290330811456e-07\n",
      "infinite TEBD, imaginary time evolution, transverse field Ising\n",
      "g=3.00\n",
      "dt = 0.10000: E (per site) = -3.0722915530137\n",
      "dt = 0.01000: E (per site) = -3.0827483842174\n",
      "dt = 0.00100: E (per site) = -3.0838108901537\n",
      "dt = 0.00010: E (per site) = -3.0839168389419\n",
      "dt = 0.00001: E (per site) = -3.0839274447472\n",
      "final bond dimensions:  [11, 11]\n",
      "<sigma_x> = 0.97161\n",
      "<sigma_z> = -0.00000\n",
      "correlation length: 0.8939157106447557\n",
      "Analytic result: E (per site) = -3.0839288503801\n",
      "relative error:  4.5579290330811456e-07\n"
     ]
    },
    {
     "data": {
      "image/png": "[encoded data removed]",
      "text/plain": [
       "<Figure size 600x400 with 1 Axes>"
      ]
     },
     "metadata": {},
     "output_type": "display_data"
    }
   ],
   "source": [
    "plt.figure(figsize=(6, 4))\n",
    "plt.title(f\"TFI global quench with $g_2={g2}$ on GS of $g_1={g1}$ (iTEBD)\")\n",
    "plt.xlabel('time $t$')\n",
    "plt.ylabel('entanglement entropy')\n",
    "for dt in [0.1, 0.01, 0.001]:\n",
    "    for D in [10, 20, 30]:\n",
    "        ts_itebd, Ss_itebd = itebd_global_quench(g1, g2, D, dt, T)\n",
    "        plt.plot(ts_itebd, Ss_itebd, label=f\"D={D}, dt={dt}\")\n",
    "plt.legend(loc='center left', bbox_to_anchor=(1, 0.5))\n",
    "plt.show()"
   ]
  },
  {
   "cell_type": "markdown",
   "id": "ca455bc2",
   "metadata": {},
   "source": [
    "* Analogous to `itebd_global_quench`, write a function `utdvp_global_quench` and make sure they give the same dynamics."
   ]
  },
  {
   "cell_type": "code",
   "execution_count": 26,
   "id": "1a931017",
   "metadata": {},
   "outputs": [],
   "source": [
    "def utdvp_global_quench(g1, g2, D, dt, T):\n",
    "    \"\"\"Calculate the tfi ground state for transverse field g1 and evolve it according to different g2 \n",
    "    up to time T in steps of dt with uTDVP.\"\"\"\n",
    "    h1 = TFIModel(L=1, J=1., g=g1, bc=\"infinite\").H_bonds[0]\n",
    "    h2 = TFIModel(L=1, J=1., g=g2, bc=\"infinite\").H_bonds[0]\n",
    "    guess_psi1 = UniformMPS.from_desired_bond_dimension(D)\n",
    "    _, psi1, _ = vumps_algorithm(h1, guess_psi1, tol=1.e-10)\n",
    "    ts, Ss = utdvp_algorithm(psi1, h2, dt, T)\n",
    "    return ts, Ss"
   ]
  },
  {
   "cell_type": "code",
   "execution_count": 27,
   "id": "ce3852b8",
   "metadata": {},
   "outputs": [],
   "source": [
    "g1 = 3.\n",
    "g2 = 1.5\n",
    "D = 30\n",
    "T = 5.\n",
    "dt = 0.01"
   ]
  },
  {
   "cell_type": "code",
   "execution_count": 28,
   "id": "f83d2d6a",
   "metadata": {},
   "outputs": [
    {
     "name": "stdout",
     "output_type": "stream",
     "text": [
      "infinite TEBD, imaginary time evolution, transverse field Ising\n",
      "g=3.00\n",
      "dt = 0.10000: E (per site) = -3.0722915530137\n",
      "dt = 0.01000: E (per site) = -3.0827483842174\n",
      "dt = 0.00100: E (per site) = -3.0838108901537\n",
      "dt = 0.00010: E (per site) = -3.0839168389419\n",
      "dt = 0.00001: E (per site) = -3.0839274447472\n",
      "final bond dimensions:  [11, 11]\n",
      "<sigma_x> = 0.97161\n",
      "<sigma_z> = -0.00000\n",
      "correlation length: 0.8939157106447625\n",
      "Analytic result: E (per site) = -3.0839288503801\n",
      "relative error:  4.5579290330811456e-07\n",
      "AL, L: Converged up to tol=1e-10. Final error after 7 iterations: 1.95876806310219e-15.\n",
      "AR, R: Converged up to tol=1e-10. Final error after 6 iterations: 1.0777613894887135e-13.\n",
      "Ground state converged up to tol=1e-10 in gradient norm. Final error after 4 iterations: 8.49770650224461e-13.\n",
      "Ground state energy density: -3.0839288503800795. \n",
      "Ground state variance density: (2.914335439641036e-16+5.54867566823769e-16j).\n"
     ]
    }
   ],
   "source": [
    "ts_itebd, Ss_itebd = itebd_global_quench(g1, g2, D, dt, T)\n",
    "ts_utdvp, Ss_utdvp = utdvp_global_quench(g1, g2, D, dt, T)"
   ]
  },
  {
   "cell_type": "code",
   "execution_count": 29,
   "id": "da6c5b10",
   "metadata": {},
   "outputs": [
    {
     "data": {
      "image/png": "[encoded data removed]",
      "text/plain": [
       "<Figure size 600x400 with 1 Axes>"
      ]
     },
     "metadata": {},
     "output_type": "display_data"
    }
   ],
   "source": [
    "plt.figure(figsize=(6, 4))\n",
    "plt.title(f\"TFI global quench with $g_2={g2}$ on GS of $g_1={g1}$\")\n",
    "plt.xlabel('time $t$')\n",
    "plt.ylabel('entanglement entropy')\n",
    "plt.plot(ts_itebd, Ss_itebd, label=f\"iTEBD, D={D}, dt={dt}\")\n",
    "plt.plot(ts_utdvp, Ss_utdvp, label=f\"uTDVP, D={D}, dt={dt}\")\n",
    "plt.legend(loc='center left', bbox_to_anchor=(1, 0.5))\n",
    "plt.show()"
   ]
  },
  {
   "cell_type": "markdown",
   "id": "2fa12d56",
   "metadata": {},
   "source": [
    "## 4) `i_uexcitations.py`: Variational plane wave excitations "
   ]
  },
  {
   "cell_type": "code",
   "execution_count": 30,
   "id": "52f91fbc",
   "metadata": {},
   "outputs": [],
   "source": [
    "from tenpy_toycodes.tfi_exact import infinite_gs_energy, infinite_excitation_dispersion\n",
    "from tenpy_toycodes.b_model import TFIModel\n",
    "\n",
    "from tenpy_toycodes.f_umps import UniformMPS\n",
    "from tenpy_toycodes.g_vumps import vumps_algorithm\n",
    "from tenpy_toycodes.i_uexcitations import VariationalPlaneWaveExcitationEngine"
   ]
  },
  {
   "cell_type": "markdown",
   "id": "35223575",
   "metadata": {},
   "source": [
    "By running the `VariationalPlaneWaveExcitationEngine`, we want to compute the single particle excitations $\\epsilon_p = 2 \\sqrt{1 - 2g\\cos(p) + g^2}$ on top of the TFI ground state.\n",
    "\n",
    "* For this write a function `get_tfi_spectrum`, returning both the variational dispersion relation and the exact one from `tfi_exact.py`. Actively target topological domain wall excitations for transverse field values $g < 1$."
   ]
  },
  {
   "cell_type": "code",
   "execution_count": 31,
   "id": "c636f31e",
   "metadata": {},
   "outputs": [],
   "source": [
    "def get_tfi_spectrum(g, D):\n",
    "    print(f\"g = {g:.1f}, D = {D}:\")\n",
    "    # exact analytical solution\n",
    "    e0_exact = infinite_gs_energy(J=1., g=g)\n",
    "    print(f\"e0_exact = {e0_exact}.\")\n",
    "    ps_exact, es_exact = infinite_excitation_dispersion(J=1., g=g)\n",
    "    # vumps and variational plane wave excitations\n",
    "    h = TFIModel(L=1, J=1., g=g, bc='infinite').H_bonds[0]\n",
    "    guess_psi0 = UniformMPS.from_desired_bond_dimension(D)\n",
    "    e0, psi0, _ = vumps_algorithm(h, guess_psi0, tol=1.e-8)\n",
    "    print(f\"|e0_exact - e0| = {np.abs(e0_exact - e0)}\")\n",
    "    ps = list(np.arange(-np.pi, 0, np.pi/10)) + [0] + list(np.arange(0, np.pi + np.pi/10, np.pi/10))\n",
    "    if g >= 1.:  # paramagnetic phase (single spin flip excitations) and critical point (gapless excitation)\n",
    "        es = []\n",
    "        for p in ps:\n",
    "            excitation_engine = VariationalPlaneWaveExcitationEngine(psi0, h, p, k=1, tol=1.e-8)\n",
    "            e, _ = excitation_engine.run()\n",
    "            es.append(e)\n",
    "        return ps_exact, es_exact, ps, es\n",
    "    elif 0 <= g < 1:  # ferromagnetic phase (topological domain wall excitations)\n",
    "        sigma_z = TFIModel(L=1, J=1., g=g, bc='infinite').sigmaz\n",
    "        sz = psi0.get_site_expectation_value(sigma_z)\n",
    "        for i in range(100):\n",
    "            guess_psi0_tilde = UniformMPS.from_desired_bond_dimension(D)\n",
    "            _, psi0_tilde, _ = vumps_algorithm(h, guess_psi0_tilde, tol=1.e-8)\n",
    "            sz_tilde = psi0_tilde.get_site_expectation_value(sigma_z)\n",
    "            if np.abs(sz + sz_tilde) < 1.e-5:\n",
    "                print(f\"Found sz={sz} and sz_tilde={sz_tilde} after {i+2} ground state searchs.\")\n",
    "                es = []\n",
    "                for p in ps:\n",
    "                    excitation_engine = VariationalPlaneWaveExcitationEngine(psi0, h, p, k=1, tol=1.e-8, \\\n",
    "                                                                             psi0_tilde=psi0_tilde)\n",
    "                    e, _ = excitation_engine.run()\n",
    "                    es.append(e)\n",
    "                return ps_exact, es_exact, ps, es  "
   ]
  },
  {
   "cell_type": "code",
   "execution_count": 32,
   "id": "e347e1d3",
   "metadata": {},
   "outputs": [
    {
     "name": "stdout",
     "output_type": "stream",
     "text": [
      "g = 1.5, D = 30:\n",
      "e0_exact = -1.6719262215361952.\n",
      "AL, L: Converged up to tol=1e-10. Final error after 6 iterations: 3.7580419271960215e-12.\n",
      "AR, R: Converged up to tol=1e-10. Final error after 6 iterations: 1.6528172145347115e-14.\n",
      "Ground state converged up to tol=1e-08 in gradient norm. Final error after 4 iterations: 9.436146482556066e-10.\n",
      "Ground state energy density: -1.6719262215361583. \n",
      "Ground state variance density: (-1.1309009284588001e-13+1.1362438767648086e-16j).\n",
      "|e0_exact - e0| = 3.68594044175552e-14\n",
      "g = 1.0, D = 30:\n",
      "e0_exact = -1.2732395447351625.\n",
      "AL, L: Converged up to tol=1e-10. Final error after 6 iterations: 2.1494092606151008e-12.\n",
      "AR, R: Converged up to tol=1e-10. Final error after 6 iterations: 8.664136591177918e-14.\n",
      "Ground state converged up to tol=1e-08 in gradient norm. Final error after 78 iterations: 9.756078213175177e-09.\n",
      "Ground state energy density: -1.2732395297253856. \n",
      "Ground state variance density: (2.324090800712164e-08-3.0986498089635717e-16j).\n",
      "|e0_exact - e0| = 1.5009776976881994e-08\n",
      "g = 0.5, D = 30:\n",
      "e0_exact = -1.0635444099733717.\n",
      "AL, L: Converged up to tol=1e-10. Final error after 6 iterations: 5.681150861122748e-11.\n",
      "AR, R: Converged up to tol=1e-10. Final error after 6 iterations: 6.0814530382689675e-15.\n",
      "Ground state converged up to tol=1e-08 in gradient norm. Final error after 3 iterations: 1.1956863709309064e-10.\n",
      "Ground state energy density: -1.0635444099741114. \n",
      "Ground state variance density: (1.4543425057994552e-12+3.024415841466205e-17j).\n",
      "|e0_exact - e0| = 7.396305790052793e-13\n",
      "AL, L: Converged up to tol=1e-10. Final error after 7 iterations: 1.3060251169798095e-15.\n",
      "AR, R: Converged up to tol=1e-10. Final error after 6 iterations: 9.791169366217486e-15.\n",
      "Ground state converged up to tol=1e-08 in gradient norm. Final error after 3 iterations: 8.1561547519195e-10.\n",
      "Ground state energy density: -1.063544409972241. \n",
      "Ground state variance density: (-1.8146433791374483e-12-1.3477988256710427e-17j).\n",
      "Found sz=-0.9646786299605115 and sz_tilde=0.9646786299566219 after 2 ground state searchs.\n"
     ]
    }
   ],
   "source": [
    "D = 30\n",
    "ps_exact, es_exact_para, ps, es_para = get_tfi_spectrum(g=1.5, D=D)\n",
    "_, es_exact_crit, _, es_crit = get_tfi_spectrum(g=1.0, D=D)\n",
    "_, es_exact_ferro, _, es_ferro = get_tfi_spectrum(g=0.5, D=D)"
   ]
  },
  {
   "cell_type": "code",
   "execution_count": 33,
   "id": "e212551e",
   "metadata": {},
   "outputs": [
    {
     "data": {
      "image/png": "[encoded data removed]",
      "text/plain": [
       "<Figure size 600x400 with 1 Axes>"
      ]
     },
     "metadata": {},
     "output_type": "display_data"
    }
   ],
   "source": [
    "plt.figure(figsize=(6, 4))\n",
    "plt.title(r\"TFI excitations $\\epsilon_p = 2 \\sqrt{g^2 - 2Jg\\cos(p) + J^2}$\")\n",
    "plt.xticks(np.arange(-np.pi, 3*np.pi/2, np.pi/2),[r\"$-\\pi$\",r\"$-\\pi /2$\", r\"$0$\", r\"$\\pi /2$\",r\"$\\pi$\"])\n",
    "plt.axhline(y=0., color=\"black\")\n",
    "plt.plot(ps_exact, es_exact_para, color=\"lightskyblue\")\n",
    "plt.plot(ps, es_para, \".\", color=\"blue\", label=r\"$g = 1.5$\")\n",
    "plt.plot(ps_exact, es_exact_crit, color=\"lightcoral\")\n",
    "plt.plot(ps, es_crit, \".\", color=\"darkred\", label=r\"$g = 1.0$\")\n",
    "plt.plot(ps_exact, es_exact_ferro, color=\"lightgreen\")\n",
    "plt.plot(ps, es_ferro, \".\", color=\"green\", label=r\"$g = 0.5$\")\n",
    "plt.xlabel(r\"$p$\")\n",
    "plt.ylabel(r\"$\\epsilon_p$\")\n",
    "plt.legend(title=f\"Variationally with $D = {D}$\", loc='center left', bbox_to_anchor=(1, 0.85))\n",
    "plt.show()"
   ]
  }
 ],
 "metadata": {
  "kernelspec": {
   "display_name": "Python 3",
   "language": "python",
   "name": "python3"
  },
  "language_info": {
   "codemirror_mode": {
    "name": "ipython",
    "version": 3
   },
   "file_extension": ".py",
   "mimetype": "text/x-python",
   "name": "python",
   "nbconvert_exporter": "python",
   "pygments_lexer": "ipython3",
   "version": "3.12.7"
  }
 },
 "nbformat": 4,
 "nbformat_minor": 5
}
