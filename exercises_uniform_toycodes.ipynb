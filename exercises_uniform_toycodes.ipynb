{
 "cells": [
  {
   "cell_type": "markdown",
   "id": "20664216",
   "metadata": {},
   "source": [
    "# Uniform matrix product states in the thermodynamic limit - Exercises"
   ]
  },
  {
   "cell_type": "markdown",
   "id": "facc4197",
   "metadata": {},
   "source": [
    "Closely following [1], we want to numerically investigate uniform matrix product states (uMPS) in the thermodynamic limit, importing the modules `f_umps.py`, `g_vumps.py`, `h_utdvp.py` and `i_uexcitations.py`. \n",
    "\n",
    "#### Part 1) Injectivity and canonical form in `f_umps.py`\n",
    "A uMPS $\\vert \\psi(A) \\rangle$ represents a translation invariant state of an infinite chain of $d$-dimensional quantum systems and is completely characterized by a single tensor $A \\in \\mathbb{C}^{D \\times d \\times D}$ of physical dimension $d$ and bond dimension $D$: \n",
    "    $$ \\vert \\psi(A) \\rangle = \\sum_{\\{s\\}} \\langle v_L \\vert \\left(\\prod_{n \\in \\mathbb{Z}} A^{s_n}\\right) \\vert v_R \\rangle \\vert \\{s\\} \\rangle.$$\n",
    "A crucial condition for efficient computations is injectivity of $A$, meaning that counting algebraic multiplicities, the transfer matrix\n",
    "    $$T_A = \\sum_{s=1}^d A^s \\otimes \\overline{A_s}$$\n",
    "has only one eigenvalue of magnitude (and value) 1 and the corresponding right and left eigenvectors are positive definite matrices [2, 3]. Non-injective tensors appear with measure zero. In 1.1) we want to show that a randomly drawn tensor is indeed injective. Within the gauge freedom $A^s \\rightarrow XA^sX^{-1}$ for invertible $X$, we can bring a uMPS in canonical form \n",
    "    $$ \\vert \\psi(A) \\rangle = \\sum_{\\{s\\}} \\cdot\\cdot\\cdot A_L^{s_{n-2}}A_L^{s_{n-1}}A_C^{s_n}A_R^{s_{n+1}}A_R^{s_{n+2}} \\cdot\\cdot\\cdot \\vert \\{s\\} \\rangle,$$\n",
    "with left/right orthonormal tensors $A_L$/$A_R$ (injective with left/right leading eigenvector equal to identity matrix) and center site tensor $A_C = A_L C = C A_R$ for some center matrix $C$. These 4 tensors are the central attributes of the `UniformMPS` class. As a first physically meaningful and exactly representable uMPS, we consider the AKLT state and justify a few of its properties in 1.2). In 1.3) we make clear under which conditions a `UniformMPS` instance and a `SimpleMPS(bc=\"infinite\")` instance (implemented in `a_mps.py`) can be converted into each other.\n",
    "\n",
    "<br>\n",
    "\n",
    "We then investigate the variational power of the set of uMPS with a given bond dimension $D$, forming a manifold within the full Hilbert space. An element of the tangent space at point $\\vert \\psi(A) \\rangle$ in this manifold reads\n",
    "    $$ \\vert \\psi(B; A) \\rangle = \\sum_n \\sum_{\\{s\\}} \\cdot\\cdot\\cdot A_L^{s_{n-2}}A_L^{s_{n-1}}B^{s_n}A_R^{s_{n+1}}A_R^{s_{n+2}} \\cdot\\cdot\\cdot \\vert \\{s\\} \\rangle,$$\n",
    "and we denote the projector onto the (orthogonal) tangent space with $T_A$. For Hamiltonians $H = \\sum_n h_{n, n+1}$ with nearest-neighbor interaction $h \\in \\mathbb{C}^{d^2 \\times d^2}$, we run the following algorithms:\n",
    "\n",
    "#### Part 2) Variational uniform matrix product states (VUMPS) in `g_vumps.py`  \n",
    "The tangent space gradient reads \n",
    "    $$P_A H \\vert \\psi(A) \\rangle = \\vert \\psi(G; A)\\rangle \\:\\:\\mathrm{with}\\:\\: G = H_{\\mathrm{eff},1}(A_C) - A_L H_{\\mathrm{eff},0}(C) = H_{\\mathrm{eff},1}(A_C) - H_{\\mathrm{eff},0}(C) A_R.$$ \n",
    "The variational ground state optimum (corresponding to $G=0$) in the uMPS manifold satisfies a) $A_C$ ground state of $H_{\\mathrm{eff},1}$, b) $C$ ground state of $H_{\\mathrm{eff},0}$, c) $A_C = A_L C = C A_R$. For this perform the following updates till convergence in gradient norm: \n",
    "a) $A_C$ $\\rightarrow$ ground state of $H_{\\mathrm{eff},1}$, b) $C$ $\\rightarrow$ ground state of $H_{\\mathrm{eff},0}$, c) $A_L$/$A_R$ from left/right polar decompositions of $A_C$ and $C$. [1] <br>\n",
    ">> Note that in contrast to iDMRG (implemented in `d_dmrg.py`), which successively grows the lattice by updated unit cells, VUMPS truly solves the variational problem in the sense of completely updating the state with each iteration and consequently keeping the translation invariance at any time. [4] \n",
    "\n",
    "#### Part 3) Uniform time dependent variational principle (uTDVP) in `h_utdvp.py`\n",
    "Approximately solves \n",
    "    $$\\frac{d}{dt} \\vert \\psi(A) \\rangle = -i P_A H \\vert \\psi(A) \\rangle$$\n",
    "for a small time step $dt$ by a) $A_C \\rightarrow e^{-idtH_{\\mathrm{eff},1}}(A_C)$, b) $C \\rightarrow e^{-idtH_{\\mathrm{eff},0}}(C)$, c) $A_L$/$A_R$ from left/right polar decompositions of $A_C$ and $C$. [1]\n",
    "\n",
    "#### Part 4) Variational plane wave excitations in `i_uexcitations.py`\n",
    "On top of a uMPS ground state $\\vert \\psi(A) \\rangle$, we want to variationally find quasiparticle excitations in a plane wave superposition of the form\n",
    "    $$ \\vert \\psi(p,X; A) \\rangle = \\sum_n e^{ipn} \\sum_{\\{s\\}} \\cdot\\cdot\\cdot A_L^{s_{n-2}}A_L^{s_{n-1}}(V_L^{s_n}X)A_R^{s_{n+1}}A_R^{s_{n+2}} \\cdot\\cdot\\cdot \\vert \\{s\\} \\rangle,$$\n",
    "where $p$ is the momentum, and $X$ the left-gauge parametrization of the tensor $B = V_L X$ ($V_L$ is orthogonal to $A_L$), perturbing the ground state around site $n$. With \n",
    "    $$\\langle \\psi(p',X'; A) \\vert H \\vert \\psi(p,X; A) \\rangle = 2\\pi \\delta(p'-p)\\langle X' \\vert H_{\\mathrm{eff}}(p) \\vert X \\rangle,$$\n",
    "the optimization boils down to diagonalizing $H_{\\mathrm{eff}}(p)$ for a few lowest-lying eigenvalues. [1, 5]\n",
    "\n",
    "We benchmark our algorithms with the transverse field Ising (TFI) model, which can be diagonalized analytically in one dimension. [6]\n",
    "\n",
    "<br>\n",
    "\n",
    "__References__ <br>\n",
    "\n",
    "[1] Vanderstraeten et al., Tangent-space methods for uniform matrix product states, 2019, https://arxiv.org/abs/1810.07006. <br>\n",
    "[2] Perez-Garcia et al., Matrix product state representations, 2007, https://arxiv.org/abs/quant-ph/0608197. <br>\n",
    "[3] Wolf, Quantum Channels and Operations - Guided Tour, 2012, https://mediatum.ub.tum.de/node?id=1701036. <br>\n",
    "[4] Zauner-Stauber et al., Variational optimization algorithms for uniform matrix product states, 2018, https://arxiv.org/abs/1701.07035. <br>\n",
    "[5] Haegeman et al., Variational matrix product ansatz for dispersion relations, 2012, https://arxiv.org/abs/1103.2286. <br>\n",
    "[6] Subir Sachdev, Quantum Phase Transitions, 2nd ed, Cambridge University Press, 2011."
   ]
  },
  {
   "cell_type": "code",
   "execution_count": null,
   "id": "2a6affc1",
   "metadata": {},
   "outputs": [],
   "source": [
    "import numpy as np\n",
    "import matplotlib.pyplot as plt"
   ]
  },
  {
   "cell_type": "markdown",
   "id": "c1b9c9cf",
   "metadata": {},
   "source": [
    "## 1) `f_umps.py`: Random states and AKLT ground state"
   ]
  },
  {
   "cell_type": "code",
   "execution_count": null,
   "id": "e807aedc",
   "metadata": {},
   "outputs": [],
   "source": [
    "from tenpy_toycodes.f_umps import UniformMPS, TransferMatrix\n",
    "from tenpy_toycodes.a_mps import SimpleMPS"
   ]
  },
  {
   "cell_type": "markdown",
   "id": "4e071fef",
   "metadata": {},
   "source": [
    "### 1.1) Transfer matrix and canonical form of random injective tensor"
   ]
  },
  {
   "cell_type": "markdown",
   "id": "e0be6b6f",
   "metadata": {},
   "source": [
    "* Create a random tensor $A \\in \\mathbb{C}^{D \\times d \\times D}$ of physical dimension $d = 2$ and bond dimension $D = 4$."
   ]
  },
  {
   "cell_type": "code",
   "execution_count": null,
   "id": "ecebc5d6",
   "metadata": {},
   "outputs": [],
   "source": []
  },
  {
   "cell_type": "markdown",
   "id": "ae5eb45e",
   "metadata": {},
   "source": [
    "* Show that $A$ is injective, i.e. its `TransferMatrix` fulfills $T_A = \\vert R \\rangle \\langle L \\vert + \\mathcal{O}(\\vert \\lambda_2 \\vert)$ with $\\vert \\lambda_2 \\vert < 1$ and $R,L > 0$."
   ]
  },
  {
   "cell_type": "code",
   "execution_count": null,
   "id": "b163994a",
   "metadata": {},
   "outputs": [],
   "source": []
  },
  {
   "cell_type": "markdown",
   "id": "8e7a5f93",
   "metadata": {},
   "source": [
    "* Compute the canonical form of $A$, consisting of left/right orthonormal tensor $A_L / A_R$, center site tensor $A_C$, and center matrix $C$."
   ]
  },
  {
   "cell_type": "code",
   "execution_count": null,
   "id": "3e008d59",
   "metadata": {},
   "outputs": [],
   "source": []
  },
  {
   "cell_type": "markdown",
   "id": "a7398c6d",
   "metadata": {},
   "source": [
    "* Show that $T_{A_L} = \\vert R \\rangle \\langle \\mathbb{1} \\vert + \\mathcal{O}(\\vert \\lambda_2 \\vert)$ with $\\vert \\lambda_2 \\vert < 1$ and $R > 0$."
   ]
  },
  {
   "cell_type": "code",
   "execution_count": null,
   "id": "e951a918",
   "metadata": {},
   "outputs": [],
   "source": []
  },
  {
   "cell_type": "markdown",
   "id": "714e5c0b",
   "metadata": {},
   "source": [
    "* Show that $T_{A_R} = \\vert \\mathbb{1} \\rangle \\langle L \\vert + \\mathcal{O}(\\vert \\lambda_2 \\vert)$ with $\\vert \\lambda_2 \\vert < 1$ and $L > 0$."
   ]
  },
  {
   "cell_type": "code",
   "execution_count": null,
   "id": "84aa068a",
   "metadata": {},
   "outputs": [],
   "source": []
  },
  {
   "cell_type": "markdown",
   "id": "3fb68aaf",
   "metadata": {},
   "source": [
    "* Show that $A_C = A_L C = C A_R$."
   ]
  },
  {
   "cell_type": "code",
   "execution_count": null,
   "id": "d1f37696",
   "metadata": {},
   "outputs": [],
   "source": []
  },
  {
   "cell_type": "markdown",
   "id": "53fe5435",
   "metadata": {},
   "source": [
    "* Directly create a random `UniformMPS` (for different tolerances) and test its canonical form."
   ]
  },
  {
   "cell_type": "code",
   "execution_count": null,
   "id": "a06ed868",
   "metadata": {},
   "outputs": [],
   "source": []
  },
  {
   "cell_type": "markdown",
   "id": "a81f992c",
   "metadata": {},
   "source": [
    "### 1.2) AKLT state"
   ]
  },
  {
   "cell_type": "markdown",
   "id": "134b43b2",
   "metadata": {},
   "source": [
    "For the spin-1 matrices $S_x$, $S_y$ and $S_z$, we consider the two-site Hamiltonian matrix \n",
    "\n",
    "$$h = S_x \\otimes S_x + S_y \\otimes S_y + S_z \\otimes S_z + \\frac{1}{3}(S_x \\otimes S_x + S_y \\otimes S_y + S_z \\otimes S_z)^2 = 2P_{S=2}-2/3.$$\n",
    "\n",
    "The Hamiltonian for multiple sites then simply reads $H = \\sum_{n} h_{n, n+1}$. The eigenenergy is minimized (with a value of $-2/3$), if every bond has total spin $S = 0$ or $S = 1$. This is fulfilled by distributing spin-1/2 singlets between all neighbor-sites and projecting every site onto the $S = 1$ subspace. This is the AKLT state $\\vert \\psi_{\\mathrm{AKLT}} \\rangle$. A few lines derivation shows that it can be represented exactly by a uMPS $\\vert \\psi(A) \\rangle$ with left orthonormal tensor\n",
    "\n",
    "$$ A_L^{+1} = \\sqrt{\\frac{2}{3}}\\sigma^{+}, A_L^{0} = \\sqrt{\\frac{1}{3}}\\sigma^{z}, A_L^{-1} = -\\sqrt{\\frac{2}{3}}\\sigma^{-}. $$\n",
    "\n",
    "* Implement $h, h^2 \\in \\mathbb{C}^{3 \\times 3 \\times 3 \\times 3}$."
   ]
  },
  {
   "cell_type": "code",
   "execution_count": null,
   "id": "b7999d07",
   "metadata": {},
   "outputs": [],
   "source": []
  },
  {
   "cell_type": "markdown",
   "id": "b9317ef5",
   "metadata": {},
   "source": [
    "* Bring the above defined $A_L$ into canonical form and initialize $\\vert \\psi_{\\mathrm{AKLT}} \\rangle$ as a `UniformMPS`."
   ]
  },
  {
   "cell_type": "code",
   "execution_count": null,
   "id": "c479d341",
   "metadata": {},
   "outputs": [],
   "source": []
  },
  {
   "cell_type": "markdown",
   "id": "1b39fe00",
   "metadata": {},
   "source": [
    "Show the following properties of $\\vert \\psi_{\\mathrm{AKLT}} \\rangle$: \n",
    "* Ground state energy $e = \\langle h \\rangle = -2/3$, \n",
    "\n",
    "* Variance $\\langle h^2 \\rangle - \\langle h \\rangle^2 = 0$ (H is frustration free),\n",
    "\n",
    "* Entanglement entropy $S = \\ln(2) \\approx 0.6931471805599453$,\n",
    "\n",
    "* Correlation length $\\xi = -1/\\ln(\\vert \\lambda_2 \\vert) = -1/\\ln(1/3) = 1/\\ln 3 \\approx 0.9102392266268371$,\n",
    "\n",
    "* Connected correlation function $C(n) = \\langle S_z^0 S_z^n \\rangle - \\langle S_z \\rangle^2 \\rightarrow \\vert \\lambda_2 \\vert^{n-1}$."
   ]
  },
  {
   "cell_type": "code",
   "execution_count": null,
   "id": "9f462402",
   "metadata": {},
   "outputs": [],
   "source": []
  },
  {
   "cell_type": "markdown",
   "id": "b8a1c634",
   "metadata": {},
   "source": [
    "### 1.3) Conversions between uniform MPS and infinite MPS"
   ]
  },
  {
   "cell_type": "markdown",
   "id": "e778228e",
   "metadata": {},
   "source": [
    "* Convert the `UniformMPS` (uMPS) $\\vert \\psi_{\\mathrm{AKLT}} \\rangle$ to a `SimpleMPS(bc=\"infinite\")` (iMPS) and recheck the values of $e$, $S$, $\\xi$."
   ]
  },
  {
   "cell_type": "code",
   "execution_count": null,
   "id": "249303f7",
   "metadata": {},
   "outputs": [],
   "source": []
  },
  {
   "cell_type": "markdown",
   "id": "976073bf",
   "metadata": {},
   "source": [
    "* Denote by $B \\in \\mathbb{C}^{2 \\times 3 \\times 2}$ the right canonical tensor of $\\vert \\psi_{\\mathrm{AKLT}} \\rangle$ and by $U \\in \\mathbb{C}^{2 \\times 2}$ a random unitary. Show that the iMPS $\\vert\\psi(B_1, B_2)\\rangle$ with $B_1 = BU$ and $B_2 = U^*B$ is translation invariant and can be converted to a uMPS. Check that this is still the AKLT state."
   ]
  },
  {
   "cell_type": "code",
   "execution_count": null,
   "id": "a47a7ad6",
   "metadata": {},
   "outputs": [],
   "source": []
  },
  {
   "cell_type": "markdown",
   "id": "507d3d45",
   "metadata": {},
   "source": [
    "* For random right canonical tensors $B_1 \\in \\mathbb{C}^{D \\times d \\times D}$ and $B_2 \\in \\mathbb{C}^{D \\times d \\times D}$, show that the iMPS $\\vert\\psi(B_1, B_2)\\rangle$ is in general not translation invariant and cannot be converted to a uMPS."
   ]
  },
  {
   "cell_type": "code",
   "execution_count": null,
   "id": "d11ad991",
   "metadata": {},
   "outputs": [],
   "source": []
  },
  {
   "cell_type": "markdown",
   "id": "51271c16",
   "metadata": {},
   "source": [
    "## Transverse field Ising model\n",
    "\n",
    "In the following we want to use uMPS methods to find the ground state, elementary excitations and time-evolved states of the transverse field Ising (TFI) model \n",
    "\n",
    "$$ H = -J \\sum_{n \\in \\mathbb{Z}} \\sigma^z_n \\sigma^z_{n+1} - g \\sum_{n \\in \\mathbb{Z}} \\sigma^x_n \\overset{J=1}{=} -\\sum_{n \\in \\mathbb{Z}} \\sigma^z_n \\sigma^z_{n+1} - g \\sum_{n \\in \\mathbb{Z}} \\sigma^x_n. $$\n",
    "\n",
    "$\\mathbb{Z}_2-\\mathrm{symmetry}$: $[H, U] = 0$ with $U = \\prod\\limits_n \\sigma^x_n$, local order parameter: magnetization density $\\langle \\sigma^z \\rangle$. <br> \n",
    "From connecting the two limits of the transverse field $g$ we expect the following quantum phase diagram:\n",
    "\n",
    "* Ferromagnetic phase $g < g_c$\n",
    "\t* two degenerate, symmetry broken ground states related by $U$ ($\\ket{...\\uparrow\\uparrow\\uparrow...}$ and $\\ket{...\\downarrow\\downarrow\\downarrow...}$ for $g = 0$)\n",
    "\t* $\\langle \\sigma^z \\rangle = \\pm m \\neq 0$ ($m = 1$ for $g = 0$)\n",
    "\t* elementary excitations: topological domain walls ($\\ket{...\\uparrow\\uparrow\\uparrow \\downarrow\\downarrow\\downarrow...}$ for $g = 0$)\n",
    "\n",
    "* Paramagnetic phase $g > g_c$\n",
    "\t* unique symmetric ground state ($\\ket{...\\rightarrow\\rightarrow\\rightarrow...}$ for $g \\to \\infty$)\n",
    "\t* $\\langle \\sigma^z \\rangle = 0$\n",
    "\t* elementary excitations: single spin flips ($\\ket{...\\rightarrow\\rightarrow \\leftarrow \\rightarrow\\rightarrow...}$ for $g \\to \\infty$)\n",
    "\n",
    "* Quantum phase transition at $g_c$\n",
    "\n",
    "\n",
    "By performing Jordan-Wigner, Fourier and Bogoliubov transformations, the TFI model (with PBC) can be diagonalized analytically. The Hamiltonian in terms of fermionic creation and annihilation operators $\\gamma_{p}^{\\dagger}$ and $\\gamma_{p}$ reads\n",
    "\n",
    "$$H = \\sum_{p} \\epsilon_p \\gamma_{p}^{\\dagger}\\gamma_{p} + E_0.$$\n",
    "\n",
    "Single particle excitation energy: $\\epsilon_p = 2 \\sqrt{1 - 2g\\cos(p) + g^2}$ $\\Rightarrow$ energy gap closes at quantum critical point $g_c = 1$.\n",
    "\n",
    "Ground state energy: $E_0 = -\\sum_{p} \\epsilon_p/2$ $\\Rightarrow$ ground state energy density in the thermodynamic limit: $e_0 = - \\frac{1}{2\\pi} \\int_{-\\pi}^{\\pi} \\epsilon_p/2$. [2]"
   ]
  },
  {
   "cell_type": "markdown",
   "id": "8d1c962e",
   "metadata": {},
   "source": [
    "## 2) `g_vumps.py`: Variational ground state search"
   ]
  },
  {
   "cell_type": "code",
   "execution_count": null,
   "id": "8a658a7a",
   "metadata": {},
   "outputs": [],
   "source": [
    "from tenpy_toycodes.b_model import TFIModel\n",
    "from tenpy_toycodes.tfi_exact import infinite_gs_energy\n",
    "\n",
    "from tenpy_toycodes.f_umps import UniformMPS\n",
    "from tenpy_toycodes.g_vumps import vumps_algorithm"
   ]
  },
  {
   "cell_type": "markdown",
   "id": "4bfe5f7d",
   "metadata": {},
   "source": [
    "For the transverse field Ising model in the thermodynamic limit, we want to find the ground state using the `vumps_algorithm`. \n",
    "\n",
    "* Investigate the convergence of the ground state energy density $e_0$ with the bond dimension $D$ by comparison to the exact value $e_{0, \\mathrm{exact}}$ from `tfi_exact.py`. Consider both the paramagnetic and ferromagnetic quantum phase."
   ]
  },
  {
   "cell_type": "code",
   "execution_count": null,
   "id": "27ef125e",
   "metadata": {},
   "outputs": [],
   "source": []
  },
  {
   "cell_type": "markdown",
   "id": "61775480",
   "metadata": {},
   "source": [
    "* Plot the ground state magnetization $m = \\vert \\langle \\sigma^z \\rangle \\vert$ against the transverse field $g$ to locate the quantum phase transition at $g_c = 1$."
   ]
  },
  {
   "cell_type": "code",
   "execution_count": null,
   "id": "3c8fdfa6",
   "metadata": {},
   "outputs": [],
   "source": []
  },
  {
   "cell_type": "markdown",
   "id": "0e3a7014",
   "metadata": {},
   "source": [
    "## 3) `h_utdvp.py`: Global quench dynamics"
   ]
  },
  {
   "cell_type": "code",
   "execution_count": null,
   "id": "4302f91a",
   "metadata": {},
   "outputs": [],
   "source": [
    "from tenpy_toycodes.b_model import TFIModel\n",
    "from tenpy_toycodes.c_tebd import example_TEBD_gs_tf_ising_infinite, calc_U_bonds, update_bond\n",
    "\n",
    "from tenpy_toycodes.f_umps import UniformMPS\n",
    "from tenpy_toycodes.g_vumps import vumps_algorithm\n",
    "from tenpy_toycodes.h_utdvp import utdvp_algorithm"
   ]
  },
  {
   "cell_type": "markdown",
   "id": "54918683",
   "metadata": {},
   "source": [
    "Consider the following global quench dynamics for the TFI model: the ground state for a value $g_1$ of the transverse field is time-evolved according to a different value $g_2$,\n",
    "\n",
    "$$ \\ket{\\psi(t)} = e^{-it H(g_2)} \\ket{\\psi_0(g_1)}. $$\n",
    "\n",
    "We want to implement this time evolution using the `utdvp_algorithm`. For benchmark we use iTEBD. The `run_TEBD` function in `c_tebd.py` relies on a first order Trotter decomposition. We want to improve this to second order:\n",
    "\n",
    "$$ H = H_{\\mathrm{odd}} + H_{\\mathrm{even}} \\Rightarrow U(dt) = e^{-i dt H_{\\mathrm{odd}}/2} e^{-i dt H_{\\mathrm{even}}} e^{-i dt H_{\\mathrm{odd}}/2} + \\mathcal{O}(dt^3).$$\n",
    "\n",
    "* Implement this improved scheme in a function `run_TEBD_second_order`. \n",
    "\n",
    "* Then write a function `itebd_global_quench` performing the global quench dynamics described above. Converge the method in bond dimension $D$ and time step $dt$."
   ]
  },
  {
   "cell_type": "code",
   "execution_count": null,
   "id": "f11ecbaa",
   "metadata": {},
   "outputs": [],
   "source": []
  },
  {
   "cell_type": "markdown",
   "id": "ca455bc2",
   "metadata": {},
   "source": [
    "* Analogous to `itebd_global_quench`, write a function `utdvp_global_quench` and make sure they give the same dynamics."
   ]
  },
  {
   "cell_type": "code",
   "execution_count": null,
   "id": "1a931017",
   "metadata": {},
   "outputs": [],
   "source": []
  },
  {
   "cell_type": "markdown",
   "id": "2fa12d56",
   "metadata": {},
   "source": [
    "## 4) `i_uexcitations.py`: Variational plane wave excitations "
   ]
  },
  {
   "cell_type": "code",
   "execution_count": null,
   "id": "52f91fbc",
   "metadata": {},
   "outputs": [],
   "source": [
    "from tenpy_toycodes.tfi_exact import infinite_gs_energy, infinite_excitation_dispersion\n",
    "from tenpy_toycodes.b_model import TFIModel\n",
    "\n",
    "from tenpy_toycodes.f_umps import UniformMPS\n",
    "from tenpy_toycodes.g_vumps import vumps_algorithm\n",
    "from tenpy_toycodes.i_uexcitations import VariationalPlaneWaveExcitationEngine"
   ]
  },
  {
   "cell_type": "markdown",
   "id": "35223575",
   "metadata": {},
   "source": [
    "By running the `VariationalPlaneWaveExcitationEngine`, we want to compute the single particle excitations $\\epsilon_p = 2 \\sqrt{1 - 2g\\cos(p) + g^2}$ on top of the TFI ground state.\n",
    "\n",
    "* For this write a function `get_tfi_spectrum`, returning both the variational dispersion relation and the exact one from `tfi_exact.py`. Actively target topological domain wall excitations for transverse field values $g < 1$."
   ]
  },
  {
   "cell_type": "code",
   "execution_count": null,
   "id": "c636f31e",
   "metadata": {},
   "outputs": [],
   "source": []
  }
 ],
 "metadata": {
  "kernelspec": {
   "display_name": "Python 3",
   "language": "python",
   "name": "python3"
  },
  "language_info": {
   "codemirror_mode": {
    "name": "ipython",
    "version": 3
   },
   "file_extension": ".py",
   "mimetype": "text/x-python",
   "name": "python",
   "nbconvert_exporter": "python",
   "pygments_lexer": "ipython3",
   "version": "3.12.7"
  }
 },
 "nbformat": 4,
 "nbformat_minor": 5
}
