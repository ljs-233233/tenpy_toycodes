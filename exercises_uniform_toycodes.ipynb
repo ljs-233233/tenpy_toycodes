{
 "cells": [
  {
   "cell_type": "markdown",
   "id": "20664216",
   "metadata": {},
   "source": [
    "# Uniform matrix product states in the thermodynamic limit - Exercises"
   ]
  },
  {
   "cell_type": "code",
   "execution_count": null,
   "id": "2a6affc1",
   "metadata": {},
   "outputs": [],
   "source": [
    "import numpy as np\n",
    "import matplotlib.pyplot as plt"
   ]
  },
  {
   "cell_type": "markdown",
   "id": "c1b9c9cf",
   "metadata": {},
   "source": [
    "## 1) `f_umps.py`: Random states and AKLT ground state"
   ]
  },
  {
   "cell_type": "code",
   "execution_count": null,
   "id": "e807aedc",
   "metadata": {},
   "outputs": [],
   "source": [
    "from tenpy_toycodes.f_umps import UniformMPS, TransferMatrix\n",
    "from tenpy_toycodes.a_mps import SimpleMPS"
   ]
  },
  {
   "cell_type": "markdown",
   "id": "4e071fef",
   "metadata": {},
   "source": [
    "### 1.1) Transfer matrix and canonical form of random injective tensor"
   ]
  },
  {
   "cell_type": "markdown",
   "id": "e0be6b6f",
   "metadata": {},
   "source": [
    "* Create a random tensor $A \\in \\mathbb{C}^{D \\times d \\times D}$ of physical dimension $d = 2$ and bond dimension $D = 4$."
   ]
  },
  {
   "cell_type": "code",
   "execution_count": null,
   "id": "ecebc5d6",
   "metadata": {},
   "outputs": [],
   "source": []
  },
  {
   "cell_type": "markdown",
   "id": "ae5eb45e",
   "metadata": {},
   "source": [
    "* Show that $A$ is injective, i.e. its `TransferMatrix` fulfills $T_A = \\vert R \\rangle \\langle L \\vert + \\mathcal{O}(\\vert \\lambda_2 \\vert)$ with $\\vert \\lambda_2 \\vert < 1$ and $R,L > 0$."
   ]
  },
  {
   "cell_type": "code",
   "execution_count": null,
   "id": "b163994a",
   "metadata": {},
   "outputs": [],
   "source": []
  },
  {
   "cell_type": "markdown",
   "id": "8e7a5f93",
   "metadata": {},
   "source": [
    "* Compute the canonical form of $A$, consisting of left/right orthonormal tensor $A_L / A_R$, center site tensor $A_C$, and center matrix $C$."
   ]
  },
  {
   "cell_type": "code",
   "execution_count": null,
   "id": "3e008d59",
   "metadata": {},
   "outputs": [],
   "source": []
  },
  {
   "cell_type": "markdown",
   "id": "a7398c6d",
   "metadata": {},
   "source": [
    "* Show that $T_{A_L} = \\vert R \\rangle \\langle \\mathbb{1} \\vert + \\mathcal{O}(\\vert \\lambda_2 \\vert)$ with $\\vert \\lambda_2 \\vert < 1$ and $R > 0$."
   ]
  },
  {
   "cell_type": "code",
   "execution_count": null,
   "id": "e951a918",
   "metadata": {},
   "outputs": [],
   "source": []
  },
  {
   "cell_type": "markdown",
   "id": "714e5c0b",
   "metadata": {},
   "source": [
    "* Show that $T_{A_R} = \\vert \\mathbb{1} \\rangle \\langle L \\vert + \\mathcal{O}(\\vert \\lambda_2 \\vert)$ with $\\vert \\lambda_2 \\vert < 1$ and $L > 0$."
   ]
  },
  {
   "cell_type": "code",
   "execution_count": null,
   "id": "84aa068a",
   "metadata": {},
   "outputs": [],
   "source": []
  },
  {
   "cell_type": "markdown",
   "id": "3fb68aaf",
   "metadata": {},
   "source": [
    "* Show that $A_C = A_L C = C A_R$."
   ]
  },
  {
   "cell_type": "code",
   "execution_count": null,
   "id": "d1f37696",
   "metadata": {},
   "outputs": [],
   "source": []
  },
  {
   "cell_type": "markdown",
   "id": "53fe5435",
   "metadata": {},
   "source": [
    "* Directly create a random `UniformMPS` (for different tolerances) and test its canonical form."
   ]
  },
  {
   "cell_type": "code",
   "execution_count": null,
   "id": "a06ed868",
   "metadata": {},
   "outputs": [],
   "source": []
  },
  {
   "cell_type": "markdown",
   "id": "a81f992c",
   "metadata": {},
   "source": [
    "### 1.2) AKLT state"
   ]
  },
  {
   "cell_type": "markdown",
   "id": "134b43b2",
   "metadata": {},
   "source": [
    "For the spin-1 matrices $S_x$, $S_y$ and $S_z$, we consider the two-site Hamiltonian matrix \n",
    "\n",
    "$$h = S_x \\otimes S_x + S_y \\otimes S_y + S_z \\otimes S_z + \\frac{1}{3}(S_x \\otimes S_x + S_y \\otimes S_y + S_z \\otimes S_z)^2 = 2P_{S=2}-2/3.$$\n",
    "\n",
    "The Hamiltonian for multiple sites then simply reads $H = \\sum_{n} h_{n, n+1}$. The eigenenergy is minimized (with a value of $-2/3$), if every bond has total spin $S = 0$ or $S = 1$. This is fulfilled by distributing spin-1/2 singlets between all neighbor-sites and projecting every site onto the $S = 1$ subspace. This is the AKLT state $\\vert \\psi_{\\mathrm{AKLT}} \\rangle$. A few lines derivation shows that it can be represented exactly by a uMPS $\\vert \\psi(A) \\rangle$ with left orthonormal tensor\n",
    "\n",
    "$$ A_L^{+1} = \\sqrt{\\frac{2}{3}}\\sigma^{+}, A_L^{0} = \\sqrt{\\frac{1}{3}}\\sigma^{z}, A_L^{-1} = -\\sqrt{\\frac{2}{3}}\\sigma^{-}. $$\n",
    "\n",
    "* Implement $h, h^2 \\in \\mathbb{C}^{3 \\times 3 \\times 3 \\times 3}$."
   ]
  },
  {
   "cell_type": "code",
   "execution_count": null,
   "id": "b7999d07",
   "metadata": {},
   "outputs": [],
   "source": []
  },
  {
   "cell_type": "markdown",
   "id": "b9317ef5",
   "metadata": {},
   "source": [
    "* Bring the above defined $A_L$ into canonical form and initialize $\\vert \\psi_{\\mathrm{AKLT}} \\rangle$ as a `UniformMPS`."
   ]
  },
  {
   "cell_type": "code",
   "execution_count": null,
   "id": "c479d341",
   "metadata": {},
   "outputs": [],
   "source": []
  },
  {
   "cell_type": "markdown",
   "id": "1b39fe00",
   "metadata": {},
   "source": [
    "Show the following properties of $\\vert \\psi_{\\mathrm{AKLT}} \\rangle$: \n",
    "* Ground state energy $e = \\langle h \\rangle = -2/3$, \n",
    "\n",
    "* Variance $\\langle h^2 \\rangle - \\langle h \\rangle^2 = 0$ (H is frustration free),\n",
    "\n",
    "* Entanglement entropy $S = \\ln(2) \\approx 0.6931471805599453$,\n",
    "\n",
    "* Correlation length $\\xi = -1/\\ln(\\vert \\lambda_2 \\vert) = -1/\\ln(1/3) = 1/\\ln 3 \\approx 0.9102392266268371$,\n",
    "\n",
    "* Connected correlation function $C(n) = \\langle S_z^0 S_z^n \\rangle - \\langle S_z \\rangle^2 \\rightarrow \\vert \\lambda_2 \\vert^{n-1}$."
   ]
  },
  {
   "cell_type": "code",
   "execution_count": null,
   "id": "9f462402",
   "metadata": {},
   "outputs": [],
   "source": []
  },
  {
   "cell_type": "markdown",
   "id": "b8a1c634",
   "metadata": {},
   "source": [
    "### 1.3) Conversions between uniform MPS and infinite MPS"
   ]
  },
  {
   "cell_type": "markdown",
   "id": "e778228e",
   "metadata": {},
   "source": [
    "* Convert the `UniformMPS` (uMPS) $\\vert \\psi_{\\mathrm{AKLT}} \\rangle$ to a `SimpleMPS(bc=\"infinite\")` (iMPS) and recheck the values of $e$, $S$, $\\xi$."
   ]
  },
  {
   "cell_type": "code",
   "execution_count": null,
   "id": "249303f7",
   "metadata": {},
   "outputs": [],
   "source": []
  },
  {
   "cell_type": "markdown",
   "id": "976073bf",
   "metadata": {},
   "source": [
    "* Denote by $B \\in \\mathbb{C}^{2 \\times 3 \\times 2}$ the right canonical tensor of $\\vert \\psi_{\\mathrm{AKLT}} \\rangle$ and by $U \\in \\mathbb{C}^{2 \\times 2}$ a random unitary. Show that the iMPS $\\vert\\psi(B_1, B_2)\\rangle$ with $B_1 = BU$ and $B_2 = U^*B$ is translation invariant and can be converted to a uMPS. Check that this is still the AKLT state."
   ]
  },
  {
   "cell_type": "code",
   "execution_count": null,
   "id": "a47a7ad6",
   "metadata": {},
   "outputs": [],
   "source": []
  },
  {
   "cell_type": "markdown",
   "id": "507d3d45",
   "metadata": {},
   "source": [
    "* For random right canonical tensors $B_1 \\in \\mathbb{C}^{D \\times d \\times D}$ and $B_2 \\in \\mathbb{C}^{D \\times d \\times D}$, show that the iMPS $\\vert\\psi(B_1, B_2)\\rangle$ is in general not translation invariant and cannot be converted to a uMPS."
   ]
  },
  {
   "cell_type": "code",
   "execution_count": null,
   "id": "d11ad991",
   "metadata": {},
   "outputs": [],
   "source": []
  },
  {
   "cell_type": "markdown",
   "id": "51271c16",
   "metadata": {},
   "source": [
    "## Transverse field Ising model\n",
    "\n",
    "In the following we want to use uMPS methods to find the ground state, elementary excitations and time-evolved states of the transverse field Ising (TFI) model \n",
    "\n",
    "$$ H = -J \\sum_n \\sigma^z_n \\sigma^z_{n+1} - g \\sum_n \\sigma^x_n \\overset{J=1}{=} -\\sum_n \\sigma^z_n \\sigma^z_{n+1} - g \\sum_n \\sigma^x_n. $$\n",
    "\n",
    "$\\mathbb{Z}_2-\\mathrm{symmetry}$: $[H, U] = 0$ with $U = \\prod\\limits_n \\sigma^x_n$.\n",
    "\n",
    "From connecting the two limits of the transverse field $g$ we expect the following quantum phase diagram:\n",
    "\n",
    "* Ferromagnetic phase $g < g_c$\n",
    "\t* two degenerate, symmetry broken ground states related by $U$ ($\\ket{...\\uparrow\\uparrow\\uparrow...}$ and $\\ket{...\\downarrow\\downarrow\\downarrow...}$ for $g = 0$)\n",
    "\t* nonzero local order parameter: magnetization $\\langle \\sigma^z \\rangle = \\pm m$ ($m = 1$ for $g = 0$)\n",
    "\t* elementary excitations: topological domain walls ($\\ket{...\\uparrow\\uparrow\\uparrow \\downarrow\\downarrow\\downarrow...}$ for $g = 0$)\n",
    "\n",
    "* Paramagnetic phase $g > g_c$\n",
    "\t* unique symmetric ground state ($\\ket{...\\rightarrow\\rightarrow\\rightarrow...}$ for $g \\to \\infty$)\n",
    "\t* zero magnetization $\\langle \\sigma^z \\rangle = 0$\n",
    "\t* elementary excitations: single spin flips ($\\ket{...\\rightarrow\\rightarrow \\leftarrow \\rightarrow\\rightarrow...}$ for $g \\to \\infty$)\n",
    "\n",
    "* Quantum phase transition at $g_c$\n",
    "\n",
    "\n",
    "By performing Jordan-Wigner, Fourier and Bogoliubov transformations, the TFI model can be diagonalized analytically. The Hamiltonian in terms of fermionic creation and annihilation operators $\\gamma_{p}^{\\dagger}$ and $\\gamma_{p}$ reads\n",
    "\n",
    "$$H = \\sum_{p} \\epsilon_p \\gamma_{p}^{\\dagger}\\gamma_{p} + E_0.$$\n",
    "\n",
    "Single particle excitation energy: $\\epsilon_p = 2 \\sqrt{1 - 2g\\cos(p) + g^2}$ $\\Rightarrow$ energy gap closes at quantum critical point $g_c = 1$.\n",
    "\n",
    "Ground state energy: $E_0 = -\\sum_{p} \\epsilon_p/2$ $\\Rightarrow$ ground state energy density in the thermodynamic limit: $e_0 = - \\frac{1}{2\\pi} \\int_{-\\pi}^{\\pi} \\epsilon_p/2$.\n",
    "\n",
    "(For details see Subir Sachdev, Quantum Phase Transitions, 2nd ed, Cambridge University Press, 2011)"
   ]
  },
  {
   "cell_type": "markdown",
   "id": "8d1c962e",
   "metadata": {},
   "source": [
    "## 2) `g_vumps.py`: Variational ground state search"
   ]
  },
  {
   "cell_type": "code",
   "execution_count": null,
   "id": "8a658a7a",
   "metadata": {},
   "outputs": [],
   "source": [
    "from tenpy_toycodes.b_model import TFIModel\n",
    "from tenpy_toycodes.tfi_exact import infinite_gs_energy\n",
    "\n",
    "from tenpy_toycodes.f_umps import UniformMPS\n",
    "from tenpy_toycodes.g_vumps import vumps_algorithm"
   ]
  },
  {
   "cell_type": "markdown",
   "id": "4bfe5f7d",
   "metadata": {},
   "source": [
    "For the transverse field Ising model in the thermodynamic limit, we want to find the ground state using the `vumps_algorithm`. \n",
    "\n",
    "* Investigate the convergence of the ground state energy density $e_0$ with the bond dimension $D$ by comparison to the exact value $e_{0, \\mathrm{exact}}$ from `tfi_exact.py`. Consider both the paramagnetic and ferromagnetic quantum phase."
   ]
  },
  {
   "cell_type": "code",
   "execution_count": null,
   "id": "27ef125e",
   "metadata": {},
   "outputs": [],
   "source": []
  },
  {
   "cell_type": "markdown",
   "id": "61775480",
   "metadata": {},
   "source": [
    "* Plot the ground state magnetization $m = \\vert \\langle \\sigma^z \\rangle \\vert$ against the transverse field $g$ to locate the quantum phase transition at $g_c = 1$."
   ]
  },
  {
   "cell_type": "code",
   "execution_count": null,
   "id": "3c8fdfa6",
   "metadata": {},
   "outputs": [],
   "source": []
  },
  {
   "cell_type": "markdown",
   "id": "0e3a7014",
   "metadata": {},
   "source": [
    "## 3) `h_utdvp.py`: Global quench dynamics"
   ]
  },
  {
   "cell_type": "code",
   "execution_count": null,
   "id": "4302f91a",
   "metadata": {},
   "outputs": [],
   "source": [
    "from tenpy_toycodes.b_model import TFIModel\n",
    "from tenpy_toycodes.c_tebd import example_TEBD_gs_tf_ising_infinite, calc_U_bonds, update_bond\n",
    "\n",
    "from tenpy_toycodes.f_umps import UniformMPS\n",
    "from tenpy_toycodes.g_vumps import vumps_algorithm\n",
    "from tenpy_toycodes.h_utdvp import utdvp_algorithm"
   ]
  },
  {
   "cell_type": "markdown",
   "id": "54918683",
   "metadata": {},
   "source": [
    "Consider the following global quench dynamics for the TFI model: the ground state for a value $g_1$ of the transverse field is time-evolved according to a different value $g_2$,\n",
    "\n",
    "$$ \\ket{\\psi(t)} = e^{-it H(g_2)} \\ket{\\psi_0(g_1)}. $$\n",
    "\n",
    "We want to implement this time evolution using the `utdvp_algorithm`. For benchmark we use iTEBD. The `run_TEBD` function in `c_tebd.py` relies on a first order Trotter decomposition. We want to improve this to second order:\n",
    "\n",
    "$$ H = H_{\\mathrm{odd}} + H_{\\mathrm{even}} \\Rightarrow U(dt) = e^{-i dt H_{\\mathrm{odd}}/2} e^{-i dt H_{\\mathrm{even}}} e^{-i dt H_{\\mathrm{odd}}/2} + \\mathcal{O}(dt^3).$$\n",
    "\n",
    "* Implement this improved scheme in a function `run_TEBD_second_order`. \n",
    "\n",
    "* Then write a function `itebd_global_quench` performing the global quench dynamics described above. Converge the method in bond dimension $D$ and time step $dt$."
   ]
  },
  {
   "cell_type": "code",
   "execution_count": null,
   "id": "f11ecbaa",
   "metadata": {},
   "outputs": [],
   "source": []
  },
  {
   "cell_type": "markdown",
   "id": "ca455bc2",
   "metadata": {},
   "source": [
    "* Analogous to `itebd_global_quench`, write a function `utdvp_global_quench` and make sure they give the same dynamics."
   ]
  },
  {
   "cell_type": "code",
   "execution_count": null,
   "id": "1a931017",
   "metadata": {},
   "outputs": [],
   "source": []
  },
  {
   "cell_type": "markdown",
   "id": "2fa12d56",
   "metadata": {},
   "source": [
    "## 4) `i_uexcitations.py`: Variational plane wave excitations "
   ]
  },
  {
   "cell_type": "code",
   "execution_count": null,
   "id": "52f91fbc",
   "metadata": {},
   "outputs": [],
   "source": [
    "from tenpy_toycodes.tfi_exact import infinite_gs_energy, infinite_excitation_dispersion\n",
    "from tenpy_toycodes.b_model import TFIModel\n",
    "\n",
    "from tenpy_toycodes.f_umps import UniformMPS\n",
    "from tenpy_toycodes.g_vumps import vumps_algorithm\n",
    "from tenpy_toycodes.i_uexcitations import VariationalPlaneWaveExcitationEngine"
   ]
  },
  {
   "cell_type": "markdown",
   "id": "35223575",
   "metadata": {},
   "source": [
    "By running the `VariationalPlaneWaveExcitationEngine`, we want to compute the single particle excitations $\\epsilon_p = 2 \\sqrt{1 - 2g\\cos(p) + g^2}$ on top of the TFI ground state.\n",
    "\n",
    "* For this write a function `get_tfi_spectrum`, returning both the variational dispersion relation and the exact one from `tfi_exact.py`. Actively target topological domain wall excitations for transverse field values $g < 1$."
   ]
  },
  {
   "cell_type": "code",
   "execution_count": null,
   "id": "c636f31e",
   "metadata": {},
   "outputs": [],
   "source": []
  }
 ],
 "metadata": {
  "kernelspec": {
   "display_name": "Python 3",
   "language": "python",
   "name": "python3"
  },
  "language_info": {
   "codemirror_mode": {
    "name": "ipython",
    "version": 3
   },
   "file_extension": ".py",
   "mimetype": "text/x-python",
   "name": "python",
   "nbconvert_exporter": "python",
   "pygments_lexer": "ipython3",
   "version": "3.12.7"
  }
 },
 "nbformat": 4,
 "nbformat_minor": 5
}
